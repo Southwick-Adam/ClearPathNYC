{
 "cells": [
  {
   "cell_type": "code",
   "execution_count": 1,
   "id": "9154b9ef",
   "metadata": {
    "ExecuteTime": {
     "end_time": "2024-06-21T11:41:27.988441Z",
     "start_time": "2024-06-21T11:41:27.148091Z"
    }
   },
   "outputs": [],
   "source": [
    "import pandas as pd\n",
    "import matplotlib.pyplot as plt"
   ]
  },
  {
   "cell_type": "code",
   "execution_count": 2,
   "id": "81664043",
   "metadata": {
    "ExecuteTime": {
     "end_time": "2024-06-21T11:41:47.671574Z",
     "start_time": "2024-06-21T11:41:27.989252Z"
    }
   },
   "outputs": [
    {
     "name": "stderr",
     "output_type": "stream",
     "text": [
      "/var/folders/8v/myv9ql5d1lg4ct7vbb0zh8000000gn/T/ipykernel_29307/2629346002.py:1: DtypeWarning: Columns (2) have mixed types. Specify dtype option on import or set low_memory=False.\n",
      "  df = pd.read_csv('Subway_Data.csv')\n"
     ]
    },
    {
     "name": "stdout",
     "output_type": "stream",
     "text": [
      "Number of Rows: 18116710 \n",
      "Number of Columns: 15\n"
     ]
    }
   ],
   "source": [
    "df = pd.read_csv('Subway_Data.csv')\n",
    "rows, cols = df.shape\n",
    "print(\"Number of Rows:\", rows, \"\\nNumber of Columns:\", cols)"
   ]
  },
  {
   "cell_type": "code",
   "execution_count": 3,
   "id": "094ce15b",
   "metadata": {
    "ExecuteTime": {
     "end_time": "2024-06-21T11:41:47.684043Z",
     "start_time": "2024-06-21T11:41:47.673220Z"
    }
   },
   "outputs": [
    {
     "data": {
      "text/html": [
       "<div>\n",
       "<style scoped>\n",
       "    .dataframe tbody tr th:only-of-type {\n",
       "        vertical-align: middle;\n",
       "    }\n",
       "\n",
       "    .dataframe tbody tr th {\n",
       "        vertical-align: top;\n",
       "    }\n",
       "\n",
       "    .dataframe thead th {\n",
       "        text-align: right;\n",
       "    }\n",
       "</style>\n",
       "<table border=\"1\" class=\"dataframe\">\n",
       "  <thead>\n",
       "    <tr style=\"text-align: right;\">\n",
       "      <th></th>\n",
       "      <th>transit_timestamp</th>\n",
       "      <th>transit_mode</th>\n",
       "      <th>station_complex_id</th>\n",
       "      <th>station_complex</th>\n",
       "      <th>borough</th>\n",
       "      <th>payment_method</th>\n",
       "      <th>fare_class_category</th>\n",
       "      <th>ridership</th>\n",
       "      <th>transfers</th>\n",
       "      <th>latitude</th>\n",
       "      <th>longitude</th>\n",
       "      <th>Georeference</th>\n",
       "      <th>Counties</th>\n",
       "      <th>NYS Municipal Boundaries</th>\n",
       "      <th>New York Zip Codes</th>\n",
       "    </tr>\n",
       "  </thead>\n",
       "  <tbody>\n",
       "    <tr>\n",
       "      <th>0</th>\n",
       "      <td>12/15/2022 06:00:00 AM</td>\n",
       "      <td>subway</td>\n",
       "      <td>225</td>\n",
       "      <td>47-50 Sts-Rockefeller Ctr (B,D,F,M)</td>\n",
       "      <td>Manhattan</td>\n",
       "      <td>metrocard</td>\n",
       "      <td>Metrocard - Other</td>\n",
       "      <td>2</td>\n",
       "      <td>0</td>\n",
       "      <td>40.758663</td>\n",
       "      <td>-73.981331</td>\n",
       "      <td>POINT (-73.98133087158203 40.758663177490234)</td>\n",
       "      <td>2095</td>\n",
       "      <td>749</td>\n",
       "      <td>743.0</td>\n",
       "    </tr>\n",
       "    <tr>\n",
       "      <th>1</th>\n",
       "      <td>06/16/2022 01:00:00 AM</td>\n",
       "      <td>subway</td>\n",
       "      <td>225</td>\n",
       "      <td>47-50 Sts-Rockefeller Ctr (B,D,F,M)</td>\n",
       "      <td>Manhattan</td>\n",
       "      <td>metrocard</td>\n",
       "      <td>Metrocard - Full Fare</td>\n",
       "      <td>59</td>\n",
       "      <td>0</td>\n",
       "      <td>40.758663</td>\n",
       "      <td>-73.981331</td>\n",
       "      <td>POINT (-73.98133087158203 40.758663177490234)</td>\n",
       "      <td>2095</td>\n",
       "      <td>749</td>\n",
       "      <td>743.0</td>\n",
       "    </tr>\n",
       "    <tr>\n",
       "      <th>2</th>\n",
       "      <td>04/17/2022 05:00:00 PM</td>\n",
       "      <td>subway</td>\n",
       "      <td>225</td>\n",
       "      <td>47-50 Sts-Rockefeller Ctr (B,D,F,M)</td>\n",
       "      <td>Manhattan</td>\n",
       "      <td>metrocard</td>\n",
       "      <td>Metrocard - Other</td>\n",
       "      <td>21</td>\n",
       "      <td>0</td>\n",
       "      <td>40.758663</td>\n",
       "      <td>-73.981331</td>\n",
       "      <td>POINT (-73.98133087158203 40.758663177490234)</td>\n",
       "      <td>2095</td>\n",
       "      <td>749</td>\n",
       "      <td>743.0</td>\n",
       "    </tr>\n",
       "    <tr>\n",
       "      <th>3</th>\n",
       "      <td>04/13/2022 07:00:00 PM</td>\n",
       "      <td>subway</td>\n",
       "      <td>225</td>\n",
       "      <td>47-50 Sts-Rockefeller Ctr (B,D,F,M)</td>\n",
       "      <td>Manhattan</td>\n",
       "      <td>metrocard</td>\n",
       "      <td>Metrocard - Full Fare</td>\n",
       "      <td>744</td>\n",
       "      <td>4</td>\n",
       "      <td>40.758663</td>\n",
       "      <td>-73.981331</td>\n",
       "      <td>POINT (-73.98133087158203 40.758663177490234)</td>\n",
       "      <td>2095</td>\n",
       "      <td>749</td>\n",
       "      <td>743.0</td>\n",
       "    </tr>\n",
       "    <tr>\n",
       "      <th>4</th>\n",
       "      <td>12/03/2022 05:00:00 PM</td>\n",
       "      <td>subway</td>\n",
       "      <td>225</td>\n",
       "      <td>47-50 Sts-Rockefeller Ctr (B,D,F,M)</td>\n",
       "      <td>Manhattan</td>\n",
       "      <td>metrocard</td>\n",
       "      <td>Metrocard - Other</td>\n",
       "      <td>85</td>\n",
       "      <td>0</td>\n",
       "      <td>40.758663</td>\n",
       "      <td>-73.981331</td>\n",
       "      <td>POINT (-73.98133087158203 40.758663177490234)</td>\n",
       "      <td>2095</td>\n",
       "      <td>749</td>\n",
       "      <td>743.0</td>\n",
       "    </tr>\n",
       "    <tr>\n",
       "      <th>...</th>\n",
       "      <td>...</td>\n",
       "      <td>...</td>\n",
       "      <td>...</td>\n",
       "      <td>...</td>\n",
       "      <td>...</td>\n",
       "      <td>...</td>\n",
       "      <td>...</td>\n",
       "      <td>...</td>\n",
       "      <td>...</td>\n",
       "      <td>...</td>\n",
       "      <td>...</td>\n",
       "      <td>...</td>\n",
       "      <td>...</td>\n",
       "      <td>...</td>\n",
       "      <td>...</td>\n",
       "    </tr>\n",
       "    <tr>\n",
       "      <th>18116705</th>\n",
       "      <td>06/01/2024 09:00:00 PM</td>\n",
       "      <td>subway</td>\n",
       "      <td>314</td>\n",
       "      <td>66 St-Lincoln Center (1)</td>\n",
       "      <td>Manhattan</td>\n",
       "      <td>metrocard</td>\n",
       "      <td>Metrocard - Seniors &amp; Disability</td>\n",
       "      <td>70</td>\n",
       "      <td>2</td>\n",
       "      <td>40.773440</td>\n",
       "      <td>-73.982210</td>\n",
       "      <td>POINT (-73.98221 40.77344)</td>\n",
       "      <td>2095</td>\n",
       "      <td>749</td>\n",
       "      <td>750.0</td>\n",
       "    </tr>\n",
       "    <tr>\n",
       "      <th>18116706</th>\n",
       "      <td>06/01/2024 01:00:00 PM</td>\n",
       "      <td>subway</td>\n",
       "      <td>225</td>\n",
       "      <td>47-50 Sts-Rockefeller Ctr (B,D,F,M)</td>\n",
       "      <td>Manhattan</td>\n",
       "      <td>metrocard</td>\n",
       "      <td>Metrocard - Seniors &amp; Disability</td>\n",
       "      <td>25</td>\n",
       "      <td>0</td>\n",
       "      <td>40.758663</td>\n",
       "      <td>-73.981330</td>\n",
       "      <td>POINT (-73.98133 40.758663)</td>\n",
       "      <td>2095</td>\n",
       "      <td>749</td>\n",
       "      <td>743.0</td>\n",
       "    </tr>\n",
       "    <tr>\n",
       "      <th>18116707</th>\n",
       "      <td>06/01/2024 05:00:00 PM</td>\n",
       "      <td>subway</td>\n",
       "      <td>477</td>\n",
       "      <td>72 St (Q)</td>\n",
       "      <td>Manhattan</td>\n",
       "      <td>metrocard</td>\n",
       "      <td>Metrocard - Unlimited 7-Day</td>\n",
       "      <td>39</td>\n",
       "      <td>0</td>\n",
       "      <td>40.768800</td>\n",
       "      <td>-73.958430</td>\n",
       "      <td>POINT (-73.95843 40.7688)</td>\n",
       "      <td>2095</td>\n",
       "      <td>749</td>\n",
       "      <td>744.0</td>\n",
       "    </tr>\n",
       "    <tr>\n",
       "      <th>18116708</th>\n",
       "      <td>06/01/2024 09:00:00 AM</td>\n",
       "      <td>subway</td>\n",
       "      <td>404</td>\n",
       "      <td>28 St (6)</td>\n",
       "      <td>Manhattan</td>\n",
       "      <td>omny</td>\n",
       "      <td>OMNY - Full Fare</td>\n",
       "      <td>173</td>\n",
       "      <td>1</td>\n",
       "      <td>40.743070</td>\n",
       "      <td>-73.984260</td>\n",
       "      <td>POINT (-73.98426 40.74307)</td>\n",
       "      <td>2095</td>\n",
       "      <td>749</td>\n",
       "      <td>739.0</td>\n",
       "    </tr>\n",
       "    <tr>\n",
       "      <th>18116709</th>\n",
       "      <td>06/01/2024 01:00:00 AM</td>\n",
       "      <td>subway</td>\n",
       "      <td>169</td>\n",
       "      <td>Canal St (A,C,E)</td>\n",
       "      <td>Manhattan</td>\n",
       "      <td>metrocard</td>\n",
       "      <td>Metrocard - Unlimited 7-Day</td>\n",
       "      <td>13</td>\n",
       "      <td>0</td>\n",
       "      <td>40.720825</td>\n",
       "      <td>-74.005226</td>\n",
       "      <td>POINT (-74.005226 40.720825)</td>\n",
       "      <td>2095</td>\n",
       "      <td>749</td>\n",
       "      <td>737.0</td>\n",
       "    </tr>\n",
       "  </tbody>\n",
       "</table>\n",
       "<p>18116710 rows × 15 columns</p>\n",
       "</div>"
      ],
      "text/plain": [
       "               transit_timestamp transit_mode station_complex_id  \\\n",
       "0         12/15/2022 06:00:00 AM       subway                225   \n",
       "1         06/16/2022 01:00:00 AM       subway                225   \n",
       "2         04/17/2022 05:00:00 PM       subway                225   \n",
       "3         04/13/2022 07:00:00 PM       subway                225   \n",
       "4         12/03/2022 05:00:00 PM       subway                225   \n",
       "...                          ...          ...                ...   \n",
       "18116705  06/01/2024 09:00:00 PM       subway                314   \n",
       "18116706  06/01/2024 01:00:00 PM       subway                225   \n",
       "18116707  06/01/2024 05:00:00 PM       subway                477   \n",
       "18116708  06/01/2024 09:00:00 AM       subway                404   \n",
       "18116709  06/01/2024 01:00:00 AM       subway                169   \n",
       "\n",
       "                              station_complex    borough payment_method  \\\n",
       "0         47-50 Sts-Rockefeller Ctr (B,D,F,M)  Manhattan      metrocard   \n",
       "1         47-50 Sts-Rockefeller Ctr (B,D,F,M)  Manhattan      metrocard   \n",
       "2         47-50 Sts-Rockefeller Ctr (B,D,F,M)  Manhattan      metrocard   \n",
       "3         47-50 Sts-Rockefeller Ctr (B,D,F,M)  Manhattan      metrocard   \n",
       "4         47-50 Sts-Rockefeller Ctr (B,D,F,M)  Manhattan      metrocard   \n",
       "...                                       ...        ...            ...   \n",
       "18116705             66 St-Lincoln Center (1)  Manhattan      metrocard   \n",
       "18116706  47-50 Sts-Rockefeller Ctr (B,D,F,M)  Manhattan      metrocard   \n",
       "18116707                            72 St (Q)  Manhattan      metrocard   \n",
       "18116708                            28 St (6)  Manhattan           omny   \n",
       "18116709                     Canal St (A,C,E)  Manhattan      metrocard   \n",
       "\n",
       "                       fare_class_category  ridership  transfers   latitude  \\\n",
       "0                        Metrocard - Other          2          0  40.758663   \n",
       "1                    Metrocard - Full Fare         59          0  40.758663   \n",
       "2                        Metrocard - Other         21          0  40.758663   \n",
       "3                    Metrocard - Full Fare        744          4  40.758663   \n",
       "4                        Metrocard - Other         85          0  40.758663   \n",
       "...                                    ...        ...        ...        ...   \n",
       "18116705  Metrocard - Seniors & Disability         70          2  40.773440   \n",
       "18116706  Metrocard - Seniors & Disability         25          0  40.758663   \n",
       "18116707       Metrocard - Unlimited 7-Day         39          0  40.768800   \n",
       "18116708                  OMNY - Full Fare        173          1  40.743070   \n",
       "18116709       Metrocard - Unlimited 7-Day         13          0  40.720825   \n",
       "\n",
       "          longitude                                   Georeference  Counties  \\\n",
       "0        -73.981331  POINT (-73.98133087158203 40.758663177490234)      2095   \n",
       "1        -73.981331  POINT (-73.98133087158203 40.758663177490234)      2095   \n",
       "2        -73.981331  POINT (-73.98133087158203 40.758663177490234)      2095   \n",
       "3        -73.981331  POINT (-73.98133087158203 40.758663177490234)      2095   \n",
       "4        -73.981331  POINT (-73.98133087158203 40.758663177490234)      2095   \n",
       "...             ...                                            ...       ...   \n",
       "18116705 -73.982210                     POINT (-73.98221 40.77344)      2095   \n",
       "18116706 -73.981330                    POINT (-73.98133 40.758663)      2095   \n",
       "18116707 -73.958430                      POINT (-73.95843 40.7688)      2095   \n",
       "18116708 -73.984260                     POINT (-73.98426 40.74307)      2095   \n",
       "18116709 -74.005226                   POINT (-74.005226 40.720825)      2095   \n",
       "\n",
       "          NYS Municipal Boundaries  New York Zip Codes  \n",
       "0                              749               743.0  \n",
       "1                              749               743.0  \n",
       "2                              749               743.0  \n",
       "3                              749               743.0  \n",
       "4                              749               743.0  \n",
       "...                            ...                 ...  \n",
       "18116705                       749               750.0  \n",
       "18116706                       749               743.0  \n",
       "18116707                       749               744.0  \n",
       "18116708                       749               739.0  \n",
       "18116709                       749               737.0  \n",
       "\n",
       "[18116710 rows x 15 columns]"
      ]
     },
     "execution_count": 3,
     "metadata": {},
     "output_type": "execute_result"
    }
   ],
   "source": [
    "df"
   ]
  },
  {
   "cell_type": "code",
   "execution_count": 4,
   "id": "6efe35b2",
   "metadata": {
    "ExecuteTime": {
     "end_time": "2024-06-21T11:41:50.311829Z",
     "start_time": "2024-06-21T11:41:47.685381Z"
    }
   },
   "outputs": [
    {
     "data": {
      "text/html": [
       "<div>\n",
       "<style scoped>\n",
       "    .dataframe tbody tr th:only-of-type {\n",
       "        vertical-align: middle;\n",
       "    }\n",
       "\n",
       "    .dataframe tbody tr th {\n",
       "        vertical-align: top;\n",
       "    }\n",
       "\n",
       "    .dataframe thead th {\n",
       "        text-align: right;\n",
       "    }\n",
       "</style>\n",
       "<table border=\"1\" class=\"dataframe\">\n",
       "  <thead>\n",
       "    <tr style=\"text-align: right;\">\n",
       "      <th></th>\n",
       "      <th>dtype</th>\n",
       "      <th>missing_values</th>\n",
       "    </tr>\n",
       "  </thead>\n",
       "  <tbody>\n",
       "    <tr>\n",
       "      <th>transit_timestamp</th>\n",
       "      <td>object</td>\n",
       "      <td>0</td>\n",
       "    </tr>\n",
       "    <tr>\n",
       "      <th>transit_mode</th>\n",
       "      <td>object</td>\n",
       "      <td>0</td>\n",
       "    </tr>\n",
       "    <tr>\n",
       "      <th>station_complex_id</th>\n",
       "      <td>object</td>\n",
       "      <td>0</td>\n",
       "    </tr>\n",
       "    <tr>\n",
       "      <th>station_complex</th>\n",
       "      <td>object</td>\n",
       "      <td>0</td>\n",
       "    </tr>\n",
       "    <tr>\n",
       "      <th>borough</th>\n",
       "      <td>object</td>\n",
       "      <td>0</td>\n",
       "    </tr>\n",
       "    <tr>\n",
       "      <th>payment_method</th>\n",
       "      <td>object</td>\n",
       "      <td>0</td>\n",
       "    </tr>\n",
       "    <tr>\n",
       "      <th>fare_class_category</th>\n",
       "      <td>object</td>\n",
       "      <td>0</td>\n",
       "    </tr>\n",
       "    <tr>\n",
       "      <th>ridership</th>\n",
       "      <td>int64</td>\n",
       "      <td>0</td>\n",
       "    </tr>\n",
       "    <tr>\n",
       "      <th>transfers</th>\n",
       "      <td>int64</td>\n",
       "      <td>0</td>\n",
       "    </tr>\n",
       "    <tr>\n",
       "      <th>latitude</th>\n",
       "      <td>float64</td>\n",
       "      <td>0</td>\n",
       "    </tr>\n",
       "    <tr>\n",
       "      <th>longitude</th>\n",
       "      <td>float64</td>\n",
       "      <td>0</td>\n",
       "    </tr>\n",
       "    <tr>\n",
       "      <th>Georeference</th>\n",
       "      <td>object</td>\n",
       "      <td>0</td>\n",
       "    </tr>\n",
       "    <tr>\n",
       "      <th>Counties</th>\n",
       "      <td>int64</td>\n",
       "      <td>0</td>\n",
       "    </tr>\n",
       "    <tr>\n",
       "      <th>NYS Municipal Boundaries</th>\n",
       "      <td>int64</td>\n",
       "      <td>0</td>\n",
       "    </tr>\n",
       "    <tr>\n",
       "      <th>New York Zip Codes</th>\n",
       "      <td>float64</td>\n",
       "      <td>1238501</td>\n",
       "    </tr>\n",
       "  </tbody>\n",
       "</table>\n",
       "</div>"
      ],
      "text/plain": [
       "                            dtype  missing_values\n",
       "transit_timestamp          object               0\n",
       "transit_mode               object               0\n",
       "station_complex_id         object               0\n",
       "station_complex            object               0\n",
       "borough                    object               0\n",
       "payment_method             object               0\n",
       "fare_class_category        object               0\n",
       "ridership                   int64               0\n",
       "transfers                   int64               0\n",
       "latitude                  float64               0\n",
       "longitude                 float64               0\n",
       "Georeference               object               0\n",
       "Counties                    int64               0\n",
       "NYS Municipal Boundaries    int64               0\n",
       "New York Zip Codes        float64         1238501"
      ]
     },
     "execution_count": 4,
     "metadata": {},
     "output_type": "execute_result"
    }
   ],
   "source": [
    "dtype_info = df.dtypes\n",
    "missing_values_info = df.isna().sum()\n",
    "\n",
    "info_table = pd.DataFrame({\n",
    "    'dtype': dtype_info,\n",
    "    'missing_values': missing_values_info\n",
    "})\n",
    "\n",
    "info_table"
   ]
  },
  {
   "cell_type": "code",
   "execution_count": 5,
   "id": "904c5d05",
   "metadata": {
    "ExecuteTime": {
     "end_time": "2024-06-21T11:41:58.363973Z",
     "start_time": "2024-06-21T11:41:50.312690Z"
    }
   },
   "outputs": [
    {
     "name": "stdout",
     "output_type": "stream",
     "text": [
      "Number of duplicate rows before duplicates dropped: 0\n"
     ]
    }
   ],
   "source": [
    "# Check for duplicate rows\n",
    "print('Number of duplicate rows before duplicates dropped:', df.duplicated().sum())"
   ]
  },
  {
   "cell_type": "markdown",
   "id": "7c17276a",
   "metadata": {},
   "source": [
    "**Separate datetime**"
   ]
  },
  {
   "cell_type": "code",
   "execution_count": 6,
   "id": "31e1b7b5",
   "metadata": {
    "ExecuteTime": {
     "end_time": "2024-06-21T11:42:21.855275Z",
     "start_time": "2024-06-21T11:41:58.365595Z"
    }
   },
   "outputs": [],
   "source": [
    "df['transit_timestamp'] = pd.to_datetime(df['transit_timestamp'])"
   ]
  },
  {
   "cell_type": "code",
   "execution_count": 7,
   "id": "d97ed119",
   "metadata": {
    "ExecuteTime": {
     "end_time": "2024-06-21T11:42:25.849744Z",
     "start_time": "2024-06-21T11:42:21.856149Z"
    }
   },
   "outputs": [],
   "source": [
    "df['day'] = df['transit_timestamp'].dt.dayofweek\n",
    "df['month'] = df['transit_timestamp'].dt.month\n",
    "df['year'] = df['transit_timestamp'].dt.year\n",
    "df['hour'] = df['transit_timestamp'].dt.hour\n",
    "\n",
    "df.drop(columns=['transit_timestamp'], inplace=True)"
   ]
  },
  {
   "cell_type": "code",
   "execution_count": 8,
   "id": "0cf7cd40",
   "metadata": {
    "ExecuteTime": {
     "end_time": "2024-06-21T11:42:26.036475Z",
     "start_time": "2024-06-21T11:42:25.851752Z"
    }
   },
   "outputs": [
    {
     "name": "stdout",
     "output_type": "stream",
     "text": [
      "{'day': [0, 1, 2, 3, 4, 5, 6], 'month': [1, 2, 3, 4, 5, 6, 7, 8, 9, 10, 11, 12], 'year': [2022, 2023, 2024], 'hour': [0, 1, 2, 3, 4, 5, 6, 7, 8, 9, 10, 11, 12, 13, 14, 15, 16, 17, 18, 19, 20, 21, 22, 23]}\n"
     ]
    }
   ],
   "source": [
    "unique_values = {\n",
    "    'day': sorted(df['day'].unique()),\n",
    "    'month': sorted(df['month'].unique()),\n",
    "    'year': sorted(df['year'].unique()),\n",
    "    'hour': sorted(df['hour'].unique())\n",
    "}\n",
    "\n",
    "print(unique_values)"
   ]
  },
  {
   "cell_type": "markdown",
   "id": "fd0e0631",
   "metadata": {},
   "source": [
    "**Remove features**"
   ]
  },
  {
   "cell_type": "code",
   "execution_count": 9,
   "id": "ea53769e",
   "metadata": {
    "ExecuteTime": {
     "end_time": "2024-06-21T11:42:26.797679Z",
     "start_time": "2024-06-21T11:42:26.037257Z"
    }
   },
   "outputs": [],
   "source": [
    "df.drop(columns=['transit_mode', 'borough', 'payment_method', 'fare_class_category', 'transfers', 'Georeference', 'Counties', 'NYS Municipal Boundaries', 'New York Zip Codes'], inplace=True)"
   ]
  },
  {
   "cell_type": "markdown",
   "id": "27aeeb89",
   "metadata": {},
   "source": [
    "**Station Complex data**  \n",
    "Unique lat and lon values are different to number of stations"
   ]
  },
  {
   "cell_type": "code",
   "execution_count": 10,
   "id": "b2a39095",
   "metadata": {
    "ExecuteTime": {
     "end_time": "2024-06-21T11:42:27.634944Z",
     "start_time": "2024-06-21T11:42:26.798503Z"
    }
   },
   "outputs": [
    {
     "name": "stdout",
     "output_type": "stream",
     "text": [
      "123 123\n",
      "293 294\n"
     ]
    }
   ],
   "source": [
    "nunique_station_id = df['station_complex_id'].nunique()\n",
    "nunique_station_id = df['station_complex'].nunique()\n",
    "\n",
    "nunique_lat = df['latitude'].nunique()\n",
    "nunique_lon = df['longitude'].nunique()\n",
    "\n",
    "print(nunique_station_id, nunique_station_id)\n",
    "print(nunique_lat, nunique_lon)"
   ]
  },
  {
   "cell_type": "markdown",
   "id": "5fb6a882",
   "metadata": {},
   "source": [
    "**Check case where different values**"
   ]
  },
  {
   "cell_type": "code",
   "execution_count": 11,
   "id": "74dcfbbc",
   "metadata": {
    "ExecuteTime": {
     "end_time": "2024-06-21T11:42:28.113591Z",
     "start_time": "2024-06-21T11:42:27.635712Z"
    },
    "scrolled": true
   },
   "outputs": [
    {
     "name": "stdout",
     "output_type": "stream",
     "text": [
      "2 [-73.98133    -73.98133087]\n",
      "2 [40.758663   40.75866318]\n"
     ]
    }
   ],
   "source": [
    "df_complex = df[df['station_complex_id'] == '225']\n",
    "\n",
    "nunique_lon_rock = df_complex['longitude'].nunique()\n",
    "unique_lon_rock = df_complex['longitude'].unique()\n",
    "\n",
    "nunique_lat_rock = df_complex['latitude'].nunique()\n",
    "unique_lat_rock = df_complex['latitude'].unique()\n",
    "\n",
    "print(nunique_lon_rock, unique_lon_rock)\n",
    "print(nunique_lat_rock, unique_lat_rock)"
   ]
  },
  {
   "cell_type": "markdown",
   "id": "7cf1bd68",
   "metadata": {},
   "source": [
    "**First round on df_complex dataset to analyse result**"
   ]
  },
  {
   "cell_type": "code",
   "execution_count": 12,
   "id": "9874456a",
   "metadata": {
    "ExecuteTime": {
     "end_time": "2024-06-21T11:42:28.118726Z",
     "start_time": "2024-06-21T11:42:28.114361Z"
    }
   },
   "outputs": [
    {
     "name": "stdout",
     "output_type": "stream",
     "text": [
      "1 [-73.98133]\n",
      "1 [40.75866]\n"
     ]
    }
   ],
   "source": [
    "df_complex.loc[:, 'latitude'] = df_complex['latitude'].round(5)\n",
    "df_complex.loc[:, 'longitude'] = df_complex['longitude'].round(5)\n",
    "\n",
    "nunique_lon_rock = df_complex['longitude'].nunique()\n",
    "unique_lon_rock = df_complex['longitude'].unique()\n",
    "\n",
    "nunique_lat_rock = df_complex['latitude'].nunique()\n",
    "unique_lat_rock = df_complex['latitude'].unique()\n",
    "\n",
    "print(nunique_lon_rock, unique_lon_rock)\n",
    "print(nunique_lat_rock, unique_lat_rock)"
   ]
  },
  {
   "cell_type": "markdown",
   "id": "a91c8232",
   "metadata": {},
   "source": [
    "**Apply to main df**  \n",
    "More Latitude values than Longitude, both higher value than number of station complexes"
   ]
  },
  {
   "cell_type": "code",
   "execution_count": 13,
   "id": "cba455c9",
   "metadata": {
    "ExecuteTime": {
     "end_time": "2024-06-21T11:42:28.310282Z",
     "start_time": "2024-06-21T11:42:28.120733Z"
    }
   },
   "outputs": [
    {
     "name": "stdout",
     "output_type": "stream",
     "text": [
      "155 150\n"
     ]
    }
   ],
   "source": [
    "df.loc[:, 'latitude'] = df['latitude'].round(5)\n",
    "df.loc[:, 'longitude'] = df['longitude'].round(5)\n",
    "\n",
    "nunique_lat = df['latitude'].nunique()\n",
    "nunique_lon = df['longitude'].nunique()\n",
    "print(nunique_lat, nunique_lon)"
   ]
  },
  {
   "cell_type": "markdown",
   "id": "20428ef7",
   "metadata": {},
   "source": [
    "**View stations with multiple lat or lon values**"
   ]
  },
  {
   "cell_type": "code",
   "execution_count": 14,
   "id": "65171e2f",
   "metadata": {
    "ExecuteTime": {
     "end_time": "2024-06-21T11:43:21.728570Z",
     "start_time": "2024-06-21T11:42:28.310932Z"
    },
    "scrolled": false
   },
   "outputs": [
    {
     "name": "stdout",
     "output_type": "stream",
     "text": [
      "East Broadway (F): Latitude: [40.71371 40.71372]\n",
      "East Broadway (F): Longitude: [-73.99017]\n",
      "\n",
      "\n",
      "28 St (1): Latitude: [40.74721 40.74722]\n",
      "28 St (1): Longitude: [-73.99336]\n",
      "\n",
      "\n",
      "28 St (R,W): Latitude: [40.7455  40.74549]\n",
      "28 St (R,W): Longitude: [-73.98869]\n",
      "\n",
      "\n",
      "Broad St (J,Z): Latitude: [40.70647]\n",
      "Broad St (J,Z): Longitude: [-74.01106 -74.01105]\n",
      "\n",
      "\n",
      "Fulton St (A,C,J,Z,2,3,4,5): Latitude: [40.71037 40.7102  40.70942]\n",
      "Fulton St (A,C,J,Z,2,3,4,5): Longitude: [-74.00657 -74.00769 -74.00758 -74.00951]\n",
      "\n",
      "\n",
      "168 St (A,C,1): Latitude: [40.84072 40.84056]\n",
      "168 St (A,C,1): Longitude: [-73.93956 -73.94013]\n",
      "\n",
      "\n",
      "Canal St (1): Latitude: [40.72286 40.72285]\n",
      "Canal St (1): Longitude: [-74.00628]\n",
      "\n",
      "\n",
      "Bryant Pk (B,D,F,M)/5 Av (7): Latitude: [40.75422 40.75382]\n",
      "Bryant Pk (B,D,F,M)/5 Av (7): Longitude: [-73.98196 -73.98457]\n",
      "\n",
      "\n",
      "RI Tramway (Roosevelt): Latitude: [40.75734]\n",
      "RI Tramway (Roosevelt): Longitude: [-73.95412 -73.95411]\n",
      "\n",
      "\n",
      "Canal St (J,N,Q,R,W,Z,6): Latitude: [40.71953 40.71809 40.7188 ]\n",
      "Canal St (J,N,Q,R,W,Z,6): Longitude: [-73.99989 -74.00178 -74.00019]\n",
      "\n",
      "\n",
      "50 St (C,E): Latitude: [40.76246 40.76245]\n",
      "50 St (C,E): Longitude: [-73.98598]\n",
      "\n",
      "\n",
      "Canal St (A,C,E): Latitude: [40.72082 40.72083]\n",
      "Canal St (A,C,E): Longitude: [-74.00523]\n",
      "\n",
      "\n",
      "125 St (2,3): Latitude: [40.80776 40.80775]\n",
      "125 St (2,3): Longitude: [-73.9455]\n",
      "\n",
      "\n",
      "14 St-Union Sq (L,N,Q,R,W,4,5,6): Latitude: [40.73467 40.73574]\n",
      "14 St-Union Sq (L,N,Q,R,W,4,5,6): Longitude: [-73.98995 -73.99057]\n",
      "\n",
      "\n",
      "14 St (F,M,1,2,3)/6 Av (L): Latitude: [40.73823 40.73783 40.73734]\n",
      "14 St (F,M,1,2,3)/6 Av (L): Longitude: [-73.99621 -74.0002  -73.99679]\n",
      "\n",
      "\n",
      "14 St (A,C,E)/8 Av (L): Latitude: [40.74089 40.73978]\n",
      "14 St (A,C,E)/8 Av (L): Longitude: [-74.00169 -74.00258]\n",
      "\n",
      "\n",
      "34 St-Herald Sq (B,D,F,M,N,Q,R,W): Latitude: [40.74972 40.74957 40.74956]\n",
      "34 St-Herald Sq (B,D,F,M,N,Q,R,W): Longitude: [-73.98782 -73.98795]\n",
      "\n",
      "\n",
      "Times Sq-42 St (N,Q,R,W,S,1,2,3,7)/42 St (A,C,E): Latitude: [40.75731 40.75529 40.75467]\n",
      "Times Sq-42 St (N,Q,R,W,S,1,2,3,7)/42 St (A,C,E): Longitude: [-73.98676 -73.9875  -73.98974]\n",
      "\n",
      "\n",
      "Lexington Av (N,R,W)/59 St (4,5,6): Latitude: [40.76266 40.76253]\n",
      "Lexington Av (N,R,W)/59 St (4,5,6): Longitude: [-73.96725 -73.96796]\n",
      "\n",
      "\n",
      "Lexington Av-53 St (E,M)/51 St (6): Latitude: [40.75755 40.75711]\n",
      "Lexington Av-53 St (E,M)/51 St (6): Longitude: [-73.96906 -73.97192]\n",
      "\n",
      "\n",
      "59 St-Columbus Circle (A,B,C,D,1): Latitude: [40.7683  40.76825]\n",
      "59 St-Columbus Circle (A,B,C,D,1): Longitude: [-73.98174 -73.98193]\n",
      "\n",
      "\n",
      "Broadway-Lafayette St (B,D,F,M)/Bleecker St (6): Latitude: [40.72591 40.7253 ]\n",
      "Broadway-Lafayette St (B,D,F,M)/Bleecker St (6): Longitude: [-73.99466 -73.9962 ]\n",
      "\n",
      "\n",
      "Delancey St (F)/Essex St (J,M,Z): Latitude: [40.71861 40.71832 40.71831]\n",
      "Delancey St (F)/Essex St (J,M,Z): Longitude: [-73.98811 -73.98743]\n",
      "\n",
      "\n",
      "Chambers St (A,C)/WTC (E)/Park Pl (2,3)/Cortlandt (R,W): Latitude: [40.71411 40.71258 40.71305 40.71067]\n",
      "Chambers St (A,C)/WTC (E)/Park Pl (2,3)/Cortlandt (R,W): Longitude: [-74.00858 -74.00978 -74.00881 -74.01103]\n",
      "\n",
      "\n",
      "South Ferry (1)/Whitehall St (R,W): Latitude: [40.70309 40.70207]\n",
      "South Ferry (1)/Whitehall St (R,W): Longitude: [-74.01299 -74.01366]\n",
      "\n",
      "\n",
      "81 St-Museum of Natural History (C,B): Latitude: [40.78143]\n",
      "81 St-Museum of Natural History (C,B): Longitude: [-73.97214 -73.97215]\n",
      "\n",
      "\n",
      "Brooklyn Bridge-City Hall (4,5,6)/Chambers St (J,Z): Latitude: [40.71324 40.71307]\n",
      "Brooklyn Bridge-City Hall (4,5,6)/Chambers St (J,Z): Longitude: [-74.0034  -74.00413]\n",
      "\n",
      "\n"
     ]
    }
   ],
   "source": [
    "unique_complexes = df['station_complex'].unique()\n",
    "\n",
    "for complex_name in unique_complexes:\n",
    "    complex_df = df[df['station_complex'] == complex_name]\n",
    "    \n",
    "    unique_latitudes = complex_df['latitude'].nunique()\n",
    "    unique_longitudes = complex_df['longitude'].nunique()\n",
    "    \n",
    "    if unique_latitudes > 1 or unique_longitudes > 1:\n",
    "        unique_latitude_values = complex_df['latitude'].unique()\n",
    "        unique_longitudes_values = complex_df['longitude'].unique()\n",
    "        \n",
    "        print(f'{complex_name}: Latitude: {unique_latitude_values}')\n",
    "        print(f'{complex_name}: Longitude: {unique_longitudes_values}')\n",
    "        print('\\n')\n"
   ]
  },
  {
   "cell_type": "markdown",
   "id": "6182bb28",
   "metadata": {},
   "source": [
    "**Multiple entries likely due to different entrances/exits to subway complex. Will take mode coordinates**"
   ]
  },
  {
   "cell_type": "code",
   "execution_count": 15,
   "id": "1d57f0ef",
   "metadata": {
    "ExecuteTime": {
     "end_time": "2024-06-21T11:45:59.971060Z",
     "start_time": "2024-06-21T11:43:21.729307Z"
    }
   },
   "outputs": [],
   "source": [
    "for complex_name in unique_complexes:\n",
    "    complex_df = df[df['station_complex'] == complex_name]\n",
    "    \n",
    "    most_common_lat = complex_df['latitude'].mode()[0]\n",
    "    most_common_lon = complex_df['longitude'].mode()[0]\n",
    "    \n",
    "    df.loc[df['station_complex'] == complex_name, 'latitude'] = most_common_lat\n",
    "    df.loc[df['station_complex'] == complex_name, 'longitude'] = most_common_lon\n",
    "    "
   ]
  },
  {
   "cell_type": "code",
   "execution_count": 16,
   "id": "c0f9eee2",
   "metadata": {
    "ExecuteTime": {
     "end_time": "2024-06-21T11:46:26.892925Z",
     "start_time": "2024-06-21T11:45:59.972113Z"
    }
   },
   "outputs": [],
   "source": [
    "df.to_csv('Clean_Subway_Data.csv', index=False)"
   ]
  },
  {
   "cell_type": "code",
   "execution_count": 17,
   "id": "5d452f81",
   "metadata": {
    "ExecuteTime": {
     "end_time": "2024-06-21T11:46:26.896258Z",
     "start_time": "2024-06-21T11:46:26.893735Z"
    }
   },
   "outputs": [
    {
     "data": {
      "text/plain": [
       "station_complex_id     object\n",
       "station_complex        object\n",
       "ridership               int64\n",
       "latitude              float64\n",
       "longitude             float64\n",
       "day                     int32\n",
       "month                   int32\n",
       "year                    int32\n",
       "hour                    int32\n",
       "dtype: object"
      ]
     },
     "execution_count": 17,
     "metadata": {},
     "output_type": "execute_result"
    }
   ],
   "source": [
    "df.dtypes"
   ]
  },
  {
   "cell_type": "code",
   "execution_count": 18,
   "id": "a2866f4c",
   "metadata": {
    "ExecuteTime": {
     "end_time": "2024-06-21T11:46:27.266605Z",
     "start_time": "2024-06-21T11:46:26.896937Z"
    }
   },
   "outputs": [],
   "source": [
    "df.drop(columns=['station_complex'], inplace=True)"
   ]
  },
  {
   "cell_type": "markdown",
   "id": "9f85caa2",
   "metadata": {},
   "source": [
    "**Group data by location and time**"
   ]
  },
  {
   "cell_type": "code",
   "execution_count": 19,
   "id": "1cac41e3",
   "metadata": {
    "ExecuteTime": {
     "end_time": "2024-06-21T11:46:29.210087Z",
     "start_time": "2024-06-21T11:46:27.267370Z"
    }
   },
   "outputs": [],
   "source": [
    "grouped_df = df.groupby(['station_complex_id', 'latitude', 'longitude', 'year', 'month', 'day', 'hour'])['ridership'].sum().reset_index()"
   ]
  },
  {
   "cell_type": "code",
   "execution_count": null,
   "id": "c9c93289",
   "metadata": {},
   "outputs": [],
   "source": [
    "grouped_df"
   ]
  },
  {
   "cell_type": "markdown",
   "id": "7572f47d",
   "metadata": {},
   "source": [
    "**Final data checks**"
   ]
  },
  {
   "cell_type": "code",
   "execution_count": 31,
   "id": "d92a116d",
   "metadata": {
    "ExecuteTime": {
     "end_time": "2024-06-21T12:48:39.478435Z",
     "start_time": "2024-06-21T12:48:39.378742Z"
    }
   },
   "outputs": [
    {
     "name": "stdout",
     "output_type": "stream",
     "text": [
      "Number of duplicate rows: 0\n",
      "Missing values\n",
      " station_complex_id    0\n",
      "latitude              0\n",
      "longitude             0\n",
      "year                  0\n",
      "month                 0\n",
      "day                   0\n",
      "hour                  0\n",
      "ridership             0\n",
      "dtype: int64\n"
     ]
    }
   ],
   "source": [
    "print('Number of duplicate rows:', grouped_df.duplicated().sum())\n",
    "print('Number of missing values:\\n', grouped_df.isna().sum())"
   ]
  },
  {
   "cell_type": "code",
   "execution_count": 22,
   "id": "09c76961",
   "metadata": {
    "ExecuteTime": {
     "end_time": "2024-06-21T12:04:15.786839Z",
     "start_time": "2024-06-21T12:04:15.782743Z"
    }
   },
   "outputs": [],
   "source": [
    "datetime_features = ['day', 'month', 'year', 'hour']"
   ]
  },
  {
   "cell_type": "markdown",
   "id": "07b9f34c",
   "metadata": {},
   "source": [
    "**Counts**"
   ]
  },
  {
   "cell_type": "code",
   "execution_count": 23,
   "id": "30478568",
   "metadata": {
    "ExecuteTime": {
     "end_time": "2024-06-21T12:04:29.610056Z",
     "start_time": "2024-06-21T12:04:29.538980Z"
    }
   },
   "outputs": [
    {
     "name": "stdout",
     "output_type": "stream",
     "text": [
      "Counts for station_complex_id:\n",
      "station_complex_id\n",
      "8         2807766\n",
      "9          212153\n",
      "10        1554418\n",
      "13        1989703\n",
      "14        3405037\n",
      "           ...   \n",
      "635       8743840\n",
      "8         5063558\n",
      "9        17186296\n",
      "TRAM1     3350399\n",
      "TRAM2     3026815\n",
      "Name: ridership, Length: 244, dtype: int64\n",
      "\n",
      "Counts for day:\n",
      "day\n",
      "0    203497290\n",
      "1    241521888\n",
      "2    248983252\n",
      "3    246685097\n",
      "4    221230825\n",
      "5    156158811\n",
      "6    125026494\n",
      "Name: ridership, dtype: int64\n",
      "\n",
      "Counts for month:\n",
      "month\n",
      "1     100174704\n",
      "2     130586002\n",
      "3     158102621\n",
      "4     154309254\n",
      "5     164457401\n",
      "6     113306734\n",
      "7      95388865\n",
      "8      98269519\n",
      "9     103559185\n",
      "10    111799118\n",
      "11    106269536\n",
      "12    106880718\n",
      "Name: ridership, dtype: int64\n",
      "\n",
      "Counts for year:\n",
      "year\n",
      "2022    512608116\n",
      "2023    643210369\n",
      "2024    287285172\n",
      "Name: ridership, dtype: int64\n",
      "\n",
      "Counts for hour:\n",
      "hour\n",
      "0      16358088\n",
      "1       6771575\n",
      "2       3572470\n",
      "3       2321788\n",
      "4       2929533\n",
      "5       8949821\n",
      "6      25045875\n",
      "7      56815020\n",
      "8      85335874\n",
      "9      64883480\n",
      "10     53372521\n",
      "11     57044567\n",
      "12     65341584\n",
      "13     73256672\n",
      "14     89245347\n",
      "15    114522413\n",
      "16    137326515\n",
      "17    167489271\n",
      "18    132438732\n",
      "19     87757152\n",
      "20     64195215\n",
      "21     52752165\n",
      "22     45101918\n",
      "23     30276061\n",
      "Name: ridership, dtype: int64\n",
      "\n"
     ]
    }
   ],
   "source": [
    "for feature in datetime_features:\n",
    "    counts = grouped_df.groupby(feature, observed=True)['ridership'].sum()\n",
    "    print(f\"Counts for {feature}:\")\n",
    "    print(counts)\n",
    "    print()"
   ]
  },
  {
   "cell_type": "markdown",
   "id": "ba29e732",
   "metadata": {},
   "source": [
    "**Correlation Plots**"
   ]
  },
  {
   "cell_type": "code",
   "execution_count": 27,
   "id": "9a4d96a1",
   "metadata": {
    "ExecuteTime": {
     "end_time": "2024-06-21T12:06:37.046738Z",
     "start_time": "2024-06-21T12:06:36.382568Z"
    },
    "scrolled": false
   },
   "outputs": [
    {
     "data": {
      "image/png": "[encoded data removed]",
      "text/plain": [
       "<Figure size 1600x600 with 1 Axes>"
      ]
     },
     "metadata": {},
     "output_type": "display_data"
    },
    {
     "data": {
      "image/png": "[encoded data removed]",
      "text/plain": [
       "<Figure size 1600x600 with 1 Axes>"
      ]
     },
     "metadata": {},
     "output_type": "display_data"
    },
    {
     "data": {
      "image/png": "[encoded data removed]",
      "text/plain": [
       "<Figure size 1600x600 with 1 Axes>"
      ]
     },
     "metadata": {},
     "output_type": "display_data"
    },
    {
     "data": {
      "image/png": "[encoded data removed]",
      "text/plain": [
       "<Figure size 1600x600 with 1 Axes>"
      ]
     },
     "metadata": {},
     "output_type": "display_data"
    },
    {
     "data": {
      "image/png": "[encoded data removed]",
      "text/plain": [
       "<Figure size 1600x600 with 1 Axes>"
      ]
     },
     "metadata": {},
     "output_type": "display_data"
    }
   ],
   "source": [
    "for feature in datetime_features:\n",
    "    plt.figure(figsize=(16, 6))\n",
    "    counts = grouped_df.groupby(feature, observed=True)['ridership'].sum()\n",
    "    counts.plot(kind='bar', color='skyblue')\n",
    "    plt.title(f'Counts of ridership by {feature}')\n",
    "    plt.xlabel(feature)\n",
    "    plt.ylabel('Count')\n",
    "    plt.xticks(rotation=0)\n",
    "    plt.grid(axis='y')\n",
    "    plt.show()"
   ]
  },
  {
   "cell_type": "code",
   "execution_count": 32,
   "id": "114190c4",
   "metadata": {
    "ExecuteTime": {
     "end_time": "2024-06-21T13:02:47.444638Z",
     "start_time": "2024-06-21T13:02:46.652986Z"
    }
   },
   "outputs": [],
   "source": [
    "grouped_df.to_csv('Subway_Data_Final.csv', index=False)"
   ]
  },
  {
   "cell_type": "code",
   "execution_count": null,
   "id": "8fecf568",
   "metadata": {},
   "outputs": [],
   "source": []
  }
 ],
 "metadata": {
  "kernelspec": {
   "display_name": "Python 3 (ipykernel)",
   "language": "python",
   "name": "python3"
  },
  "language_info": {
   "codemirror_mode": {
    "name": "ipython",
    "version": 3
   },
   "file_extension": ".py",
   "mimetype": "text/x-python",
   "name": "python",
   "nbconvert_exporter": "python",
   "pygments_lexer": "ipython3",
   "version": "3.11.9"
  }
 },
 "nbformat": 4,
 "nbformat_minor": 5
}
