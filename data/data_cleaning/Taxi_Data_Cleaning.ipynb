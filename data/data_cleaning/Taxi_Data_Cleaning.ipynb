{
 "cells": [
  {
   "cell_type": "code",
   "execution_count": 2,
   "id": "e481cd95",
   "metadata": {
    "ExecuteTime": {
     "end_time": "2024-07-10T10:08:50.773374Z",
     "start_time": "2024-07-10T10:08:50.235339Z"
    }
   },
   "outputs": [],
   "source": [
    "import pandas as pd\n",
    "import os\n",
    "import numpy as np\n",
    "import matplotlib.pyplot as plt\n",
    "import matplotlib.gridspec as gridspec\n"
   ]
  },
  {
   "cell_type": "markdown",
   "id": "99c37d3a",
   "metadata": {},
   "source": [
    "**Read in csv file**"
   ]
  },
  {
   "cell_type": "code",
   "execution_count": 2,
   "id": "b3d1f2b8",
   "metadata": {
    "ExecuteTime": {
     "end_time": "2024-06-15T13:59:24.561269Z",
     "start_time": "2024-06-15T13:59:24.558727Z"
    },
    "scrolled": true
   },
   "outputs": [],
   "source": [
    "df = pd.DataFrame()\n",
    "def add_taxi_data(colour, *columns):\n",
    "    '''Adds taxi data to DataFrame df, takes colour as input (green/yellow) and columns as additional arguments.'''\n",
    "    if colour in ['green', 'yellow']:\n",
    "        global df\n",
    "        for year in range(2022, 2025):\n",
    "            for month in range(1, 13):\n",
    "                month = str(month).zfill(2)\n",
    "                file_name = f'Taxi/{colour}_tripdata_{year}-{month}.parquet'\n",
    "\n",
    "                if os.path.exists(file_name):\n",
    "                    data = pd.read_parquet(file_name, columns=list(columns))\n",
    "                    df = pd.concat([df, data], ignore_index=True)\n",
    "                    print(f'{year}-{month} {colour} Taxi trip data added.')\n",
    "                else:\n",
    "                    print(f'File {file_name} not found. Skipping...')\n",
    "                    \n",
    "        print(f'{colour} Taxis added to DataFrame')\n",
    "        return\n",
    "    else:\n",
    "        print(f'{colour} not found. Enter \"green\" or \"yellow\"')\n",
    "        return"
   ]
  },
  {
   "cell_type": "code",
   "execution_count": 3,
   "id": "107dff9f",
   "metadata": {
    "ExecuteTime": {
     "end_time": "2024-06-15T14:03:00.233403Z",
     "start_time": "2024-06-15T13:59:24.561951Z"
    }
   },
   "outputs": [
    {
     "name": "stdout",
     "output_type": "stream",
     "text": [
      "2022-01 green Taxi trip data added.\n",
      "2022-02 green Taxi trip data added.\n",
      "2022-03 green Taxi trip data added.\n",
      "2022-04 green Taxi trip data added.\n",
      "2022-05 green Taxi trip data added.\n",
      "2022-06 green Taxi trip data added.\n",
      "2022-07 green Taxi trip data added.\n",
      "2022-08 green Taxi trip data added.\n",
      "2022-09 green Taxi trip data added.\n",
      "2022-10 green Taxi trip data added.\n",
      "2022-11 green Taxi trip data added.\n",
      "2022-12 green Taxi trip data added.\n",
      "2023-01 green Taxi trip data added.\n",
      "2023-02 green Taxi trip data added.\n",
      "2023-03 green Taxi trip data added.\n",
      "2023-04 green Taxi trip data added.\n",
      "2023-05 green Taxi trip data added.\n",
      "2023-06 green Taxi trip data added.\n",
      "2023-07 green Taxi trip data added.\n",
      "2023-08 green Taxi trip data added.\n",
      "2023-09 green Taxi trip data added.\n",
      "2023-10 green Taxi trip data added.\n",
      "2023-11 green Taxi trip data added.\n",
      "2023-12 green Taxi trip data added.\n",
      "2024-01 green Taxi trip data added.\n",
      "2024-02 green Taxi trip data added.\n",
      "2024-03 green Taxi trip data added.\n",
      "File Taxi/green_tripdata_2024-04.parquet not found. Skipping...\n",
      "File Taxi/green_tripdata_2024-05.parquet not found. Skipping...\n",
      "File Taxi/green_tripdata_2024-06.parquet not found. Skipping...\n",
      "File Taxi/green_tripdata_2024-07.parquet not found. Skipping...\n",
      "File Taxi/green_tripdata_2024-08.parquet not found. Skipping...\n",
      "File Taxi/green_tripdata_2024-09.parquet not found. Skipping...\n",
      "File Taxi/green_tripdata_2024-10.parquet not found. Skipping...\n",
      "File Taxi/green_tripdata_2024-11.parquet not found. Skipping...\n",
      "File Taxi/green_tripdata_2024-12.parquet not found. Skipping...\n",
      "green Taxis added to DataFrame\n",
      "2022-01 yellow Taxi trip data added.\n",
      "2022-02 yellow Taxi trip data added.\n",
      "2022-03 yellow Taxi trip data added.\n",
      "2022-04 yellow Taxi trip data added.\n",
      "2022-05 yellow Taxi trip data added.\n",
      "2022-06 yellow Taxi trip data added.\n",
      "2022-07 yellow Taxi trip data added.\n",
      "2022-08 yellow Taxi trip data added.\n",
      "2022-09 yellow Taxi trip data added.\n",
      "2022-10 yellow Taxi trip data added.\n",
      "2022-11 yellow Taxi trip data added.\n",
      "2022-12 yellow Taxi trip data added.\n",
      "2023-01 yellow Taxi trip data added.\n",
      "2023-02 yellow Taxi trip data added.\n",
      "2023-03 yellow Taxi trip data added.\n",
      "2023-04 yellow Taxi trip data added.\n",
      "2023-05 yellow Taxi trip data added.\n",
      "2023-06 yellow Taxi trip data added.\n",
      "2023-07 yellow Taxi trip data added.\n",
      "2023-08 yellow Taxi trip data added.\n",
      "2023-09 yellow Taxi trip data added.\n",
      "2023-10 yellow Taxi trip data added.\n",
      "2023-11 yellow Taxi trip data added.\n",
      "2023-12 yellow Taxi trip data added.\n",
      "2024-01 yellow Taxi trip data added.\n",
      "2024-02 yellow Taxi trip data added.\n",
      "2024-03 yellow Taxi trip data added.\n",
      "File Taxi/yellow_tripdata_2024-04.parquet not found. Skipping...\n",
      "File Taxi/yellow_tripdata_2024-05.parquet not found. Skipping...\n",
      "File Taxi/yellow_tripdata_2024-06.parquet not found. Skipping...\n",
      "File Taxi/yellow_tripdata_2024-07.parquet not found. Skipping...\n",
      "File Taxi/yellow_tripdata_2024-08.parquet not found. Skipping...\n",
      "File Taxi/yellow_tripdata_2024-09.parquet not found. Skipping...\n",
      "File Taxi/yellow_tripdata_2024-10.parquet not found. Skipping...\n",
      "File Taxi/yellow_tripdata_2024-11.parquet not found. Skipping...\n",
      "File Taxi/yellow_tripdata_2024-12.parquet not found. Skipping...\n",
      "yellow Taxis added to DataFrame\n"
     ]
    }
   ],
   "source": [
    "add_taxi_data('green', 'lpep_pickup_datetime', 'lpep_dropoff_datetime', 'PULocationID', 'DOLocationID', 'passenger_count')\n",
    "add_taxi_data('yellow', 'tpep_pickup_datetime', 'tpep_dropoff_datetime', 'PULocationID', 'DOLocationID', 'passenger_count')\n",
    "\n",
    "df.to_csv('taxi_data_initial.csv', index=False)"
   ]
  },
  {
   "cell_type": "code",
   "execution_count": 4,
   "id": "36d638e0",
   "metadata": {
    "ExecuteTime": {
     "end_time": "2024-06-15T14:03:04.022507Z",
     "start_time": "2024-06-15T14:03:00.238575Z"
    },
    "scrolled": true
   },
   "outputs": [
    {
     "data": {
      "text/html": [
       "<div>\n",
       "<style scoped>\n",
       "    .dataframe tbody tr th:only-of-type {\n",
       "        vertical-align: middle;\n",
       "    }\n",
       "\n",
       "    .dataframe tbody tr th {\n",
       "        vertical-align: top;\n",
       "    }\n",
       "\n",
       "    .dataframe thead th {\n",
       "        text-align: right;\n",
       "    }\n",
       "</style>\n",
       "<table border=\"1\" class=\"dataframe\">\n",
       "  <thead>\n",
       "    <tr style=\"text-align: right;\">\n",
       "      <th></th>\n",
       "      <th>PULocationID</th>\n",
       "      <th>DOLocationID</th>\n",
       "      <th>passenger_count</th>\n",
       "      <th>pickup_datetime</th>\n",
       "      <th>dropoff_datetime</th>\n",
       "    </tr>\n",
       "  </thead>\n",
       "  <tbody>\n",
       "    <tr>\n",
       "      <th>0</th>\n",
       "      <td>42</td>\n",
       "      <td>42</td>\n",
       "      <td>1.0</td>\n",
       "      <td>2022-01-01 00:14:21</td>\n",
       "      <td>2022-01-01 00:15:33</td>\n",
       "    </tr>\n",
       "    <tr>\n",
       "      <th>1</th>\n",
       "      <td>116</td>\n",
       "      <td>41</td>\n",
       "      <td>1.0</td>\n",
       "      <td>2022-01-01 00:20:55</td>\n",
       "      <td>2022-01-01 00:29:38</td>\n",
       "    </tr>\n",
       "    <tr>\n",
       "      <th>2</th>\n",
       "      <td>41</td>\n",
       "      <td>140</td>\n",
       "      <td>1.0</td>\n",
       "      <td>2022-01-01 00:57:02</td>\n",
       "      <td>2022-01-01 01:13:14</td>\n",
       "    </tr>\n",
       "    <tr>\n",
       "      <th>3</th>\n",
       "      <td>181</td>\n",
       "      <td>181</td>\n",
       "      <td>1.0</td>\n",
       "      <td>2022-01-01 00:07:42</td>\n",
       "      <td>2022-01-01 00:15:57</td>\n",
       "    </tr>\n",
       "    <tr>\n",
       "      <th>4</th>\n",
       "      <td>33</td>\n",
       "      <td>170</td>\n",
       "      <td>1.0</td>\n",
       "      <td>2022-01-01 00:07:50</td>\n",
       "      <td>2022-01-01 00:28:52</td>\n",
       "    </tr>\n",
       "  </tbody>\n",
       "</table>\n",
       "</div>"
      ],
      "text/plain": [
       "   PULocationID  DOLocationID  passenger_count     pickup_datetime  \\\n",
       "0            42            42              1.0 2022-01-01 00:14:21   \n",
       "1           116            41              1.0 2022-01-01 00:20:55   \n",
       "2            41           140              1.0 2022-01-01 00:57:02   \n",
       "3           181           181              1.0 2022-01-01 00:07:42   \n",
       "4            33           170              1.0 2022-01-01 00:07:50   \n",
       "\n",
       "     dropoff_datetime  \n",
       "0 2022-01-01 00:15:33  \n",
       "1 2022-01-01 00:29:38  \n",
       "2 2022-01-01 01:13:14  \n",
       "3 2022-01-01 00:15:57  \n",
       "4 2022-01-01 00:28:52  "
      ]
     },
     "execution_count": 4,
     "metadata": {},
     "output_type": "execute_result"
    }
   ],
   "source": [
    "# Combine dropoffs and pickup data\n",
    "df['pickup_datetime'] = df['lpep_pickup_datetime'].fillna(df['tpep_pickup_datetime'])\n",
    "df['dropoff_datetime'] = df['lpep_dropoff_datetime'].fillna(df['tpep_dropoff_datetime'])\n",
    "\n",
    "df.drop(columns=['lpep_pickup_datetime', 'tpep_pickup_datetime', 'lpep_dropoff_datetime', 'tpep_dropoff_datetime'], inplace=True)\n",
    "df.head()"
   ]
  },
  {
   "cell_type": "markdown",
   "id": "ef321a10",
   "metadata": {},
   "source": [
    "**Handling duplicate rows**"
   ]
  },
  {
   "cell_type": "code",
   "execution_count": 5,
   "id": "6472b4e8",
   "metadata": {
    "ExecuteTime": {
     "end_time": "2024-06-15T14:13:38.143495Z",
     "start_time": "2024-06-15T14:03:04.024600Z"
    }
   },
   "outputs": [
    {
     "name": "stdout",
     "output_type": "stream",
     "text": [
      "Number of duplicate rows before duplicates dropped: 664831\n",
      "Number of duplicate rows after duplicates dropped: 0\n"
     ]
    }
   ],
   "source": [
    "# Check for duplicate rows\n",
    "print('Number of duplicate rows before duplicates dropped:', df.duplicated().sum())\n",
    "\n",
    "# Duplicate rows dropped as likely data entry errors\n",
    "df = df.drop_duplicates()\n",
    "\n",
    "print('Number of duplicate rows after duplicates dropped:', df.duplicated().sum())\n"
   ]
  },
  {
   "cell_type": "code",
   "execution_count": 6,
   "id": "9bffdc72",
   "metadata": {
    "ExecuteTime": {
     "end_time": "2024-06-15T14:16:40.458474Z",
     "start_time": "2024-06-15T14:13:38.160179Z"
    }
   },
   "outputs": [],
   "source": [
    "df.to_csv('taxi_data_before_datetime.csv', index=False)"
   ]
  },
  {
   "cell_type": "markdown",
   "id": "0d274959",
   "metadata": {},
   "source": [
    "**Separate datetime**"
   ]
  },
  {
   "cell_type": "code",
   "execution_count": 7,
   "id": "35dabb42",
   "metadata": {
    "ExecuteTime": {
     "end_time": "2024-06-15T14:18:38.798465Z",
     "start_time": "2024-06-15T14:16:40.460202Z"
    }
   },
   "outputs": [
    {
     "data": {
      "text/html": [
       "<div>\n",
       "<style scoped>\n",
       "    .dataframe tbody tr th:only-of-type {\n",
       "        vertical-align: middle;\n",
       "    }\n",
       "\n",
       "    .dataframe tbody tr th {\n",
       "        vertical-align: top;\n",
       "    }\n",
       "\n",
       "    .dataframe thead th {\n",
       "        text-align: right;\n",
       "    }\n",
       "</style>\n",
       "<table border=\"1\" class=\"dataframe\">\n",
       "  <thead>\n",
       "    <tr style=\"text-align: right;\">\n",
       "      <th></th>\n",
       "      <th>PULocationID</th>\n",
       "      <th>DOLocationID</th>\n",
       "      <th>passenger_count</th>\n",
       "      <th>day</th>\n",
       "      <th>month</th>\n",
       "      <th>year</th>\n",
       "      <th>hour</th>\n",
       "    </tr>\n",
       "  </thead>\n",
       "  <tbody>\n",
       "    <tr>\n",
       "      <th>0</th>\n",
       "      <td>42</td>\n",
       "      <td>42</td>\n",
       "      <td>1.0</td>\n",
       "      <td>5</td>\n",
       "      <td>1</td>\n",
       "      <td>2022</td>\n",
       "      <td>0</td>\n",
       "    </tr>\n",
       "    <tr>\n",
       "      <th>1</th>\n",
       "      <td>116</td>\n",
       "      <td>41</td>\n",
       "      <td>1.0</td>\n",
       "      <td>5</td>\n",
       "      <td>1</td>\n",
       "      <td>2022</td>\n",
       "      <td>0</td>\n",
       "    </tr>\n",
       "    <tr>\n",
       "      <th>2</th>\n",
       "      <td>41</td>\n",
       "      <td>140</td>\n",
       "      <td>1.0</td>\n",
       "      <td>5</td>\n",
       "      <td>1</td>\n",
       "      <td>2022</td>\n",
       "      <td>1</td>\n",
       "    </tr>\n",
       "    <tr>\n",
       "      <th>3</th>\n",
       "      <td>181</td>\n",
       "      <td>181</td>\n",
       "      <td>1.0</td>\n",
       "      <td>5</td>\n",
       "      <td>1</td>\n",
       "      <td>2022</td>\n",
       "      <td>0</td>\n",
       "    </tr>\n",
       "    <tr>\n",
       "      <th>4</th>\n",
       "      <td>33</td>\n",
       "      <td>170</td>\n",
       "      <td>1.0</td>\n",
       "      <td>5</td>\n",
       "      <td>1</td>\n",
       "      <td>2022</td>\n",
       "      <td>0</td>\n",
       "    </tr>\n",
       "    <tr>\n",
       "      <th>...</th>\n",
       "      <td>...</td>\n",
       "      <td>...</td>\n",
       "      <td>...</td>\n",
       "      <td>...</td>\n",
       "      <td>...</td>\n",
       "      <td>...</td>\n",
       "      <td>...</td>\n",
       "    </tr>\n",
       "    <tr>\n",
       "      <th>89316144</th>\n",
       "      <td>130</td>\n",
       "      <td>218</td>\n",
       "      <td>NaN</td>\n",
       "      <td>6</td>\n",
       "      <td>3</td>\n",
       "      <td>2024</td>\n",
       "      <td>23</td>\n",
       "    </tr>\n",
       "    <tr>\n",
       "      <th>89316145</th>\n",
       "      <td>79</td>\n",
       "      <td>100</td>\n",
       "      <td>NaN</td>\n",
       "      <td>6</td>\n",
       "      <td>3</td>\n",
       "      <td>2024</td>\n",
       "      <td>23</td>\n",
       "    </tr>\n",
       "    <tr>\n",
       "      <th>89316146</th>\n",
       "      <td>63</td>\n",
       "      <td>181</td>\n",
       "      <td>NaN</td>\n",
       "      <td>6</td>\n",
       "      <td>3</td>\n",
       "      <td>2024</td>\n",
       "      <td>23</td>\n",
       "    </tr>\n",
       "    <tr>\n",
       "      <th>89316147</th>\n",
       "      <td>161</td>\n",
       "      <td>148</td>\n",
       "      <td>NaN</td>\n",
       "      <td>6</td>\n",
       "      <td>3</td>\n",
       "      <td>2024</td>\n",
       "      <td>23</td>\n",
       "    </tr>\n",
       "    <tr>\n",
       "      <th>89316148</th>\n",
       "      <td>95</td>\n",
       "      <td>7</td>\n",
       "      <td>NaN</td>\n",
       "      <td>6</td>\n",
       "      <td>3</td>\n",
       "      <td>2024</td>\n",
       "      <td>23</td>\n",
       "    </tr>\n",
       "  </tbody>\n",
       "</table>\n",
       "<p>88651318 rows × 7 columns</p>\n",
       "</div>"
      ],
      "text/plain": [
       "          PULocationID  DOLocationID  passenger_count  day  month  year  hour\n",
       "0                   42            42              1.0    5      1  2022     0\n",
       "1                  116            41              1.0    5      1  2022     0\n",
       "2                   41           140              1.0    5      1  2022     1\n",
       "3                  181           181              1.0    5      1  2022     0\n",
       "4                   33           170              1.0    5      1  2022     0\n",
       "...                ...           ...              ...  ...    ...   ...   ...\n",
       "89316144           130           218              NaN    6      3  2024    23\n",
       "89316145            79           100              NaN    6      3  2024    23\n",
       "89316146            63           181              NaN    6      3  2024    23\n",
       "89316147           161           148              NaN    6      3  2024    23\n",
       "89316148            95             7              NaN    6      3  2024    23\n",
       "\n",
       "[88651318 rows x 7 columns]"
      ]
     },
     "execution_count": 7,
     "metadata": {},
     "output_type": "execute_result"
    }
   ],
   "source": [
    "df['pickup_datetime'] = pd.to_datetime(df['pickup_datetime'])\n",
    "df['dropoff_datetime'] = pd.to_datetime(df['dropoff_datetime'])\n",
    "\n",
    "df['day'] = df['pickup_datetime'].dt.dayofweek\n",
    "df['month'] = df['pickup_datetime'].dt.month\n",
    "df['year'] = df['pickup_datetime'].dt.year\n",
    "\n",
    "pickup_hours = df['pickup_datetime'].dt.hour\n",
    "dropoff_hours = df['dropoff_datetime'].dt.hour\n",
    "pickup_minutes = df['pickup_datetime'].dt.minute\n",
    "dropoff_minutes = df['dropoff_datetime'].dt.minute\n",
    "\n",
    "condition = (pickup_hours != dropoff_hours) & (dropoff_minutes > 60 - pickup_minutes)\n",
    "df['hour'] = pickup_hours\n",
    "df.loc[condition, 'hour'] = dropoff_hours\n",
    "\n",
    "df.drop(columns=['pickup_datetime', 'dropoff_datetime'], inplace=True)\n",
    "\n",
    "df"
   ]
  },
  {
   "cell_type": "code",
   "execution_count": 8,
   "id": "7ffe8c2c",
   "metadata": {
    "ExecuteTime": {
     "end_time": "2024-06-15T14:19:50.738315Z",
     "start_time": "2024-06-15T14:18:38.801798Z"
    }
   },
   "outputs": [],
   "source": [
    "df.to_csv('taxi_data_after_datetime.csv', index=False)"
   ]
  },
  {
   "cell_type": "code",
   "execution_count": null,
   "id": "6e0c8e4b",
   "metadata": {},
   "outputs": [],
   "source": []
  },
  {
   "cell_type": "markdown",
   "id": "c815115b",
   "metadata": {},
   "source": [
    "**Convert categorical/continuous**"
   ]
  },
  {
   "cell_type": "code",
   "execution_count": 9,
   "id": "e4ddf4b2",
   "metadata": {
    "ExecuteTime": {
     "end_time": "2024-06-15T14:19:57.316310Z",
     "start_time": "2024-06-15T14:19:50.740928Z"
    }
   },
   "outputs": [
    {
     "data": {
      "text/plain": [
       "PULocationID       category\n",
       "DOLocationID       category\n",
       "passenger_count       int32\n",
       "day                category\n",
       "month              category\n",
       "year               category\n",
       "hour               category\n",
       "dtype: object"
      ]
     },
     "execution_count": 9,
     "metadata": {},
     "output_type": "execute_result"
    }
   ],
   "source": [
    "categorical_features = ['PULocationID', 'DOLocationID', 'day', 'month', 'year', 'hour']\n",
    "df[categorical_features] = df[categorical_features].astype('category')\n",
    "\n",
    "continuous_features = ['passenger_count']\n",
    "df[continuous_features] = df[continuous_features].fillna(0)\n",
    "\n",
    "df[continuous_features] = df[continuous_features].astype('int32')\n",
    "\n",
    "df.dtypes"
   ]
  },
  {
   "cell_type": "markdown",
   "id": "1254f9ee",
   "metadata": {},
   "source": [
    "**Check empty values**"
   ]
  },
  {
   "cell_type": "code",
   "execution_count": 10,
   "id": "10e77ef3",
   "metadata": {
    "ExecuteTime": {
     "end_time": "2024-06-15T14:19:57.662463Z",
     "start_time": "2024-06-15T14:19:57.324415Z"
    }
   },
   "outputs": [
    {
     "data": {
      "text/plain": [
       "PULocationID       0\n",
       "DOLocationID       0\n",
       "passenger_count    0\n",
       "day                0\n",
       "month              0\n",
       "year               0\n",
       "hour               0\n",
       "dtype: int64"
      ]
     },
     "execution_count": 10,
     "metadata": {},
     "output_type": "execute_result"
    }
   ],
   "source": [
    "df.isna().sum()"
   ]
  },
  {
   "cell_type": "markdown",
   "id": "d2c8d79f",
   "metadata": {
    "ExecuteTime": {
     "end_time": "2024-06-11T14:41:43.514620Z",
     "start_time": "2024-06-11T14:41:43.495381Z"
    }
   },
   "source": [
    "**Ensure values are correct**"
   ]
  },
  {
   "cell_type": "code",
   "execution_count": 11,
   "id": "e7ccb5c0",
   "metadata": {
    "ExecuteTime": {
     "end_time": "2024-06-15T14:19:58.887979Z",
     "start_time": "2024-06-15T14:19:57.663383Z"
    }
   },
   "outputs": [
    {
     "name": "stdout",
     "output_type": "stream",
     "text": [
      "PULocationID Unique Values: [1, 2, 3, 4, 5, 6, 7, 8, 9, 10, 11, 12, 13, 14, 15, 16, 17, 18, 19, 20, 21, 22, 23, 24, 25, 26, 27, 28, 29, 30, 31, 32, 33, 34, 35, 36, 37, 38, 39, 40, 41, 42, 43, 44, 45, 46, 47, 48, 49, 50, 51, 52, 53, 54, 55, 56, 57, 58, 59, 60, 61, 62, 63, 64, 65, 66, 67, 68, 69, 70, 71, 72, 73, 74, 75, 76, 77, 78, 79, 80, 81, 82, 83, 84, 85, 86, 87, 88, 89, 90, 91, 92, 93, 94, 95, 96, 97, 98, 99, 100, 101, 102, 105, 106, 107, 108, 109, 110, 111, 112, 113, 114, 115, 116, 117, 118, 119, 120, 121, 122, 123, 124, 125, 126, 127, 128, 129, 130, 131, 132, 133, 134, 135, 136, 137, 138, 139, 140, 141, 142, 143, 144, 145, 146, 147, 148, 149, 150, 151, 152, 153, 154, 155, 156, 157, 158, 159, 160, 161, 162, 163, 164, 165, 166, 167, 168, 169, 170, 171, 172, 173, 174, 175, 176, 177, 178, 179, 180, 181, 182, 183, 184, 185, 186, 187, 188, 189, 190, 191, 192, 193, 194, 195, 196, 197, 198, 199, 200, 201, 202, 203, 204, 205, 206, 207, 208, 209, 210, 211, 212, 213, 214, 215, 216, 217, 218, 219, 220, 221, 222, 223, 224, 225, 226, 227, 228, 229, 230, 231, 232, 233, 234, 235, 236, 237, 238, 239, 240, 241, 242, 243, 244, 245, 246, 247, 248, 249, 250, 251, 252, 253, 254, 255, 256, 257, 258, 259, 260, 261, 262, 263, 264, 265]\n",
      "\n",
      "DOLocationID Unique Values: [1, 2, 3, 4, 5, 6, 7, 8, 9, 10, 11, 12, 13, 14, 15, 16, 17, 18, 19, 20, 21, 22, 23, 24, 25, 26, 27, 28, 29, 30, 31, 32, 33, 34, 35, 36, 37, 38, 39, 40, 41, 42, 43, 44, 45, 46, 47, 48, 49, 50, 51, 52, 53, 54, 55, 56, 57, 58, 59, 60, 61, 62, 63, 64, 65, 66, 67, 68, 69, 70, 71, 72, 73, 74, 75, 76, 77, 78, 79, 80, 81, 82, 83, 84, 85, 86, 87, 88, 89, 90, 91, 92, 93, 94, 95, 96, 97, 98, 99, 100, 101, 102, 105, 106, 107, 108, 109, 110, 111, 112, 113, 114, 115, 116, 117, 118, 119, 120, 121, 122, 123, 124, 125, 126, 127, 128, 129, 130, 131, 132, 133, 134, 135, 136, 137, 138, 139, 140, 141, 142, 143, 144, 145, 146, 147, 148, 149, 150, 151, 152, 153, 154, 155, 156, 157, 158, 159, 160, 161, 162, 163, 164, 165, 166, 167, 168, 169, 170, 171, 172, 173, 174, 175, 176, 177, 178, 179, 180, 181, 182, 183, 184, 185, 186, 187, 188, 189, 190, 191, 192, 193, 194, 195, 196, 197, 198, 200, 201, 202, 203, 204, 205, 206, 207, 208, 209, 210, 211, 212, 213, 214, 215, 216, 217, 218, 219, 220, 221, 222, 223, 224, 225, 226, 227, 228, 229, 230, 231, 232, 233, 234, 235, 236, 237, 238, 239, 240, 241, 242, 243, 244, 245, 246, 247, 248, 249, 250, 251, 252, 253, 254, 255, 256, 257, 258, 259, 260, 261, 262, 263, 264, 265]\n",
      "\n",
      "passenger_count Unique Values: [0, 1, 2, 3, 4, 5, 6, 7, 8, 9]\n",
      "\n",
      "day Unique Values: [0, 1, 2, 3, 4, 5, 6]\n",
      "\n",
      "month Unique Values: [1, 2, 3, 4, 5, 6, 7, 8, 9, 10, 11, 12]\n",
      "\n",
      "year Unique Values: [2001, 2002, 2003, 2008, 2009, 2012, 2014, 2021, 2022, 2023, 2024]\n",
      "\n",
      "hour Unique Values: [0, 1, 2, 3, 4, 5, 6, 7, 8, 9, 10, 11, 12, 13, 14, 15, 16, 17, 18, 19, 20, 21, 22, 23]\n",
      "\n"
     ]
    }
   ],
   "source": [
    "for col in df:\n",
    "    unique_values = df[col].unique().tolist()\n",
    "    unique_values.sort()  # Sort the unique values\n",
    "    print(f'{col} Unique Values: {unique_values}\\n')"
   ]
  },
  {
   "cell_type": "markdown",
   "id": "59e6d3db",
   "metadata": {},
   "source": [
    "**Data before 2022 must be excluded**"
   ]
  },
  {
   "cell_type": "code",
   "execution_count": 12,
   "id": "f7db9948",
   "metadata": {
    "ExecuteTime": {
     "end_time": "2024-06-15T14:20:02.307210Z",
     "start_time": "2024-06-15T14:19:58.888854Z"
    }
   },
   "outputs": [
    {
     "name": "stderr",
     "output_type": "stream",
     "text": [
      "/var/folders/8v/myv9ql5d1lg4ct7vbb0zh8000000gn/T/ipykernel_15339/3268048455.py:5: SettingWithCopyWarning: \n",
      "A value is trying to be set on a copy of a slice from a DataFrame.\n",
      "Try using .loc[row_indexer,col_indexer] = value instead\n",
      "\n",
      "See the caveats in the documentation: https://pandas.pydata.org/pandas-docs/stable/user_guide/indexing.html#returning-a-view-versus-a-copy\n",
      "  df['year'] = df['year'].astype('category')\n"
     ]
    },
    {
     "data": {
      "text/plain": [
       "[2022, 2023, 2024]"
      ]
     },
     "execution_count": 12,
     "metadata": {},
     "output_type": "execute_result"
    }
   ],
   "source": [
    "df['year'] = df['year'].astype('int32')\n",
    "\n",
    "df = df[df['year'] > 2021]\n",
    "\n",
    "df['year'] = df['year'].astype('category')\n",
    "\n",
    "df['year'].unique().tolist()"
   ]
  },
  {
   "cell_type": "markdown",
   "id": "792199b3",
   "metadata": {},
   "source": [
    "**Remove rows with passenger count = 0**"
   ]
  },
  {
   "cell_type": "code",
   "execution_count": 13,
   "id": "b400fe92",
   "metadata": {
    "ExecuteTime": {
     "end_time": "2024-06-15T14:20:04.687866Z",
     "start_time": "2024-06-15T14:20:02.308891Z"
    }
   },
   "outputs": [
    {
     "data": {
      "text/plain": [
       "[1, 4, 5, 2, 3, 6, 7, 8, 9]"
      ]
     },
     "execution_count": 13,
     "metadata": {},
     "output_type": "execute_result"
    }
   ],
   "source": [
    "df = df[df['passenger_count'] > 0]\n",
    "\n",
    "df['passenger_count'].unique().tolist()"
   ]
  },
  {
   "cell_type": "markdown",
   "id": "585cfb05",
   "metadata": {},
   "source": [
    "**Include the Borough**"
   ]
  },
  {
   "cell_type": "code",
   "execution_count": 14,
   "id": "b2e11dbe",
   "metadata": {
    "ExecuteTime": {
     "end_time": "2024-06-15T14:20:04.703099Z",
     "start_time": "2024-06-15T14:20:04.689385Z"
    }
   },
   "outputs": [],
   "source": [
    "df_zone = pd.read_csv('taxi_zone_lookup.csv', usecols = ['LocationID', 'Borough'])"
   ]
  },
  {
   "cell_type": "markdown",
   "id": "ea82fdf7",
   "metadata": {},
   "source": [
    "**Merge the borough onto the pickup location and dropoff location**"
   ]
  },
  {
   "cell_type": "code",
   "execution_count": 15,
   "id": "559f8849",
   "metadata": {
    "ExecuteTime": {
     "end_time": "2024-06-15T14:20:53.519998Z",
     "start_time": "2024-06-15T14:20:04.703714Z"
    }
   },
   "outputs": [
    {
     "data": {
      "text/html": [
       "<div>\n",
       "<style scoped>\n",
       "    .dataframe tbody tr th:only-of-type {\n",
       "        vertical-align: middle;\n",
       "    }\n",
       "\n",
       "    .dataframe tbody tr th {\n",
       "        vertical-align: top;\n",
       "    }\n",
       "\n",
       "    .dataframe thead th {\n",
       "        text-align: right;\n",
       "    }\n",
       "</style>\n",
       "<table border=\"1\" class=\"dataframe\">\n",
       "  <thead>\n",
       "    <tr style=\"text-align: right;\">\n",
       "      <th></th>\n",
       "      <th>PULocationID</th>\n",
       "      <th>DOLocationID</th>\n",
       "      <th>passenger_count</th>\n",
       "      <th>day</th>\n",
       "      <th>month</th>\n",
       "      <th>year</th>\n",
       "      <th>hour</th>\n",
       "      <th>Pickup_Borough</th>\n",
       "      <th>Dropoff_Borough</th>\n",
       "    </tr>\n",
       "  </thead>\n",
       "  <tbody>\n",
       "    <tr>\n",
       "      <th>0</th>\n",
       "      <td>42</td>\n",
       "      <td>42</td>\n",
       "      <td>1</td>\n",
       "      <td>5</td>\n",
       "      <td>1</td>\n",
       "      <td>2022</td>\n",
       "      <td>0</td>\n",
       "      <td>Manhattan</td>\n",
       "      <td>Manhattan</td>\n",
       "    </tr>\n",
       "    <tr>\n",
       "      <th>1</th>\n",
       "      <td>116</td>\n",
       "      <td>41</td>\n",
       "      <td>1</td>\n",
       "      <td>5</td>\n",
       "      <td>1</td>\n",
       "      <td>2022</td>\n",
       "      <td>0</td>\n",
       "      <td>Manhattan</td>\n",
       "      <td>Manhattan</td>\n",
       "    </tr>\n",
       "    <tr>\n",
       "      <th>2</th>\n",
       "      <td>41</td>\n",
       "      <td>140</td>\n",
       "      <td>1</td>\n",
       "      <td>5</td>\n",
       "      <td>1</td>\n",
       "      <td>2022</td>\n",
       "      <td>1</td>\n",
       "      <td>Manhattan</td>\n",
       "      <td>Manhattan</td>\n",
       "    </tr>\n",
       "    <tr>\n",
       "      <th>3</th>\n",
       "      <td>181</td>\n",
       "      <td>181</td>\n",
       "      <td>1</td>\n",
       "      <td>5</td>\n",
       "      <td>1</td>\n",
       "      <td>2022</td>\n",
       "      <td>0</td>\n",
       "      <td>Brooklyn</td>\n",
       "      <td>Brooklyn</td>\n",
       "    </tr>\n",
       "    <tr>\n",
       "      <th>4</th>\n",
       "      <td>33</td>\n",
       "      <td>170</td>\n",
       "      <td>1</td>\n",
       "      <td>5</td>\n",
       "      <td>1</td>\n",
       "      <td>2022</td>\n",
       "      <td>0</td>\n",
       "      <td>Brooklyn</td>\n",
       "      <td>Manhattan</td>\n",
       "    </tr>\n",
       "  </tbody>\n",
       "</table>\n",
       "</div>"
      ],
      "text/plain": [
       "   PULocationID  DOLocationID  passenger_count day month  year hour  \\\n",
       "0            42            42                1   5     1  2022    0   \n",
       "1           116            41                1   5     1  2022    0   \n",
       "2            41           140                1   5     1  2022    1   \n",
       "3           181           181                1   5     1  2022    0   \n",
       "4            33           170                1   5     1  2022    0   \n",
       "\n",
       "  Pickup_Borough Dropoff_Borough  \n",
       "0      Manhattan       Manhattan  \n",
       "1      Manhattan       Manhattan  \n",
       "2      Manhattan       Manhattan  \n",
       "3       Brooklyn        Brooklyn  \n",
       "4       Brooklyn       Manhattan  "
      ]
     },
     "execution_count": 15,
     "metadata": {},
     "output_type": "execute_result"
    }
   ],
   "source": [
    "# Merge pickup borough\n",
    "df = pd.merge(df, df_zone, left_on='PULocationID', right_on='LocationID', how='left')\n",
    "df = df.rename(columns={'Borough': 'Pickup_Borough'})\n",
    "df = df.drop(columns=['LocationID'])\n",
    "\n",
    "# Merge dropoff borough\n",
    "df = pd.merge(df, df_zone, left_on='DOLocationID', right_on='LocationID', how='left')\n",
    "df = df.rename(columns={'Borough': 'Dropoff_Borough'})\n",
    "df = df.drop(columns=['LocationID'])\n",
    "\n",
    "df.head()"
   ]
  },
  {
   "cell_type": "markdown",
   "id": "2650ae36",
   "metadata": {},
   "source": [
    "**Filter to only include journeys to/from Manhattan**"
   ]
  },
  {
   "cell_type": "code",
   "execution_count": 16,
   "id": "8ca582a6",
   "metadata": {
    "ExecuteTime": {
     "end_time": "2024-06-15T14:21:12.656904Z",
     "start_time": "2024-06-15T14:20:53.527603Z"
    },
    "scrolled": true
   },
   "outputs": [
    {
     "data": {
      "text/plain": [
       "PULocationID       4965877\n",
       "DOLocationID       4971915\n",
       "passenger_count          0\n",
       "day                      0\n",
       "month                    0\n",
       "year                     0\n",
       "hour                     0\n",
       "dtype: int64"
      ]
     },
     "execution_count": 16,
     "metadata": {},
     "output_type": "execute_result"
    }
   ],
   "source": [
    "df = df[(df['Pickup_Borough'] == 'Manhattan') | (df['Dropoff_Borough'] == 'Manhattan')]\n",
    "\n",
    "# Remove the locationID if not in Manhattan\n",
    "df.loc[df['Dropoff_Borough'] != 'Manhattan', 'DOLocationID'] = np.nan\n",
    "df.loc[df['Pickup_Borough'] != 'Manhattan', 'PULocationID'] = np.nan\n",
    "    \n",
    "df = df.drop(columns=['Pickup_Borough', 'Dropoff_Borough'])\n",
    "\n",
    "df.isna().sum()"
   ]
  },
  {
   "cell_type": "code",
   "execution_count": 17,
   "id": "ac8e9d78",
   "metadata": {
    "ExecuteTime": {
     "end_time": "2024-06-15T14:21:13.030246Z",
     "start_time": "2024-06-15T14:21:12.721478Z"
    }
   },
   "outputs": [
    {
     "data": {
      "text/plain": [
       "PULocationID       4965877\n",
       "DOLocationID       4971915\n",
       "passenger_count          0\n",
       "day                      0\n",
       "month                    0\n",
       "year                     0\n",
       "hour                     0\n",
       "dtype: int64"
      ]
     },
     "execution_count": 17,
     "metadata": {},
     "output_type": "execute_result"
    }
   ],
   "source": [
    "df.isna().sum()"
   ]
  },
  {
   "cell_type": "code",
   "execution_count": 18,
   "id": "503e96eb",
   "metadata": {
    "ExecuteTime": {
     "end_time": "2024-06-15T14:21:13.069093Z",
     "start_time": "2024-06-15T14:21:13.039422Z"
    }
   },
   "outputs": [
    {
     "data": {
      "text/html": [
       "<div>\n",
       "<style scoped>\n",
       "    .dataframe tbody tr th:only-of-type {\n",
       "        vertical-align: middle;\n",
       "    }\n",
       "\n",
       "    .dataframe tbody tr th {\n",
       "        vertical-align: top;\n",
       "    }\n",
       "\n",
       "    .dataframe thead th {\n",
       "        text-align: right;\n",
       "    }\n",
       "</style>\n",
       "<table border=\"1\" class=\"dataframe\">\n",
       "  <thead>\n",
       "    <tr style=\"text-align: right;\">\n",
       "      <th></th>\n",
       "      <th>PULocationID</th>\n",
       "      <th>DOLocationID</th>\n",
       "      <th>passenger_count</th>\n",
       "      <th>day</th>\n",
       "      <th>month</th>\n",
       "      <th>year</th>\n",
       "      <th>hour</th>\n",
       "    </tr>\n",
       "  </thead>\n",
       "  <tbody>\n",
       "    <tr>\n",
       "      <th>0</th>\n",
       "      <td>42.0</td>\n",
       "      <td>42.0</td>\n",
       "      <td>1</td>\n",
       "      <td>5</td>\n",
       "      <td>1</td>\n",
       "      <td>2022</td>\n",
       "      <td>0</td>\n",
       "    </tr>\n",
       "    <tr>\n",
       "      <th>1</th>\n",
       "      <td>116.0</td>\n",
       "      <td>41.0</td>\n",
       "      <td>1</td>\n",
       "      <td>5</td>\n",
       "      <td>1</td>\n",
       "      <td>2022</td>\n",
       "      <td>0</td>\n",
       "    </tr>\n",
       "    <tr>\n",
       "      <th>2</th>\n",
       "      <td>41.0</td>\n",
       "      <td>140.0</td>\n",
       "      <td>1</td>\n",
       "      <td>5</td>\n",
       "      <td>1</td>\n",
       "      <td>2022</td>\n",
       "      <td>1</td>\n",
       "    </tr>\n",
       "    <tr>\n",
       "      <th>4</th>\n",
       "      <td>NaN</td>\n",
       "      <td>170.0</td>\n",
       "      <td>1</td>\n",
       "      <td>5</td>\n",
       "      <td>1</td>\n",
       "      <td>2022</td>\n",
       "      <td>0</td>\n",
       "    </tr>\n",
       "    <tr>\n",
       "      <th>9</th>\n",
       "      <td>NaN</td>\n",
       "      <td>186.0</td>\n",
       "      <td>1</td>\n",
       "      <td>5</td>\n",
       "      <td>1</td>\n",
       "      <td>2022</td>\n",
       "      <td>0</td>\n",
       "    </tr>\n",
       "  </tbody>\n",
       "</table>\n",
       "</div>"
      ],
      "text/plain": [
       "   PULocationID  DOLocationID  passenger_count day month  year hour\n",
       "0          42.0          42.0                1   5     1  2022    0\n",
       "1         116.0          41.0                1   5     1  2022    0\n",
       "2          41.0         140.0                1   5     1  2022    1\n",
       "4           NaN         170.0                1   5     1  2022    0\n",
       "9           NaN         186.0                1   5     1  2022    0"
      ]
     },
     "execution_count": 18,
     "metadata": {},
     "output_type": "execute_result"
    }
   ],
   "source": [
    "df.head()"
   ]
  },
  {
   "cell_type": "code",
   "execution_count": 19,
   "id": "c631e8d4",
   "metadata": {
    "ExecuteTime": {
     "end_time": "2024-06-15T14:22:32.044087Z",
     "start_time": "2024-06-15T14:21:13.072633Z"
    }
   },
   "outputs": [],
   "source": [
    "df.to_csv('taxi_data_borough.csv', index=False)"
   ]
  },
  {
   "cell_type": "code",
   "execution_count": 3,
   "id": "f040773e",
   "metadata": {
    "ExecuteTime": {
     "end_time": "2024-07-10T10:11:01.180842Z",
     "start_time": "2024-07-10T10:10:47.303462Z"
    }
   },
   "outputs": [],
   "source": [
    "df = pd.read_csv('taxi_data_borough.csv')"
   ]
  },
  {
   "cell_type": "markdown",
   "id": "fb6f3b6b",
   "metadata": {},
   "source": [
    "**Sum passenger_count based on rest of features**"
   ]
  },
  {
   "cell_type": "code",
   "execution_count": 4,
   "id": "4d2c490a",
   "metadata": {
    "ExecuteTime": {
     "end_time": "2024-07-10T10:13:50.551404Z",
     "start_time": "2024-07-10T10:13:36.784300Z"
    }
   },
   "outputs": [
    {
     "data": {
      "text/html": [
       "<div>\n",
       "<style scoped>\n",
       "    .dataframe tbody tr th:only-of-type {\n",
       "        vertical-align: middle;\n",
       "    }\n",
       "\n",
       "    .dataframe tbody tr th {\n",
       "        vertical-align: top;\n",
       "    }\n",
       "\n",
       "    .dataframe thead th {\n",
       "        text-align: right;\n",
       "    }\n",
       "</style>\n",
       "<table border=\"1\" class=\"dataframe\">\n",
       "  <thead>\n",
       "    <tr style=\"text-align: right;\">\n",
       "      <th></th>\n",
       "      <th>PULocationID</th>\n",
       "      <th>DOLocationID</th>\n",
       "      <th>day</th>\n",
       "      <th>month</th>\n",
       "      <th>year</th>\n",
       "      <th>hour</th>\n",
       "      <th>passenger_count</th>\n",
       "    </tr>\n",
       "  </thead>\n",
       "  <tbody>\n",
       "    <tr>\n",
       "      <th>0</th>\n",
       "      <td>4.0</td>\n",
       "      <td>4.0</td>\n",
       "      <td>0</td>\n",
       "      <td>1</td>\n",
       "      <td>2022</td>\n",
       "      <td>0</td>\n",
       "      <td>3</td>\n",
       "    </tr>\n",
       "    <tr>\n",
       "      <th>1</th>\n",
       "      <td>4.0</td>\n",
       "      <td>4.0</td>\n",
       "      <td>0</td>\n",
       "      <td>1</td>\n",
       "      <td>2022</td>\n",
       "      <td>2</td>\n",
       "      <td>1</td>\n",
       "    </tr>\n",
       "    <tr>\n",
       "      <th>2</th>\n",
       "      <td>4.0</td>\n",
       "      <td>4.0</td>\n",
       "      <td>0</td>\n",
       "      <td>1</td>\n",
       "      <td>2022</td>\n",
       "      <td>9</td>\n",
       "      <td>2</td>\n",
       "    </tr>\n",
       "    <tr>\n",
       "      <th>3</th>\n",
       "      <td>4.0</td>\n",
       "      <td>4.0</td>\n",
       "      <td>0</td>\n",
       "      <td>1</td>\n",
       "      <td>2022</td>\n",
       "      <td>15</td>\n",
       "      <td>5</td>\n",
       "    </tr>\n",
       "    <tr>\n",
       "      <th>4</th>\n",
       "      <td>4.0</td>\n",
       "      <td>4.0</td>\n",
       "      <td>0</td>\n",
       "      <td>1</td>\n",
       "      <td>2022</td>\n",
       "      <td>16</td>\n",
       "      <td>6</td>\n",
       "    </tr>\n",
       "  </tbody>\n",
       "</table>\n",
       "</div>"
      ],
      "text/plain": [
       "   PULocationID  DOLocationID  day  month  year  hour  passenger_count\n",
       "0           4.0           4.0    0      1  2022     0                3\n",
       "1           4.0           4.0    0      1  2022     2                1\n",
       "2           4.0           4.0    0      1  2022     9                2\n",
       "3           4.0           4.0    0      1  2022    15                5\n",
       "4           4.0           4.0    0      1  2022    16                6"
      ]
     },
     "execution_count": 4,
     "metadata": {},
     "output_type": "execute_result"
    }
   ],
   "source": [
    "grouped_df = df.groupby(['PULocationID', 'DOLocationID', 'day', 'month', 'year', 'hour'], dropna=False)['passenger_count'].sum().reset_index()\n",
    "grouped_df.head()"
   ]
  },
  {
   "cell_type": "code",
   "execution_count": 5,
   "id": "bfc0e7a7",
   "metadata": {
    "ExecuteTime": {
     "end_time": "2024-07-10T10:13:50.943118Z",
     "start_time": "2024-07-10T10:13:50.553076Z"
    }
   },
   "outputs": [
    {
     "name": "stdout",
     "output_type": "stream",
     "text": [
      "Counts for PULocationID:\n",
      "PULocationID\n",
      "4.0       118498\n",
      "12.0       62495\n",
      "13.0      669504\n",
      "24.0      321969\n",
      "41.0      396757\n",
      "          ...   \n",
      "246.0    1899130\n",
      "249.0    2526305\n",
      "261.0     644802\n",
      "262.0    1437325\n",
      "263.0    2228230\n",
      "Name: passenger_count, Length: 67, dtype: int64\n",
      "\n",
      "Counts for DOLocationID:\n",
      "DOLocationID\n",
      "4.0       440702\n",
      "12.0       84382\n",
      "13.0      906423\n",
      "24.0      413067\n",
      "41.0      777579\n",
      "          ...   \n",
      "246.0    2177272\n",
      "249.0    1937323\n",
      "261.0     582406\n",
      "262.0    1754857\n",
      "263.0    2419619\n",
      "Name: passenger_count, Length: 67, dtype: int64\n",
      "\n",
      "Counts for day:\n",
      "day\n",
      "0    13610157\n",
      "1    15452840\n",
      "2    16287620\n",
      "3    16866088\n",
      "4    16833165\n",
      "5    17312935\n",
      "6    14111771\n",
      "Name: passenger_count, dtype: int64\n",
      "\n",
      "Counts for month:\n",
      "month\n",
      "1     10678994\n",
      "2     11112451\n",
      "3     12979208\n",
      "4      8910504\n",
      "5      9000055\n",
      "6      8722274\n",
      "7      7866358\n",
      "8      7652027\n",
      "9      7502486\n",
      "10     9022645\n",
      "11     8303481\n",
      "12     8724093\n",
      "Name: passenger_count, dtype: int64\n",
      "\n",
      "Counts for year:\n",
      "year\n",
      "2022    51251739\n",
      "2023    48033890\n",
      "2024    11188947\n",
      "Name: passenger_count, dtype: int64\n",
      "\n",
      "Counts for hour:\n",
      "hour\n",
      "0     3183587\n",
      "1     2161031\n",
      "2     1453880\n",
      "3      937144\n",
      "4      580581\n",
      "5      517986\n",
      "6     1249020\n",
      "7     2618424\n",
      "8     3801490\n",
      "9     4486747\n",
      "10    5062501\n",
      "11    5575257\n",
      "12    6130360\n",
      "13    6292148\n",
      "14    6700866\n",
      "15    7038381\n",
      "16    6998245\n",
      "17    7544985\n",
      "18    8022937\n",
      "19    7261545\n",
      "20    6334413\n",
      "21    6220218\n",
      "22    5745575\n",
      "23    4557255\n",
      "Name: passenger_count, dtype: int64\n",
      "\n"
     ]
    }
   ],
   "source": [
    "categorical_features = ['PULocationID', 'DOLocationID', 'day', 'month', 'year', 'hour']\n",
    "\n",
    "for feature in categorical_features:\n",
    "    counts = grouped_df.groupby(feature)['passenger_count'].sum()\n",
    "    print(f\"Counts for {feature}:\")\n",
    "    print(counts)\n",
    "    print()"
   ]
  },
  {
   "cell_type": "markdown",
   "id": "9fda2a5a",
   "metadata": {},
   "source": [
    "**Transform data to merge Pickup and Dropoff LocationIDs**"
   ]
  },
  {
   "cell_type": "code",
   "execution_count": 6,
   "id": "dfc9bba1",
   "metadata": {
    "ExecuteTime": {
     "end_time": "2024-07-10T10:17:25.867905Z",
     "start_time": "2024-07-10T10:13:50.944532Z"
    }
   },
   "outputs": [
    {
     "data": {
      "text/html": [
       "<div>\n",
       "<style scoped>\n",
       "    .dataframe tbody tr th:only-of-type {\n",
       "        vertical-align: middle;\n",
       "    }\n",
       "\n",
       "    .dataframe tbody tr th {\n",
       "        vertical-align: top;\n",
       "    }\n",
       "\n",
       "    .dataframe thead th {\n",
       "        text-align: right;\n",
       "    }\n",
       "</style>\n",
       "<table border=\"1\" class=\"dataframe\">\n",
       "  <thead>\n",
       "    <tr style=\"text-align: right;\">\n",
       "      <th></th>\n",
       "      <th>LocationID</th>\n",
       "      <th>day</th>\n",
       "      <th>month</th>\n",
       "      <th>year</th>\n",
       "      <th>hour</th>\n",
       "      <th>passenger_count</th>\n",
       "    </tr>\n",
       "  </thead>\n",
       "  <tbody>\n",
       "    <tr>\n",
       "      <th>0</th>\n",
       "      <td>4.0</td>\n",
       "      <td>0.0</td>\n",
       "      <td>1.0</td>\n",
       "      <td>2022.0</td>\n",
       "      <td>0.0</td>\n",
       "      <td>3.0</td>\n",
       "    </tr>\n",
       "    <tr>\n",
       "      <th>1</th>\n",
       "      <td>4.0</td>\n",
       "      <td>0.0</td>\n",
       "      <td>1.0</td>\n",
       "      <td>2022.0</td>\n",
       "      <td>2.0</td>\n",
       "      <td>1.0</td>\n",
       "    </tr>\n",
       "    <tr>\n",
       "      <th>2</th>\n",
       "      <td>4.0</td>\n",
       "      <td>0.0</td>\n",
       "      <td>1.0</td>\n",
       "      <td>2022.0</td>\n",
       "      <td>9.0</td>\n",
       "      <td>2.0</td>\n",
       "    </tr>\n",
       "    <tr>\n",
       "      <th>3</th>\n",
       "      <td>4.0</td>\n",
       "      <td>0.0</td>\n",
       "      <td>1.0</td>\n",
       "      <td>2022.0</td>\n",
       "      <td>15.0</td>\n",
       "      <td>5.0</td>\n",
       "    </tr>\n",
       "    <tr>\n",
       "      <th>4</th>\n",
       "      <td>4.0</td>\n",
       "      <td>0.0</td>\n",
       "      <td>1.0</td>\n",
       "      <td>2022.0</td>\n",
       "      <td>16.0</td>\n",
       "      <td>6.0</td>\n",
       "    </tr>\n",
       "  </tbody>\n",
       "</table>\n",
       "</div>"
      ],
      "text/plain": [
       "   LocationID  day  month    year  hour  passenger_count\n",
       "0         4.0  0.0    1.0  2022.0   0.0              3.0\n",
       "1         4.0  0.0    1.0  2022.0   2.0              1.0\n",
       "2         4.0  0.0    1.0  2022.0   9.0              2.0\n",
       "3         4.0  0.0    1.0  2022.0  15.0              5.0\n",
       "4         4.0  0.0    1.0  2022.0  16.0              6.0"
      ]
     },
     "execution_count": 6,
     "metadata": {},
     "output_type": "execute_result"
    }
   ],
   "source": [
    "transformed_data = []\n",
    "\n",
    "for index, row in grouped_df.iterrows():\n",
    "    pu_row = {\n",
    "        'LocationID': row['PULocationID'],\n",
    "        'day': row['day'],\n",
    "        'month': row['month'],\n",
    "        'year': row['year'],\n",
    "        'hour': row['hour'],\n",
    "        'passenger_count': row['passenger_count']\n",
    "    }\n",
    "    \n",
    "    transformed_data.append(pu_row)\n",
    "    \n",
    "    if row['DOLocationID'] != row['PULocationID']:\n",
    "        do_row = {\n",
    "            'LocationID': row['DOLocationID'],\n",
    "            'day': row['day'],\n",
    "            'month': row['month'],\n",
    "            'year': row['year'],\n",
    "            'hour': row['hour'],\n",
    "            'passenger_count': row['passenger_count']\n",
    "        }\n",
    "        \n",
    "        transformed_data.append(do_row)\n",
    "\n",
    "transformed_df = pd.DataFrame(transformed_data)\n",
    "\n",
    "transformed_df.head()"
   ]
  },
  {
   "cell_type": "code",
   "execution_count": 7,
   "id": "4d710f63",
   "metadata": {
    "ExecuteTime": {
     "end_time": "2024-07-10T10:17:26.062195Z",
     "start_time": "2024-07-10T10:17:25.879129Z"
    }
   },
   "outputs": [
    {
     "data": {
      "text/plain": [
       "LocationID         519630\n",
       "day                     0\n",
       "month                   0\n",
       "year                    0\n",
       "hour                    0\n",
       "passenger_count         0\n",
       "dtype: int64"
      ]
     },
     "execution_count": 7,
     "metadata": {},
     "output_type": "execute_result"
    }
   ],
   "source": [
    "transformed_df.isna().sum()"
   ]
  },
  {
   "cell_type": "markdown",
   "id": "d8c3c61e",
   "metadata": {},
   "source": [
    "**Drop empty rows as they are journeys within a LocationID. Already extracted from pickup location**"
   ]
  },
  {
   "cell_type": "code",
   "execution_count": 8,
   "id": "8153aecb",
   "metadata": {
    "ExecuteTime": {
     "end_time": "2024-07-10T10:17:26.386805Z",
     "start_time": "2024-07-10T10:17:26.067808Z"
    }
   },
   "outputs": [],
   "source": [
    "transformed_df = transformed_df.dropna()"
   ]
  },
  {
   "cell_type": "code",
   "execution_count": 9,
   "id": "01bda236",
   "metadata": {
    "ExecuteTime": {
     "end_time": "2024-07-10T10:17:27.727750Z",
     "start_time": "2024-07-10T10:17:26.388762Z"
    }
   },
   "outputs": [
    {
     "name": "stdout",
     "output_type": "stream",
     "text": [
      "Counts for LocationID:\n",
      "LocationID\n",
      "4.0       555392.0\n",
      "12.0      146271.0\n",
      "13.0     1558490.0\n",
      "24.0      728682.0\n",
      "41.0     1133530.0\n",
      "           ...    \n",
      "246.0    3988520.0\n",
      "249.0    4384126.0\n",
      "261.0    1213640.0\n",
      "262.0    3139993.0\n",
      "263.0    4534054.0\n",
      "Name: passenger_count, Length: 67, dtype: float64\n",
      "\n",
      "Counts for day:\n",
      "day\n",
      "0.0    24638967.0\n",
      "1.0    28318913.0\n",
      "2.0    29867487.0\n",
      "3.0    30847447.0\n",
      "4.0    30758370.0\n",
      "5.0    31954461.0\n",
      "6.0    25471483.0\n",
      "Name: passenger_count, dtype: float64\n",
      "\n",
      "Counts for month:\n",
      "month\n",
      "1.0     19628454.0\n",
      "2.0     20467810.0\n",
      "3.0     23754834.0\n",
      "4.0     16292567.0\n",
      "5.0     16407460.0\n",
      "6.0     15917876.0\n",
      "7.0     14353805.0\n",
      "8.0     13943335.0\n",
      "9.0     13633552.0\n",
      "10.0    16431796.0\n",
      "11.0    15148771.0\n",
      "12.0    15876868.0\n",
      "Name: passenger_count, dtype: float64\n",
      "\n",
      "Counts for year:\n",
      "year\n",
      "2022.0    93705031.0\n",
      "2023.0    87645967.0\n",
      "2024.0    20506130.0\n",
      "Name: passenger_count, dtype: float64\n",
      "\n",
      "Counts for hour:\n",
      "hour\n",
      "0.0      5672808.0\n",
      "1.0      3889653.0\n",
      "2.0      2628448.0\n",
      "3.0      1669153.0\n",
      "4.0       967712.0\n",
      "5.0       844133.0\n",
      "6.0      2203320.0\n",
      "7.0      4776136.0\n",
      "8.0      6993980.0\n",
      "9.0      8255525.0\n",
      "10.0     9314361.0\n",
      "11.0    10247328.0\n",
      "12.0    11229640.0\n",
      "13.0    11483744.0\n",
      "14.0    12174614.0\n",
      "15.0    12795991.0\n",
      "16.0    12724533.0\n",
      "17.0    13863939.0\n",
      "18.0    14835913.0\n",
      "19.0    13431018.0\n",
      "20.0    11668807.0\n",
      "21.0    11462125.0\n",
      "22.0    10522982.0\n",
      "23.0     8201265.0\n",
      "Name: passenger_count, dtype: float64\n",
      "\n"
     ]
    }
   ],
   "source": [
    "categorical_features = ['LocationID', 'day', 'month', 'year', 'hour']\n",
    "\n",
    "for feature in categorical_features:\n",
    "    counts = transformed_df.groupby(feature)['passenger_count'].sum()\n",
    "    print(f\"Counts for {feature}:\")\n",
    "    print(counts)\n",
    "    print()"
   ]
  },
  {
   "cell_type": "code",
   "execution_count": 10,
   "id": "15a06a50",
   "metadata": {
    "ExecuteTime": {
     "end_time": "2024-07-10T10:17:29.164332Z",
     "start_time": "2024-07-10T10:17:27.728687Z"
    }
   },
   "outputs": [
    {
     "name": "stdout",
     "output_type": "stream",
     "text": [
      "Number of duplicate rows: 12720697\n"
     ]
    }
   ],
   "source": [
    "print('Number of duplicate rows:', transformed_df.duplicated().sum())"
   ]
  },
  {
   "cell_type": "markdown",
   "id": "5bda40f0",
   "metadata": {},
   "source": [
    "**Recombine data to remove duplicates, can't drop as different journeys**"
   ]
  },
  {
   "cell_type": "code",
   "execution_count": 11,
   "id": "56585f74",
   "metadata": {
    "ExecuteTime": {
     "end_time": "2024-07-10T10:17:30.737937Z",
     "start_time": "2024-07-10T10:17:29.165845Z"
    },
    "scrolled": true
   },
   "outputs": [
    {
     "data": {
      "text/html": [
       "<div>\n",
       "<style scoped>\n",
       "    .dataframe tbody tr th:only-of-type {\n",
       "        vertical-align: middle;\n",
       "    }\n",
       "\n",
       "    .dataframe tbody tr th {\n",
       "        vertical-align: top;\n",
       "    }\n",
       "\n",
       "    .dataframe thead th {\n",
       "        text-align: right;\n",
       "    }\n",
       "</style>\n",
       "<table border=\"1\" class=\"dataframe\">\n",
       "  <thead>\n",
       "    <tr style=\"text-align: right;\">\n",
       "      <th></th>\n",
       "      <th>LocationID</th>\n",
       "      <th>day</th>\n",
       "      <th>month</th>\n",
       "      <th>year</th>\n",
       "      <th>hour</th>\n",
       "      <th>passenger_count</th>\n",
       "    </tr>\n",
       "  </thead>\n",
       "  <tbody>\n",
       "    <tr>\n",
       "      <th>0</th>\n",
       "      <td>4.0</td>\n",
       "      <td>0.0</td>\n",
       "      <td>1.0</td>\n",
       "      <td>2022.0</td>\n",
       "      <td>0.0</td>\n",
       "      <td>91.0</td>\n",
       "    </tr>\n",
       "    <tr>\n",
       "      <th>1</th>\n",
       "      <td>4.0</td>\n",
       "      <td>0.0</td>\n",
       "      <td>1.0</td>\n",
       "      <td>2022.0</td>\n",
       "      <td>1.0</td>\n",
       "      <td>35.0</td>\n",
       "    </tr>\n",
       "    <tr>\n",
       "      <th>2</th>\n",
       "      <td>4.0</td>\n",
       "      <td>0.0</td>\n",
       "      <td>1.0</td>\n",
       "      <td>2022.0</td>\n",
       "      <td>2.0</td>\n",
       "      <td>13.0</td>\n",
       "    </tr>\n",
       "    <tr>\n",
       "      <th>3</th>\n",
       "      <td>4.0</td>\n",
       "      <td>0.0</td>\n",
       "      <td>1.0</td>\n",
       "      <td>2022.0</td>\n",
       "      <td>3.0</td>\n",
       "      <td>9.0</td>\n",
       "    </tr>\n",
       "    <tr>\n",
       "      <th>4</th>\n",
       "      <td>4.0</td>\n",
       "      <td>0.0</td>\n",
       "      <td>1.0</td>\n",
       "      <td>2022.0</td>\n",
       "      <td>4.0</td>\n",
       "      <td>10.0</td>\n",
       "    </tr>\n",
       "  </tbody>\n",
       "</table>\n",
       "</div>"
      ],
      "text/plain": [
       "   LocationID  day  month    year  hour  passenger_count\n",
       "0         4.0  0.0    1.0  2022.0   0.0             91.0\n",
       "1         4.0  0.0    1.0  2022.0   1.0             35.0\n",
       "2         4.0  0.0    1.0  2022.0   2.0             13.0\n",
       "3         4.0  0.0    1.0  2022.0   3.0              9.0\n",
       "4         4.0  0.0    1.0  2022.0   4.0             10.0"
      ]
     },
     "execution_count": 11,
     "metadata": {},
     "output_type": "execute_result"
    }
   ],
   "source": [
    "transformed_df_combined = transformed_df.groupby(['LocationID', 'day', 'month', 'year', 'hour'], dropna=False)['passenger_count'].sum().reset_index()\n",
    "transformed_df_combined.head()"
   ]
  },
  {
   "cell_type": "code",
   "execution_count": 12,
   "id": "5344b5fd",
   "metadata": {
    "ExecuteTime": {
     "end_time": "2024-07-10T10:17:30.764403Z",
     "start_time": "2024-07-10T10:17:30.739399Z"
    }
   },
   "outputs": [
    {
     "name": "stdout",
     "output_type": "stream",
     "text": [
      "Number of duplicate rows: 0\n"
     ]
    }
   ],
   "source": [
    "print('Number of duplicate rows:', transformed_df_combined.duplicated().sum())"
   ]
  },
  {
   "cell_type": "markdown",
   "id": "808e890f",
   "metadata": {},
   "source": [
    "**Integrity Checks**"
   ]
  },
  {
   "cell_type": "code",
   "execution_count": 13,
   "id": "65e34ad1",
   "metadata": {
    "ExecuteTime": {
     "end_time": "2024-07-10T10:17:30.799452Z",
     "start_time": "2024-07-10T10:17:30.765148Z"
    }
   },
   "outputs": [
    {
     "name": "stdout",
     "output_type": "stream",
     "text": [
      "Counts for LocationID:\n",
      "LocationID\n",
      "4.0       555392.0\n",
      "12.0      146271.0\n",
      "13.0     1558490.0\n",
      "24.0      728682.0\n",
      "41.0     1133530.0\n",
      "           ...    \n",
      "246.0    3988520.0\n",
      "249.0    4384126.0\n",
      "261.0    1213640.0\n",
      "262.0    3139993.0\n",
      "263.0    4534054.0\n",
      "Name: passenger_count, Length: 67, dtype: float64\n",
      "\n",
      "Counts for day:\n",
      "day\n",
      "0.0    24638967.0\n",
      "1.0    28318913.0\n",
      "2.0    29867487.0\n",
      "3.0    30847447.0\n",
      "4.0    30758370.0\n",
      "5.0    31954461.0\n",
      "6.0    25471483.0\n",
      "Name: passenger_count, dtype: float64\n",
      "\n",
      "Counts for month:\n",
      "month\n",
      "1.0     19628454.0\n",
      "2.0     20467810.0\n",
      "3.0     23754834.0\n",
      "4.0     16292567.0\n",
      "5.0     16407460.0\n",
      "6.0     15917876.0\n",
      "7.0     14353805.0\n",
      "8.0     13943335.0\n",
      "9.0     13633552.0\n",
      "10.0    16431796.0\n",
      "11.0    15148771.0\n",
      "12.0    15876868.0\n",
      "Name: passenger_count, dtype: float64\n",
      "\n",
      "Counts for year:\n",
      "year\n",
      "2022.0    93705031.0\n",
      "2023.0    87645967.0\n",
      "2024.0    20506130.0\n",
      "Name: passenger_count, dtype: float64\n",
      "\n",
      "Counts for hour:\n",
      "hour\n",
      "0.0      5672808.0\n",
      "1.0      3889653.0\n",
      "2.0      2628448.0\n",
      "3.0      1669153.0\n",
      "4.0       967712.0\n",
      "5.0       844133.0\n",
      "6.0      2203320.0\n",
      "7.0      4776136.0\n",
      "8.0      6993980.0\n",
      "9.0      8255525.0\n",
      "10.0     9314361.0\n",
      "11.0    10247328.0\n",
      "12.0    11229640.0\n",
      "13.0    11483744.0\n",
      "14.0    12174614.0\n",
      "15.0    12795991.0\n",
      "16.0    12724533.0\n",
      "17.0    13863939.0\n",
      "18.0    14835913.0\n",
      "19.0    13431018.0\n",
      "20.0    11668807.0\n",
      "21.0    11462125.0\n",
      "22.0    10522982.0\n",
      "23.0     8201265.0\n",
      "Name: passenger_count, dtype: float64\n",
      "\n"
     ]
    }
   ],
   "source": [
    "for feature in categorical_features:\n",
    "    counts = transformed_df_combined.groupby(feature)['passenger_count'].sum()\n",
    "    print(f\"Counts for {feature}:\")\n",
    "    print(counts)\n",
    "    print()"
   ]
  },
  {
   "cell_type": "code",
   "execution_count": 14,
   "id": "04177ae5",
   "metadata": {
    "ExecuteTime": {
     "end_time": "2024-07-10T10:17:30.814001Z",
     "start_time": "2024-07-10T10:17:30.800173Z"
    }
   },
   "outputs": [
    {
     "name": "stdout",
     "output_type": "stream",
     "text": [
      "LocationID Unique Values: [4.0, 12.0, 13.0, 24.0, 41.0, 42.0, 43.0, 45.0, 48.0, 50.0, 68.0, 74.0, 75.0, 79.0, 87.0, 88.0, 90.0, 100.0, 105.0, 107.0, 113.0, 114.0, 116.0, 120.0, 125.0, 127.0, 128.0, 137.0, 140.0, 141.0, 142.0, 143.0, 144.0, 148.0, 151.0, 152.0, 153.0, 158.0, 161.0, 162.0, 163.0, 164.0, 166.0, 170.0, 186.0, 194.0, 202.0, 209.0, 211.0, 224.0, 229.0, 230.0, 231.0, 232.0, 233.0, 234.0, 236.0, 237.0, 238.0, 239.0, 243.0, 244.0, 246.0, 249.0, 261.0, 262.0, 263.0]\n",
      "\n",
      "day Unique Values: [0.0, 1.0, 2.0, 3.0, 4.0, 5.0, 6.0]\n",
      "\n",
      "month Unique Values: [1.0, 2.0, 3.0, 4.0, 5.0, 6.0, 7.0, 8.0, 9.0, 10.0, 11.0, 12.0]\n",
      "\n",
      "year Unique Values: [2022.0, 2023.0, 2024.0]\n",
      "\n",
      "hour Unique Values: [0.0, 1.0, 2.0, 3.0, 4.0, 5.0, 6.0, 7.0, 8.0, 9.0, 10.0, 11.0, 12.0, 13.0, 14.0, 15.0, 16.0, 17.0, 18.0, 19.0, 20.0, 21.0, 22.0, 23.0]\n",
      "\n",
      "passenger_count Unique Values: [1.0, 2.0, 3.0, 4.0, 5.0, 6.0, 7.0, 8.0, 9.0, 10.0, 11.0, 12.0, 13.0, 14.0, 15.0, 16.0, 17.0, 18.0, 19.0, 20.0, 21.0, 22.0, 23.0, 24.0, 25.0, 26.0, 27.0, 28.0, 29.0, 30.0, 31.0, 32.0, 33.0, 34.0, 35.0, 36.0, 37.0, 38.0, 39.0, 40.0, 41.0, 42.0, 43.0, 44.0, 45.0, 46.0, 47.0, 48.0, 49.0, 50.0, 51.0, 52.0, 53.0, 54.0, 55.0, 56.0, 57.0, 58.0, 59.0, 60.0, 61.0, 62.0, 63.0, 64.0, 65.0, 66.0, 67.0, 68.0, 69.0, 70.0, 71.0, 72.0, 73.0, 74.0, 75.0, 76.0, 77.0, 78.0, 79.0, 80.0, 81.0, 82.0, 83.0, 84.0, 85.0, 86.0, 87.0, 88.0, 89.0, 90.0, 91.0, 92.0, 93.0, 94.0, 95.0, 96.0, 97.0, 98.0, 99.0, 100.0, 101.0, 102.0, 103.0, 104.0, 105.0, 106.0, 107.0, 108.0, 109.0, 110.0, 111.0, 112.0, 113.0, 114.0, 115.0, 116.0, 117.0, 118.0, 119.0, 120.0, 121.0, 122.0, 123.0, 124.0, 125.0, 126.0, 127.0, 128.0, 129.0, 130.0, 131.0, 132.0, 133.0, 134.0, 135.0, 136.0, 137.0, 138.0, 139.0, 140.0, 141.0, 142.0, 143.0, 144.0, 145.0, 146.0, 147.0, 148.0, 149.0, 150.0, 151.0, 152.0, 153.0, 154.0, 155.0, 156.0, 157.0, 158.0, 159.0, 160.0, 161.0, 162.0, 163.0, 164.0, 165.0, 166.0, 167.0, 168.0, 169.0, 170.0, 171.0, 172.0, 173.0, 174.0, 175.0, 176.0, 177.0, 178.0, 179.0, 180.0, 181.0, 182.0, 183.0, 184.0, 185.0, 186.0, 187.0, 188.0, 189.0, 190.0, 191.0, 192.0, 193.0, 194.0, 195.0, 196.0, 197.0, 198.0, 199.0, 200.0, 201.0, 202.0, 203.0, 204.0, 205.0, 206.0, 207.0, 208.0, 209.0, 210.0, 211.0, 212.0, 213.0, 214.0, 215.0, 216.0, 217.0, 218.0, 219.0, 220.0, 221.0, 222.0, 223.0, 224.0, 225.0, 226.0, 227.0, 228.0, 229.0, 230.0, 231.0, 232.0, 233.0, 234.0, 235.0, 236.0, 237.0, 238.0, 239.0, 240.0, 241.0, 242.0, 243.0, 244.0, 245.0, 246.0, 247.0, 248.0, 249.0, 250.0, 251.0, 252.0, 253.0, 254.0, 255.0, 256.0, 257.0, 258.0, 259.0, 260.0, 261.0, 262.0, 263.0, 264.0, 265.0, 266.0, 267.0, 268.0, 269.0, 270.0, 271.0, 272.0, 273.0, 274.0, 275.0, 276.0, 277.0, 278.0, 279.0, 280.0, 281.0, 282.0, 283.0, 284.0, 285.0, 286.0, 287.0, 288.0, 289.0, 290.0, 291.0, 292.0, 293.0, 294.0, 295.0, 296.0, 297.0, 298.0, 299.0, 300.0, 301.0, 302.0, 303.0, 304.0, 305.0, 306.0, 307.0, 308.0, 309.0, 310.0, 311.0, 312.0, 313.0, 314.0, 315.0, 316.0, 317.0, 318.0, 319.0, 320.0, 321.0, 322.0, 323.0, 324.0, 325.0, 326.0, 327.0, 328.0, 329.0, 330.0, 331.0, 332.0, 333.0, 334.0, 335.0, 336.0, 337.0, 338.0, 339.0, 340.0, 341.0, 342.0, 343.0, 344.0, 345.0, 346.0, 347.0, 348.0, 349.0, 350.0, 351.0, 352.0, 353.0, 354.0, 355.0, 356.0, 357.0, 358.0, 359.0, 360.0, 361.0, 362.0, 363.0, 364.0, 365.0, 366.0, 367.0, 368.0, 369.0, 370.0, 371.0, 372.0, 373.0, 374.0, 375.0, 376.0, 377.0, 378.0, 379.0, 380.0, 381.0, 382.0, 383.0, 384.0, 385.0, 386.0, 387.0, 388.0, 389.0, 390.0, 391.0, 392.0, 393.0, 394.0, 395.0, 396.0, 397.0, 398.0, 399.0, 400.0, 401.0, 402.0, 403.0, 404.0, 405.0, 406.0, 407.0, 408.0, 409.0, 410.0, 411.0, 412.0, 413.0, 414.0, 415.0, 416.0, 417.0, 418.0, 419.0, 420.0, 421.0, 422.0, 423.0, 424.0, 425.0, 426.0, 427.0, 428.0, 429.0, 430.0, 431.0, 432.0, 433.0, 434.0, 435.0, 436.0, 437.0, 438.0, 439.0, 440.0, 441.0, 442.0, 443.0, 444.0, 445.0, 446.0, 447.0, 448.0, 449.0, 450.0, 451.0, 452.0, 453.0, 454.0, 455.0, 456.0, 457.0, 458.0, 459.0, 460.0, 461.0, 462.0, 463.0, 464.0, 465.0, 466.0, 467.0, 468.0, 469.0, 470.0, 471.0, 472.0, 473.0, 474.0, 475.0, 476.0, 477.0, 478.0, 479.0, 480.0, 481.0, 482.0, 483.0, 484.0, 485.0, 486.0, 487.0, 488.0, 489.0, 490.0, 491.0, 492.0, 493.0, 494.0, 495.0, 496.0, 497.0, 498.0, 499.0, 500.0, 501.0, 502.0, 503.0, 504.0, 505.0, 506.0, 507.0, 508.0, 509.0, 510.0, 511.0, 512.0, 513.0, 514.0, 515.0, 516.0, 517.0, 518.0, 519.0, 520.0, 521.0, 522.0, 523.0, 524.0, 525.0, 526.0, 527.0, 528.0, 529.0, 530.0, 531.0, 532.0, 533.0, 534.0, 535.0, 536.0, 537.0, 538.0, 539.0, 540.0, 541.0, 542.0, 543.0, 544.0, 545.0, 546.0, 547.0, 548.0, 549.0, 550.0, 551.0, 552.0, 553.0, 554.0, 555.0, 556.0, 557.0, 558.0, 559.0, 560.0, 561.0, 562.0, 563.0, 564.0, 565.0, 566.0, 567.0, 568.0, 569.0, 570.0, 571.0, 572.0, 573.0, 574.0, 575.0, 576.0, 577.0, 578.0, 579.0, 580.0, 581.0, 582.0, 583.0, 584.0, 585.0, 586.0, 587.0, 588.0, 589.0, 590.0, 591.0, 592.0, 593.0, 594.0, 595.0, 596.0, 597.0, 598.0, 599.0, 600.0, 601.0, 602.0, 603.0, 604.0, 605.0, 606.0, 607.0, 608.0, 609.0, 610.0, 611.0, 612.0, 613.0, 614.0, 615.0, 616.0, 617.0, 618.0, 619.0, 620.0, 621.0, 622.0, 623.0, 624.0, 625.0, 626.0, 627.0, 628.0, 629.0, 630.0, 631.0, 632.0, 633.0, 634.0, 635.0, 636.0, 637.0, 638.0, 639.0, 640.0, 641.0, 642.0, 643.0, 644.0, 645.0, 646.0, 647.0, 648.0, 649.0, 650.0, 651.0, 652.0, 653.0, 654.0, 655.0, 656.0, 657.0, 658.0, 659.0, 660.0, 661.0, 662.0, 663.0, 664.0, 665.0, 666.0, 667.0, 668.0, 669.0, 670.0, 671.0, 672.0, 673.0, 674.0, 675.0, 676.0, 677.0, 678.0, 679.0, 680.0, 681.0, 682.0, 683.0, 684.0, 685.0, 686.0, 687.0, 688.0, 689.0, 690.0, 691.0, 692.0, 693.0, 694.0, 695.0, 696.0, 697.0, 698.0, 699.0, 700.0, 701.0, 702.0, 703.0, 704.0, 705.0, 706.0, 707.0, 708.0, 709.0, 710.0, 711.0, 712.0, 713.0, 714.0, 715.0, 716.0, 717.0, 718.0, 719.0, 720.0, 721.0, 722.0, 723.0, 724.0, 725.0, 726.0, 727.0, 728.0, 729.0, 730.0, 731.0, 732.0, 733.0, 734.0, 735.0, 736.0, 737.0, 738.0, 739.0, 740.0, 741.0, 742.0, 743.0, 744.0, 745.0, 746.0, 747.0, 748.0, 749.0, 750.0, 751.0, 752.0, 753.0, 754.0, 755.0, 756.0, 757.0, 758.0, 759.0, 760.0, 761.0, 762.0, 763.0, 764.0, 765.0, 766.0, 767.0, 768.0, 769.0, 770.0, 771.0, 772.0, 773.0, 774.0, 775.0, 776.0, 777.0, 778.0, 779.0, 780.0, 781.0, 782.0, 783.0, 784.0, 785.0, 786.0, 787.0, 788.0, 789.0, 790.0, 791.0, 792.0, 793.0, 794.0, 795.0, 796.0, 797.0, 798.0, 799.0, 800.0, 801.0, 802.0, 803.0, 804.0, 805.0, 806.0, 807.0, 808.0, 809.0, 810.0, 811.0, 812.0, 813.0, 814.0, 815.0, 816.0, 817.0, 818.0, 819.0, 820.0, 821.0, 822.0, 823.0, 824.0, 825.0, 826.0, 827.0, 828.0, 829.0, 830.0, 831.0, 832.0, 833.0, 834.0, 835.0, 836.0, 837.0, 838.0, 839.0, 840.0, 841.0, 842.0, 843.0, 844.0, 845.0, 846.0, 847.0, 848.0, 849.0, 850.0, 851.0, 852.0, 853.0, 854.0, 855.0, 856.0, 857.0, 858.0, 859.0, 860.0, 861.0, 862.0, 863.0, 864.0, 865.0, 866.0, 867.0, 868.0, 869.0, 870.0, 871.0, 872.0, 873.0, 874.0, 875.0, 876.0, 877.0, 878.0, 879.0, 880.0, 881.0, 882.0, 883.0, 884.0, 885.0, 886.0, 887.0, 888.0, 889.0, 890.0, 891.0, 892.0, 893.0, 894.0, 895.0, 896.0, 897.0, 898.0, 899.0, 900.0, 901.0, 902.0, 903.0, 904.0, 905.0, 906.0, 907.0, 908.0, 909.0, 910.0, 911.0, 912.0, 913.0, 914.0, 915.0, 916.0, 917.0, 918.0, 919.0, 920.0, 921.0, 922.0, 923.0, 924.0, 925.0, 926.0, 927.0, 928.0, 929.0, 930.0, 931.0, 932.0, 933.0, 934.0, 935.0, 936.0, 937.0, 938.0, 939.0, 940.0, 941.0, 942.0, 943.0, 944.0, 945.0, 946.0, 947.0, 948.0, 949.0, 950.0, 951.0, 952.0, 953.0, 954.0, 955.0, 956.0, 957.0, 958.0, 959.0, 960.0, 961.0, 962.0, 963.0, 964.0, 965.0, 966.0, 967.0, 968.0, 969.0, 970.0, 971.0, 972.0, 973.0, 974.0, 975.0, 976.0, 977.0, 978.0, 979.0, 980.0, 981.0, 982.0, 983.0, 984.0, 985.0, 986.0, 987.0, 988.0, 989.0, 990.0, 991.0, 992.0, 993.0, 994.0, 995.0, 996.0, 997.0, 998.0, 999.0, 1000.0, 1001.0, 1002.0, 1003.0, 1004.0, 1005.0, 1006.0, 1007.0, 1008.0, 1009.0, 1010.0, 1011.0, 1012.0, 1013.0, 1014.0, 1015.0, 1016.0, 1017.0, 1018.0, 1019.0, 1020.0, 1021.0, 1022.0, 1023.0, 1024.0, 1025.0, 1026.0, 1027.0, 1028.0, 1029.0, 1030.0, 1031.0, 1032.0, 1033.0, 1034.0, 1035.0, 1036.0, 1037.0, 1038.0, 1039.0, 1040.0, 1041.0, 1042.0, 1043.0, 1044.0, 1045.0, 1046.0, 1047.0, 1048.0, 1049.0, 1050.0, 1051.0, 1052.0, 1053.0, 1054.0, 1055.0, 1056.0, 1057.0, 1058.0, 1059.0, 1060.0, 1061.0, 1062.0, 1063.0, 1064.0, 1065.0, 1066.0, 1067.0, 1068.0, 1069.0, 1070.0, 1071.0, 1072.0, 1073.0, 1074.0, 1075.0, 1076.0, 1077.0, 1078.0, 1079.0, 1080.0, 1081.0, 1082.0, 1083.0, 1084.0, 1085.0, 1086.0, 1087.0, 1088.0, 1089.0, 1090.0, 1091.0, 1092.0, 1093.0, 1094.0, 1095.0, 1096.0, 1097.0, 1098.0, 1099.0, 1100.0, 1101.0, 1102.0, 1103.0, 1104.0, 1105.0, 1106.0, 1107.0, 1108.0, 1109.0, 1110.0, 1111.0, 1112.0, 1113.0, 1114.0, 1115.0, 1116.0, 1117.0, 1118.0, 1119.0, 1120.0, 1121.0, 1122.0, 1123.0, 1124.0, 1125.0, 1126.0, 1127.0, 1128.0, 1129.0, 1130.0, 1131.0, 1132.0, 1133.0, 1134.0, 1135.0, 1136.0, 1137.0, 1138.0, 1139.0, 1140.0, 1141.0, 1142.0, 1143.0, 1144.0, 1145.0, 1146.0, 1147.0, 1148.0, 1149.0, 1150.0, 1151.0, 1152.0, 1153.0, 1154.0, 1155.0, 1156.0, 1157.0, 1158.0, 1159.0, 1160.0, 1161.0, 1162.0, 1163.0, 1164.0, 1165.0, 1166.0, 1167.0, 1168.0, 1169.0, 1170.0, 1171.0, 1172.0, 1173.0, 1174.0, 1175.0, 1176.0, 1177.0, 1178.0, 1179.0, 1180.0, 1181.0, 1182.0, 1183.0, 1184.0, 1185.0, 1186.0, 1187.0, 1188.0, 1189.0, 1190.0, 1191.0, 1192.0, 1193.0, 1194.0, 1195.0, 1196.0, 1197.0, 1198.0, 1199.0, 1200.0, 1201.0, 1202.0, 1203.0, 1204.0, 1205.0, 1206.0, 1207.0, 1208.0, 1209.0, 1210.0, 1211.0, 1212.0, 1213.0, 1214.0, 1215.0, 1216.0, 1217.0, 1218.0, 1219.0, 1220.0, 1221.0, 1222.0, 1223.0, 1224.0, 1225.0, 1226.0, 1227.0, 1228.0, 1229.0, 1230.0, 1231.0, 1232.0, 1233.0, 1234.0, 1235.0, 1236.0, 1237.0, 1238.0, 1239.0, 1240.0, 1241.0, 1242.0, 1243.0, 1244.0, 1245.0, 1246.0, 1247.0, 1248.0, 1249.0, 1250.0, 1251.0, 1252.0, 1253.0, 1254.0, 1255.0, 1256.0, 1257.0, 1258.0, 1259.0, 1260.0, 1261.0, 1262.0, 1263.0, 1264.0, 1265.0, 1266.0, 1267.0, 1268.0, 1269.0, 1270.0, 1271.0, 1272.0, 1273.0, 1274.0, 1275.0, 1276.0, 1277.0, 1278.0, 1279.0, 1280.0, 1281.0, 1282.0, 1283.0, 1284.0, 1285.0, 1286.0, 1287.0, 1288.0, 1289.0, 1290.0, 1291.0, 1292.0, 1293.0, 1294.0, 1295.0, 1296.0, 1297.0, 1298.0, 1299.0, 1300.0, 1301.0, 1302.0, 1303.0, 1304.0, 1305.0, 1306.0, 1307.0, 1308.0, 1309.0, 1310.0, 1311.0, 1312.0, 1313.0, 1314.0, 1315.0, 1316.0, 1317.0, 1318.0, 1319.0, 1320.0, 1321.0, 1322.0, 1323.0, 1324.0, 1325.0, 1326.0, 1327.0, 1328.0, 1329.0, 1330.0, 1331.0, 1332.0, 1333.0, 1334.0, 1335.0, 1336.0, 1337.0, 1338.0, 1339.0, 1340.0, 1341.0, 1342.0, 1343.0, 1344.0, 1345.0, 1346.0, 1347.0, 1348.0, 1349.0, 1350.0, 1351.0, 1352.0, 1353.0, 1354.0, 1355.0, 1356.0, 1357.0, 1358.0, 1359.0, 1360.0, 1361.0, 1362.0, 1363.0, 1364.0, 1365.0, 1366.0, 1367.0, 1368.0, 1369.0, 1370.0, 1371.0, 1372.0, 1373.0, 1374.0, 1375.0, 1376.0, 1377.0, 1378.0, 1379.0, 1380.0, 1381.0, 1382.0, 1383.0, 1384.0, 1385.0, 1386.0, 1387.0, 1388.0, 1389.0, 1390.0, 1391.0, 1392.0, 1393.0, 1394.0, 1395.0, 1396.0, 1397.0, 1398.0, 1399.0, 1400.0, 1401.0, 1402.0, 1403.0, 1404.0, 1405.0, 1406.0, 1407.0, 1408.0, 1409.0, 1410.0, 1411.0, 1412.0, 1413.0, 1414.0, 1415.0, 1416.0, 1417.0, 1418.0, 1419.0, 1420.0, 1421.0, 1422.0, 1423.0, 1424.0, 1425.0, 1426.0, 1427.0, 1428.0, 1429.0, 1430.0, 1431.0, 1432.0, 1433.0, 1434.0, 1435.0, 1436.0, 1437.0, 1438.0, 1439.0, 1440.0, 1441.0, 1442.0, 1443.0, 1444.0, 1445.0, 1446.0, 1447.0, 1448.0, 1449.0, 1450.0, 1451.0, 1452.0, 1453.0, 1454.0, 1455.0, 1456.0, 1457.0, 1458.0, 1459.0, 1460.0, 1461.0, 1462.0, 1463.0, 1464.0, 1465.0, 1466.0, 1467.0, 1468.0, 1469.0, 1470.0, 1471.0, 1472.0, 1473.0, 1474.0, 1475.0, 1476.0, 1477.0, 1478.0, 1479.0, 1480.0, 1481.0, 1482.0, 1483.0, 1484.0, 1485.0, 1486.0, 1487.0, 1488.0, 1489.0, 1490.0, 1491.0, 1492.0, 1493.0, 1494.0, 1495.0, 1496.0, 1497.0, 1498.0, 1499.0, 1500.0, 1501.0, 1502.0, 1503.0, 1504.0, 1505.0, 1506.0, 1507.0, 1508.0, 1509.0, 1510.0, 1511.0, 1512.0, 1513.0, 1514.0, 1515.0, 1516.0, 1517.0, 1518.0, 1519.0, 1520.0, 1521.0, 1522.0, 1523.0, 1524.0, 1525.0, 1526.0, 1527.0, 1528.0, 1529.0, 1530.0, 1531.0, 1532.0, 1533.0, 1534.0, 1535.0, 1536.0, 1537.0, 1538.0, 1539.0, 1540.0, 1541.0, 1542.0, 1543.0, 1544.0, 1545.0, 1546.0, 1547.0, 1548.0, 1549.0, 1550.0, 1551.0, 1552.0, 1553.0, 1554.0, 1555.0, 1556.0, 1557.0, 1558.0, 1559.0, 1560.0, 1561.0, 1562.0, 1563.0, 1564.0, 1565.0, 1566.0, 1567.0, 1568.0, 1569.0, 1570.0, 1571.0, 1572.0, 1573.0, 1574.0, 1575.0, 1576.0, 1577.0, 1578.0, 1579.0, 1580.0, 1581.0, 1582.0, 1583.0, 1584.0, 1585.0, 1586.0, 1587.0, 1588.0, 1589.0, 1590.0, 1591.0, 1592.0, 1593.0, 1594.0, 1595.0, 1596.0, 1597.0, 1598.0, 1599.0, 1600.0, 1601.0, 1602.0, 1603.0, 1604.0, 1605.0, 1606.0, 1607.0, 1608.0, 1609.0, 1610.0, 1611.0, 1612.0, 1613.0, 1614.0, 1615.0, 1616.0, 1617.0, 1618.0, 1619.0, 1620.0, 1621.0, 1622.0, 1623.0, 1624.0, 1625.0, 1626.0, 1627.0, 1628.0, 1629.0, 1630.0, 1631.0, 1632.0, 1633.0, 1634.0, 1635.0, 1636.0, 1637.0, 1638.0, 1639.0, 1640.0, 1641.0, 1642.0, 1643.0, 1644.0, 1645.0, 1646.0, 1647.0, 1648.0, 1649.0, 1650.0, 1651.0, 1652.0, 1653.0, 1654.0, 1655.0, 1656.0, 1657.0, 1658.0, 1659.0, 1660.0, 1661.0, 1662.0, 1663.0, 1664.0, 1665.0, 1666.0, 1667.0, 1668.0, 1669.0, 1670.0, 1671.0, 1672.0, 1673.0, 1674.0, 1675.0, 1676.0, 1677.0, 1678.0, 1679.0, 1680.0, 1681.0, 1682.0, 1683.0, 1684.0, 1685.0, 1686.0, 1687.0, 1688.0, 1689.0, 1690.0, 1691.0, 1692.0, 1693.0, 1694.0, 1695.0, 1696.0, 1697.0, 1698.0, 1699.0, 1700.0, 1701.0, 1702.0, 1703.0, 1704.0, 1705.0, 1706.0, 1707.0, 1708.0, 1709.0, 1710.0, 1711.0, 1712.0, 1713.0, 1714.0, 1715.0, 1716.0, 1717.0, 1718.0, 1719.0, 1720.0, 1721.0, 1722.0, 1723.0, 1724.0, 1725.0, 1726.0, 1727.0, 1728.0, 1729.0, 1730.0, 1731.0, 1732.0, 1733.0, 1734.0, 1735.0, 1736.0, 1737.0, 1738.0, 1739.0, 1740.0, 1741.0, 1742.0, 1743.0, 1744.0, 1745.0, 1746.0, 1747.0, 1748.0, 1749.0, 1750.0, 1751.0, 1752.0, 1753.0, 1754.0, 1755.0, 1756.0, 1757.0, 1758.0, 1759.0, 1760.0, 1761.0, 1762.0, 1763.0, 1764.0, 1765.0, 1766.0, 1767.0, 1768.0, 1769.0, 1770.0, 1771.0, 1772.0, 1773.0, 1774.0, 1775.0, 1776.0, 1777.0, 1778.0, 1779.0, 1780.0, 1781.0, 1782.0, 1783.0, 1784.0, 1785.0, 1786.0, 1787.0, 1788.0, 1789.0, 1790.0, 1791.0, 1792.0, 1793.0, 1794.0, 1795.0, 1796.0, 1797.0, 1798.0, 1799.0, 1800.0, 1801.0, 1802.0, 1803.0, 1804.0, 1805.0, 1806.0, 1807.0, 1808.0, 1809.0, 1810.0, 1811.0, 1812.0, 1813.0, 1814.0, 1815.0, 1816.0, 1817.0, 1818.0, 1819.0, 1820.0, 1821.0, 1822.0, 1823.0, 1824.0, 1825.0, 1826.0, 1827.0, 1828.0, 1829.0, 1830.0, 1831.0, 1832.0, 1833.0, 1834.0, 1835.0, 1836.0, 1837.0, 1838.0, 1839.0, 1840.0, 1841.0, 1842.0, 1843.0, 1844.0, 1845.0, 1846.0, 1847.0, 1848.0, 1849.0, 1850.0, 1851.0, 1852.0, 1853.0, 1854.0, 1855.0, 1856.0, 1857.0, 1858.0, 1859.0, 1860.0, 1861.0, 1862.0, 1863.0, 1864.0, 1865.0, 1866.0, 1867.0, 1868.0, 1869.0, 1870.0, 1871.0, 1872.0, 1873.0, 1874.0, 1875.0, 1876.0, 1877.0, 1878.0, 1879.0, 1880.0, 1881.0, 1882.0, 1883.0, 1884.0, 1885.0, 1886.0, 1887.0, 1888.0, 1889.0, 1890.0, 1891.0, 1892.0, 1893.0, 1894.0, 1895.0, 1896.0, 1897.0, 1898.0, 1899.0, 1900.0, 1901.0, 1902.0, 1903.0, 1904.0, 1905.0, 1906.0, 1907.0, 1908.0, 1909.0, 1910.0, 1911.0, 1912.0, 1913.0, 1914.0, 1915.0, 1916.0, 1917.0, 1918.0, 1919.0, 1920.0, 1921.0, 1922.0, 1923.0, 1924.0, 1925.0, 1926.0, 1927.0, 1928.0, 1929.0, 1930.0, 1931.0, 1932.0, 1933.0, 1934.0, 1935.0, 1936.0, 1937.0, 1938.0, 1939.0, 1940.0, 1941.0, 1942.0, 1943.0, 1944.0, 1945.0, 1946.0, 1947.0, 1948.0, 1949.0, 1950.0, 1951.0, 1952.0, 1953.0, 1954.0, 1955.0, 1956.0, 1957.0, 1958.0, 1959.0, 1960.0, 1961.0, 1962.0, 1963.0, 1964.0, 1965.0, 1966.0, 1967.0, 1968.0, 1969.0, 1970.0, 1971.0, 1972.0, 1973.0, 1974.0, 1975.0, 1976.0, 1977.0, 1978.0, 1979.0, 1980.0, 1981.0, 1982.0, 1983.0, 1984.0, 1985.0, 1986.0, 1987.0, 1988.0, 1989.0, 1990.0, 1991.0, 1992.0, 1993.0, 1994.0, 1995.0, 1996.0, 1997.0, 1998.0, 1999.0, 2000.0, 2001.0, 2002.0, 2003.0, 2004.0, 2005.0, 2006.0, 2007.0, 2008.0, 2009.0, 2010.0, 2011.0, 2012.0, 2013.0, 2014.0, 2015.0, 2016.0, 2017.0, 2018.0, 2019.0, 2020.0, 2021.0, 2022.0, 2023.0, 2024.0, 2025.0, 2026.0, 2027.0, 2028.0, 2029.0, 2030.0, 2031.0, 2032.0, 2033.0, 2034.0, 2035.0, 2036.0, 2037.0, 2038.0, 2039.0, 2040.0, 2041.0, 2042.0, 2043.0, 2044.0, 2045.0, 2046.0, 2047.0, 2048.0, 2049.0, 2050.0, 2051.0, 2052.0, 2053.0, 2054.0, 2055.0, 2056.0, 2057.0, 2058.0, 2059.0, 2060.0, 2061.0, 2062.0, 2063.0, 2064.0, 2065.0, 2066.0, 2067.0, 2068.0, 2069.0, 2070.0, 2071.0, 2072.0, 2073.0, 2074.0, 2075.0, 2076.0, 2077.0, 2078.0, 2079.0, 2080.0, 2081.0, 2082.0, 2083.0, 2084.0, 2085.0, 2086.0, 2087.0, 2088.0, 2089.0, 2090.0, 2091.0, 2092.0, 2093.0, 2094.0, 2095.0, 2096.0, 2097.0, 2098.0, 2099.0, 2100.0, 2101.0, 2102.0, 2103.0, 2104.0, 2105.0, 2106.0, 2107.0, 2108.0, 2109.0, 2110.0, 2111.0, 2112.0, 2113.0, 2114.0, 2115.0, 2116.0, 2117.0, 2118.0, 2119.0, 2120.0, 2121.0, 2122.0, 2123.0, 2124.0, 2125.0, 2126.0, 2127.0, 2128.0, 2129.0, 2130.0, 2131.0, 2132.0, 2133.0, 2134.0, 2135.0, 2136.0, 2137.0, 2138.0, 2139.0, 2140.0, 2141.0, 2142.0, 2143.0, 2144.0, 2145.0, 2146.0, 2147.0, 2148.0, 2149.0, 2150.0, 2151.0, 2152.0, 2153.0, 2154.0, 2155.0, 2156.0, 2157.0, 2158.0, 2159.0, 2160.0, 2161.0, 2162.0, 2163.0, 2164.0, 2165.0, 2166.0, 2167.0, 2168.0, 2169.0, 2170.0, 2171.0, 2172.0, 2173.0, 2174.0, 2175.0, 2176.0, 2177.0, 2178.0, 2179.0, 2180.0, 2181.0, 2182.0, 2183.0, 2184.0, 2185.0, 2186.0, 2187.0, 2188.0, 2189.0, 2190.0, 2191.0, 2192.0, 2193.0, 2194.0, 2195.0, 2196.0, 2197.0, 2198.0, 2199.0, 2200.0, 2201.0, 2202.0, 2203.0, 2204.0, 2205.0, 2206.0, 2207.0, 2208.0, 2209.0, 2210.0, 2211.0, 2212.0, 2213.0, 2214.0, 2215.0, 2216.0, 2217.0, 2218.0, 2219.0, 2220.0, 2221.0, 2222.0, 2223.0, 2224.0, 2225.0, 2226.0, 2227.0, 2228.0, 2229.0, 2230.0, 2231.0, 2232.0, 2233.0, 2234.0, 2235.0, 2236.0, 2237.0, 2238.0, 2239.0, 2240.0, 2241.0, 2242.0, 2243.0, 2244.0, 2245.0, 2246.0, 2247.0, 2248.0, 2249.0, 2250.0, 2251.0, 2252.0, 2253.0, 2254.0, 2255.0, 2256.0, 2257.0, 2258.0, 2259.0, 2260.0, 2261.0, 2262.0, 2263.0, 2264.0, 2265.0, 2266.0, 2267.0, 2268.0, 2269.0, 2270.0, 2271.0, 2272.0, 2273.0, 2274.0, 2275.0, 2276.0, 2277.0, 2278.0, 2279.0, 2280.0, 2281.0, 2282.0, 2283.0, 2284.0, 2285.0, 2286.0, 2287.0, 2288.0, 2289.0, 2290.0, 2291.0, 2292.0, 2293.0, 2294.0, 2295.0, 2296.0, 2297.0, 2298.0, 2299.0, 2300.0, 2301.0, 2302.0, 2303.0, 2304.0, 2305.0, 2306.0, 2307.0, 2308.0, 2309.0, 2310.0, 2311.0, 2312.0, 2313.0, 2314.0, 2315.0, 2316.0, 2317.0, 2318.0, 2319.0, 2320.0, 2321.0, 2322.0, 2323.0, 2324.0, 2325.0, 2326.0, 2327.0, 2328.0, 2329.0, 2330.0, 2331.0, 2332.0, 2333.0, 2334.0, 2335.0, 2336.0, 2337.0, 2338.0, 2339.0, 2340.0, 2341.0, 2342.0, 2343.0, 2344.0, 2345.0, 2346.0, 2347.0, 2348.0, 2349.0, 2350.0, 2351.0, 2352.0, 2353.0, 2354.0, 2355.0, 2356.0, 2357.0, 2358.0, 2359.0, 2360.0, 2361.0, 2362.0, 2363.0, 2364.0, 2365.0, 2366.0, 2367.0, 2368.0, 2369.0, 2370.0, 2371.0, 2372.0, 2373.0, 2374.0, 2375.0, 2376.0, 2377.0, 2378.0, 2379.0, 2380.0, 2381.0, 2382.0, 2383.0, 2384.0, 2385.0, 2386.0, 2387.0, 2388.0, 2389.0, 2390.0, 2391.0, 2392.0, 2393.0, 2394.0, 2395.0, 2396.0, 2397.0, 2398.0, 2399.0, 2400.0, 2401.0, 2402.0, 2403.0, 2404.0, 2405.0, 2406.0, 2407.0, 2408.0, 2409.0, 2410.0, 2411.0, 2412.0, 2413.0, 2414.0, 2415.0, 2416.0, 2417.0, 2418.0, 2419.0, 2420.0, 2421.0, 2422.0, 2423.0, 2424.0, 2425.0, 2426.0, 2427.0, 2428.0, 2429.0, 2430.0, 2431.0, 2432.0, 2433.0, 2434.0, 2435.0, 2436.0, 2437.0, 2438.0, 2439.0, 2440.0, 2441.0, 2442.0, 2443.0, 2444.0, 2445.0, 2446.0, 2447.0, 2448.0, 2449.0, 2450.0, 2451.0, 2452.0, 2453.0, 2454.0, 2455.0, 2456.0, 2457.0, 2458.0, 2459.0, 2460.0, 2461.0, 2462.0, 2463.0, 2464.0, 2465.0, 2466.0, 2467.0, 2468.0, 2469.0, 2470.0, 2471.0, 2472.0, 2473.0, 2474.0, 2475.0, 2476.0, 2477.0, 2478.0, 2479.0, 2480.0, 2481.0, 2482.0, 2483.0, 2484.0, 2485.0, 2486.0, 2487.0, 2488.0, 2489.0, 2490.0, 2491.0, 2492.0, 2493.0, 2494.0, 2495.0, 2496.0, 2497.0, 2498.0, 2499.0, 2500.0, 2501.0, 2502.0, 2503.0, 2504.0, 2505.0, 2506.0, 2507.0, 2508.0, 2509.0, 2510.0, 2511.0, 2512.0, 2513.0, 2514.0, 2515.0, 2516.0, 2517.0, 2518.0, 2519.0, 2520.0, 2521.0, 2522.0, 2523.0, 2524.0, 2525.0, 2526.0, 2527.0, 2528.0, 2529.0, 2530.0, 2531.0, 2532.0, 2533.0, 2534.0, 2535.0, 2536.0, 2537.0, 2538.0, 2539.0, 2540.0, 2541.0, 2542.0, 2543.0, 2544.0, 2545.0, 2546.0, 2547.0, 2548.0, 2549.0, 2550.0, 2551.0, 2552.0, 2553.0, 2554.0, 2555.0, 2556.0, 2557.0, 2558.0, 2559.0, 2560.0, 2561.0, 2562.0, 2563.0, 2564.0, 2565.0, 2566.0, 2567.0, 2568.0, 2569.0, 2570.0, 2571.0, 2572.0, 2573.0, 2574.0, 2575.0, 2576.0, 2577.0, 2578.0, 2579.0, 2580.0, 2581.0, 2582.0, 2583.0, 2584.0, 2585.0, 2586.0, 2587.0, 2588.0, 2589.0, 2590.0, 2591.0, 2592.0, 2593.0, 2594.0, 2595.0, 2596.0, 2597.0, 2598.0, 2599.0, 2600.0, 2601.0, 2602.0, 2603.0, 2604.0, 2605.0, 2606.0, 2607.0, 2608.0, 2609.0, 2610.0, 2611.0, 2612.0, 2613.0, 2614.0, 2615.0, 2616.0, 2617.0, 2618.0, 2619.0, 2620.0, 2621.0, 2622.0, 2623.0, 2624.0, 2625.0, 2626.0, 2627.0, 2628.0, 2629.0, 2630.0, 2631.0, 2632.0, 2633.0, 2634.0, 2635.0, 2636.0, 2637.0, 2638.0, 2639.0, 2640.0, 2641.0, 2642.0, 2643.0, 2644.0, 2645.0, 2646.0, 2647.0, 2648.0, 2649.0, 2650.0, 2651.0, 2652.0, 2653.0, 2654.0, 2655.0, 2656.0, 2657.0, 2658.0, 2659.0, 2660.0, 2661.0, 2662.0, 2663.0, 2664.0, 2665.0, 2666.0, 2667.0, 2668.0, 2669.0, 2670.0, 2671.0, 2672.0, 2673.0, 2674.0, 2675.0, 2676.0, 2677.0, 2678.0, 2679.0, 2680.0, 2681.0, 2682.0, 2683.0, 2684.0, 2685.0, 2686.0, 2687.0, 2688.0, 2689.0, 2690.0, 2691.0, 2692.0, 2693.0, 2694.0, 2695.0, 2696.0, 2697.0, 2698.0, 2699.0, 2700.0, 2701.0, 2702.0, 2703.0, 2704.0, 2705.0, 2706.0, 2707.0, 2708.0, 2709.0, 2710.0, 2711.0, 2712.0, 2713.0, 2714.0, 2715.0, 2716.0, 2717.0, 2718.0, 2719.0, 2720.0, 2721.0, 2722.0, 2723.0, 2724.0, 2725.0, 2726.0, 2727.0, 2728.0, 2729.0, 2730.0, 2731.0, 2732.0, 2733.0, 2734.0, 2735.0, 2736.0, 2737.0, 2738.0, 2739.0, 2740.0, 2741.0, 2742.0, 2743.0, 2744.0, 2745.0, 2746.0, 2747.0, 2748.0, 2749.0, 2750.0, 2751.0, 2752.0, 2753.0, 2754.0, 2755.0, 2756.0, 2757.0, 2758.0, 2759.0, 2760.0, 2761.0, 2762.0, 2763.0, 2764.0, 2765.0, 2766.0, 2767.0, 2768.0, 2769.0, 2770.0, 2771.0, 2772.0, 2773.0, 2774.0, 2775.0, 2776.0, 2777.0, 2778.0, 2779.0, 2780.0, 2781.0, 2782.0, 2783.0, 2784.0, 2785.0, 2786.0, 2787.0, 2788.0, 2789.0, 2790.0, 2791.0, 2792.0, 2793.0, 2794.0, 2795.0, 2796.0, 2797.0, 2798.0, 2799.0, 2800.0, 2801.0, 2802.0, 2803.0, 2804.0, 2805.0, 2806.0, 2807.0, 2808.0, 2809.0, 2810.0, 2811.0, 2812.0, 2813.0, 2814.0, 2815.0, 2816.0, 2817.0, 2818.0, 2819.0, 2820.0, 2821.0, 2822.0, 2823.0, 2824.0, 2825.0, 2826.0, 2827.0, 2828.0, 2829.0, 2830.0, 2831.0, 2832.0, 2833.0, 2834.0, 2835.0, 2836.0, 2837.0, 2838.0, 2839.0, 2840.0, 2841.0, 2842.0, 2843.0, 2844.0, 2845.0, 2846.0, 2847.0, 2848.0, 2849.0, 2850.0, 2851.0, 2852.0, 2853.0, 2854.0, 2855.0, 2856.0, 2857.0, 2858.0, 2859.0, 2860.0, 2861.0, 2862.0, 2863.0, 2864.0, 2865.0, 2866.0, 2867.0, 2868.0, 2869.0, 2870.0, 2871.0, 2872.0, 2873.0, 2874.0, 2875.0, 2876.0, 2877.0, 2878.0, 2879.0, 2880.0, 2881.0, 2882.0, 2883.0, 2884.0, 2885.0, 2886.0, 2887.0, 2888.0, 2889.0, 2890.0, 2891.0, 2892.0, 2893.0, 2894.0, 2895.0, 2896.0, 2897.0, 2898.0, 2899.0, 2900.0, 2901.0, 2902.0, 2903.0, 2904.0, 2905.0, 2906.0, 2907.0, 2908.0, 2909.0, 2910.0, 2911.0, 2912.0, 2913.0, 2914.0, 2915.0, 2916.0, 2917.0, 2918.0, 2919.0, 2920.0, 2921.0, 2922.0, 2923.0, 2924.0, 2925.0, 2926.0, 2927.0, 2928.0, 2929.0, 2930.0, 2931.0, 2932.0, 2933.0, 2934.0, 2935.0, 2936.0, 2937.0, 2938.0, 2939.0, 2940.0, 2941.0, 2942.0, 2943.0, 2944.0, 2945.0, 2946.0, 2947.0, 2948.0, 2949.0, 2950.0, 2951.0, 2952.0, 2953.0, 2954.0, 2955.0, 2956.0, 2957.0, 2958.0, 2959.0, 2960.0, 2961.0, 2962.0, 2963.0, 2964.0, 2965.0, 2966.0, 2967.0, 2968.0, 2969.0, 2970.0, 2971.0, 2972.0, 2973.0, 2974.0, 2975.0, 2976.0, 2977.0, 2978.0, 2979.0, 2980.0, 2981.0, 2982.0, 2983.0, 2984.0, 2985.0, 2986.0, 2987.0, 2988.0, 2989.0, 2990.0, 2991.0, 2992.0, 2993.0, 2994.0, 2995.0, 2996.0, 2997.0, 2998.0, 2999.0, 3000.0, 3001.0, 3002.0, 3003.0, 3004.0, 3005.0, 3006.0, 3007.0, 3008.0, 3009.0, 3010.0, 3011.0, 3012.0, 3013.0, 3014.0, 3015.0, 3016.0, 3017.0, 3018.0, 3019.0, 3020.0, 3021.0, 3022.0, 3023.0, 3024.0, 3025.0, 3026.0, 3027.0, 3028.0, 3029.0, 3030.0, 3031.0, 3032.0, 3033.0, 3034.0, 3035.0, 3036.0, 3037.0, 3038.0, 3039.0, 3040.0, 3041.0, 3042.0, 3043.0, 3044.0, 3045.0, 3046.0, 3047.0, 3048.0, 3049.0, 3050.0, 3051.0, 3052.0, 3053.0, 3054.0, 3055.0, 3056.0, 3057.0, 3058.0, 3059.0, 3060.0, 3061.0, 3062.0, 3063.0, 3064.0, 3065.0, 3066.0, 3067.0, 3068.0, 3069.0, 3070.0, 3071.0, 3072.0, 3073.0, 3074.0, 3075.0, 3076.0, 3077.0, 3078.0, 3079.0, 3080.0, 3081.0, 3082.0, 3083.0, 3084.0, 3085.0, 3086.0, 3087.0, 3088.0, 3089.0, 3090.0, 3091.0, 3092.0, 3093.0, 3094.0, 3095.0, 3096.0, 3097.0, 3098.0, 3099.0, 3100.0, 3101.0, 3102.0, 3103.0, 3104.0, 3105.0, 3106.0, 3107.0, 3108.0, 3109.0, 3110.0, 3111.0, 3112.0, 3113.0, 3114.0, 3115.0, 3116.0, 3117.0, 3118.0, 3119.0, 3120.0, 3121.0, 3122.0, 3123.0, 3124.0, 3125.0, 3126.0, 3127.0, 3128.0, 3129.0, 3130.0, 3131.0, 3132.0, 3133.0, 3134.0, 3135.0, 3136.0, 3137.0, 3138.0, 3139.0, 3140.0, 3141.0, 3142.0, 3143.0, 3144.0, 3145.0, 3146.0, 3147.0, 3148.0, 3149.0, 3150.0, 3151.0, 3152.0, 3153.0, 3154.0, 3155.0, 3156.0, 3157.0, 3158.0, 3159.0, 3160.0, 3161.0, 3162.0, 3163.0, 3164.0, 3165.0, 3166.0, 3167.0, 3168.0, 3169.0, 3170.0, 3171.0, 3172.0, 3173.0, 3174.0, 3175.0, 3176.0, 3177.0, 3178.0, 3179.0, 3180.0, 3181.0, 3182.0, 3183.0, 3184.0, 3185.0, 3186.0, 3187.0, 3188.0, 3189.0, 3190.0, 3191.0, 3192.0, 3193.0, 3194.0, 3195.0, 3196.0, 3197.0, 3198.0, 3199.0, 3200.0, 3201.0, 3202.0, 3203.0, 3204.0, 3205.0, 3206.0, 3207.0, 3208.0, 3209.0, 3210.0, 3211.0, 3212.0, 3213.0, 3214.0, 3215.0, 3216.0, 3217.0, 3218.0, 3219.0, 3220.0, 3221.0, 3222.0, 3223.0, 3224.0, 3225.0, 3226.0, 3227.0, 3228.0, 3229.0, 3230.0, 3231.0, 3232.0, 3233.0, 3234.0, 3235.0, 3236.0, 3237.0, 3238.0, 3239.0, 3240.0, 3241.0, 3242.0, 3243.0, 3244.0, 3245.0, 3246.0, 3247.0, 3248.0, 3249.0, 3250.0, 3251.0, 3252.0, 3253.0, 3254.0, 3255.0, 3256.0, 3257.0, 3258.0, 3259.0, 3260.0, 3261.0, 3262.0, 3263.0, 3264.0, 3265.0, 3266.0, 3267.0, 3268.0, 3269.0, 3270.0, 3271.0, 3272.0, 3273.0, 3274.0, 3275.0, 3276.0, 3277.0, 3278.0, 3279.0, 3280.0, 3281.0, 3282.0, 3283.0, 3284.0, 3285.0, 3286.0, 3287.0, 3288.0, 3289.0, 3290.0, 3291.0, 3292.0, 3293.0, 3294.0, 3295.0, 3296.0, 3297.0, 3298.0, 3299.0, 3300.0, 3301.0, 3302.0, 3303.0, 3304.0, 3305.0, 3306.0, 3307.0, 3308.0, 3309.0, 3310.0, 3311.0, 3312.0, 3313.0, 3314.0, 3315.0, 3316.0, 3317.0, 3318.0, 3319.0, 3320.0, 3321.0, 3322.0, 3323.0, 3324.0, 3325.0, 3326.0, 3327.0, 3328.0, 3329.0, 3330.0, 3331.0, 3332.0, 3333.0, 3334.0, 3335.0, 3336.0, 3337.0, 3338.0, 3339.0, 3340.0, 3341.0, 3342.0, 3343.0, 3344.0, 3345.0, 3346.0, 3347.0, 3348.0, 3349.0, 3350.0, 3351.0, 3352.0, 3353.0, 3354.0, 3355.0, 3356.0, 3357.0, 3358.0, 3359.0, 3360.0, 3361.0, 3362.0, 3363.0, 3364.0, 3365.0, 3366.0, 3367.0, 3368.0, 3369.0, 3370.0, 3371.0, 3372.0, 3373.0, 3375.0, 3376.0, 3377.0, 3378.0, 3379.0, 3380.0, 3381.0, 3382.0, 3383.0, 3384.0, 3385.0, 3386.0, 3387.0, 3388.0, 3389.0, 3390.0, 3391.0, 3392.0, 3393.0, 3394.0, 3395.0, 3396.0, 3397.0, 3398.0, 3399.0, 3400.0, 3401.0, 3402.0, 3403.0, 3404.0, 3405.0, 3406.0, 3407.0, 3408.0, 3409.0, 3410.0, 3411.0, 3412.0, 3413.0, 3414.0, 3415.0, 3416.0, 3417.0, 3418.0, 3419.0, 3420.0, 3421.0, 3422.0, 3423.0, 3424.0, 3425.0, 3426.0, 3427.0, 3428.0, 3429.0, 3430.0, 3431.0, 3432.0, 3433.0, 3434.0, 3435.0, 3436.0, 3437.0, 3438.0, 3439.0, 3440.0, 3441.0, 3442.0, 3443.0, 3444.0, 3445.0, 3446.0, 3447.0, 3448.0, 3449.0, 3450.0, 3451.0, 3452.0, 3453.0, 3454.0, 3455.0, 3456.0, 3457.0, 3458.0, 3459.0, 3460.0, 3461.0, 3462.0, 3463.0, 3464.0, 3465.0, 3466.0, 3467.0, 3468.0, 3469.0, 3470.0, 3471.0, 3472.0, 3473.0, 3474.0, 3475.0, 3476.0, 3477.0, 3479.0, 3480.0, 3481.0, 3482.0, 3483.0, 3484.0, 3485.0, 3486.0, 3487.0, 3488.0, 3489.0, 3490.0, 3491.0, 3492.0, 3493.0, 3494.0, 3495.0, 3496.0, 3497.0, 3498.0, 3499.0, 3500.0, 3501.0, 3502.0, 3503.0, 3504.0, 3505.0, 3506.0, 3507.0, 3508.0, 3509.0, 3510.0, 3511.0, 3512.0, 3513.0, 3514.0, 3515.0, 3516.0, 3517.0, 3518.0, 3519.0, 3520.0, 3521.0, 3522.0, 3523.0, 3524.0, 3525.0, 3526.0, 3527.0, 3528.0, 3529.0, 3530.0, 3531.0, 3532.0, 3533.0, 3534.0, 3535.0, 3536.0, 3537.0, 3538.0, 3539.0, 3540.0, 3541.0, 3542.0, 3543.0, 3544.0, 3545.0, 3546.0, 3547.0, 3548.0, 3549.0, 3550.0, 3551.0, 3552.0, 3553.0, 3554.0, 3555.0, 3557.0, 3558.0, 3559.0, 3560.0, 3561.0, 3562.0, 3563.0, 3564.0, 3565.0, 3566.0, 3567.0, 3568.0, 3569.0, 3570.0, 3571.0, 3572.0, 3573.0, 3574.0, 3575.0, 3576.0, 3577.0, 3578.0, 3579.0, 3580.0, 3581.0, 3582.0, 3583.0, 3584.0, 3585.0, 3586.0, 3587.0, 3588.0, 3589.0, 3590.0, 3591.0, 3592.0, 3593.0, 3594.0, 3595.0, 3596.0, 3597.0, 3598.0, 3599.0, 3600.0, 3601.0, 3602.0, 3603.0, 3604.0, 3605.0, 3606.0, 3607.0, 3608.0, 3609.0, 3610.0, 3611.0, 3612.0, 3613.0, 3614.0, 3615.0, 3616.0, 3617.0, 3618.0, 3619.0, 3620.0, 3621.0, 3622.0, 3623.0, 3624.0, 3625.0, 3626.0, 3627.0, 3628.0, 3629.0, 3630.0, 3631.0, 3632.0, 3633.0, 3634.0, 3635.0, 3636.0, 3637.0, 3638.0, 3639.0, 3640.0, 3641.0, 3642.0, 3643.0, 3644.0, 3645.0, 3646.0, 3647.0, 3648.0, 3649.0, 3651.0, 3652.0, 3653.0, 3654.0, 3655.0, 3656.0, 3657.0, 3658.0, 3659.0, 3660.0, 3661.0, 3662.0, 3663.0, 3664.0, 3665.0, 3666.0, 3670.0, 3671.0, 3672.0, 3673.0, 3674.0, 3675.0, 3676.0, 3677.0, 3678.0, 3679.0, 3680.0, 3681.0, 3682.0, 3683.0, 3684.0, 3685.0, 3686.0, 3687.0, 3688.0, 3689.0, 3690.0, 3691.0, 3692.0, 3693.0, 3694.0, 3695.0, 3696.0, 3697.0, 3698.0, 3699.0, 3700.0, 3701.0, 3702.0, 3703.0, 3704.0, 3705.0, 3706.0, 3707.0, 3708.0, 3709.0, 3710.0, 3711.0, 3712.0, 3713.0, 3714.0, 3715.0, 3716.0, 3717.0, 3718.0, 3719.0, 3720.0, 3721.0, 3722.0, 3723.0, 3724.0, 3725.0, 3726.0, 3727.0, 3728.0, 3729.0, 3730.0, 3731.0, 3732.0, 3733.0, 3735.0, 3736.0, 3737.0, 3738.0, 3739.0, 3740.0, 3741.0, 3742.0, 3743.0, 3744.0, 3745.0, 3746.0, 3747.0, 3748.0, 3749.0, 3750.0, 3751.0, 3752.0, 3753.0, 3754.0, 3755.0, 3756.0, 3757.0, 3758.0, 3759.0, 3760.0, 3761.0, 3762.0, 3763.0, 3764.0, 3765.0, 3766.0, 3767.0, 3768.0, 3769.0, 3770.0, 3771.0, 3772.0, 3773.0, 3774.0, 3775.0, 3776.0, 3777.0, 3778.0, 3779.0, 3780.0, 3781.0, 3782.0, 3783.0, 3784.0, 3785.0, 3786.0, 3787.0, 3788.0, 3789.0, 3790.0, 3791.0, 3792.0, 3793.0, 3794.0, 3795.0, 3796.0, 3797.0, 3798.0, 3799.0, 3800.0, 3801.0, 3802.0, 3803.0, 3804.0, 3805.0, 3806.0, 3807.0, 3808.0, 3809.0, 3810.0, 3811.0, 3812.0, 3813.0, 3814.0, 3815.0, 3817.0, 3818.0, 3819.0, 3820.0, 3821.0, 3822.0, 3823.0, 3825.0, 3826.0, 3827.0, 3828.0, 3829.0, 3830.0, 3831.0, 3832.0, 3833.0, 3834.0, 3835.0, 3836.0, 3837.0, 3838.0, 3839.0, 3840.0, 3841.0, 3842.0, 3843.0, 3844.0, 3846.0, 3847.0, 3848.0, 3849.0, 3850.0, 3851.0, 3852.0, 3853.0, 3855.0, 3856.0, 3859.0, 3860.0, 3861.0, 3862.0, 3863.0, 3864.0, 3865.0, 3866.0, 3867.0, 3868.0, 3869.0, 3870.0, 3871.0, 3872.0, 3873.0, 3874.0, 3875.0, 3876.0, 3877.0, 3878.0, 3879.0, 3880.0, 3881.0, 3882.0, 3883.0, 3884.0, 3885.0, 3886.0, 3887.0, 3888.0, 3889.0, 3890.0, 3891.0, 3892.0, 3893.0, 3894.0, 3895.0, 3896.0, 3897.0, 3898.0, 3899.0, 3900.0, 3901.0, 3902.0, 3903.0, 3905.0, 3906.0, 3907.0, 3908.0, 3910.0, 3911.0, 3912.0, 3914.0, 3915.0, 3916.0, 3917.0, 3918.0, 3920.0, 3921.0, 3922.0, 3923.0, 3924.0, 3925.0, 3926.0, 3927.0, 3928.0, 3929.0, 3930.0, 3931.0, 3932.0, 3933.0, 3934.0, 3935.0, 3936.0, 3937.0, 3938.0, 3939.0, 3940.0, 3941.0, 3942.0, 3943.0, 3944.0, 3945.0, 3946.0, 3947.0, 3948.0, 3949.0, 3950.0, 3951.0, 3952.0, 3953.0, 3954.0, 3955.0, 3956.0, 3957.0, 3959.0, 3960.0, 3961.0, 3963.0, 3964.0, 3966.0, 3967.0, 3968.0, 3969.0, 3970.0, 3971.0, 3972.0, 3973.0, 3974.0, 3975.0, 3976.0, 3977.0, 3978.0, 3979.0, 3980.0, 3981.0, 3982.0, 3983.0, 3984.0, 3985.0, 3986.0, 3987.0, 3988.0, 3989.0, 3990.0, 3991.0, 3992.0, 3993.0, 3994.0, 3995.0, 3996.0, 3997.0, 3998.0, 3999.0, 4000.0, 4001.0, 4002.0, 4003.0, 4005.0, 4006.0, 4007.0, 4009.0, 4010.0, 4011.0, 4012.0, 4013.0, 4015.0, 4016.0, 4017.0, 4018.0, 4019.0, 4020.0, 4021.0, 4022.0, 4023.0, 4025.0, 4026.0, 4027.0, 4028.0, 4030.0, 4031.0, 4032.0, 4033.0, 4034.0, 4035.0, 4037.0, 4038.0, 4040.0, 4041.0, 4042.0, 4044.0, 4045.0, 4046.0, 4047.0, 4048.0, 4049.0, 4050.0, 4051.0, 4052.0, 4053.0, 4054.0, 4055.0, 4057.0, 4059.0, 4060.0, 4061.0, 4063.0, 4064.0, 4065.0, 4066.0, 4067.0, 4068.0, 4069.0, 4070.0, 4071.0, 4072.0, 4073.0, 4074.0, 4076.0, 4077.0, 4078.0, 4079.0, 4080.0, 4081.0, 4082.0, 4083.0, 4085.0, 4086.0, 4088.0, 4089.0, 4090.0, 4091.0, 4092.0, 4093.0, 4094.0, 4095.0, 4096.0, 4097.0, 4098.0, 4100.0, 4101.0, 4103.0, 4104.0, 4106.0, 4107.0, 4108.0, 4109.0, 4110.0, 4111.0, 4114.0, 4115.0, 4116.0, 4118.0, 4119.0, 4120.0, 4121.0, 4122.0, 4123.0, 4124.0, 4125.0, 4127.0, 4128.0, 4129.0, 4130.0, 4131.0, 4132.0, 4133.0, 4134.0, 4135.0, 4136.0, 4137.0, 4138.0, 4139.0, 4140.0, 4141.0, 4142.0, 4143.0, 4144.0, 4145.0, 4146.0, 4147.0, 4149.0, 4150.0, 4151.0, 4152.0, 4153.0, 4154.0, 4156.0, 4157.0, 4158.0, 4159.0, 4160.0, 4161.0, 4162.0, 4163.0, 4164.0, 4165.0, 4166.0, 4168.0, 4169.0, 4170.0, 4171.0, 4173.0, 4174.0, 4175.0, 4176.0, 4177.0, 4178.0, 4180.0, 4181.0, 4182.0, 4183.0, 4185.0, 4186.0, 4188.0, 4189.0, 4190.0, 4191.0, 4192.0, 4193.0, 4194.0, 4195.0, 4196.0, 4197.0, 4199.0, 4200.0, 4201.0, 4202.0, 4203.0, 4205.0, 4206.0, 4207.0, 4208.0, 4209.0, 4210.0, 4211.0, 4212.0, 4213.0, 4215.0, 4216.0, 4218.0, 4219.0, 4220.0, 4221.0, 4222.0, 4225.0, 4227.0, 4228.0, 4229.0, 4231.0, 4232.0, 4233.0, 4234.0, 4235.0, 4236.0, 4237.0, 4238.0, 4239.0, 4240.0, 4241.0, 4242.0, 4243.0, 4244.0, 4245.0, 4246.0, 4247.0, 4248.0, 4249.0, 4250.0, 4251.0, 4252.0, 4253.0, 4254.0, 4256.0, 4258.0, 4259.0, 4261.0, 4262.0, 4263.0, 4264.0, 4265.0, 4266.0, 4267.0, 4268.0, 4269.0, 4271.0, 4272.0, 4273.0, 4274.0, 4275.0, 4276.0, 4277.0, 4278.0, 4279.0, 4280.0, 4281.0, 4282.0, 4284.0, 4285.0, 4286.0, 4287.0, 4288.0, 4289.0, 4290.0, 4291.0, 4292.0, 4294.0, 4295.0, 4297.0, 4300.0, 4301.0, 4302.0, 4304.0, 4305.0, 4309.0, 4310.0, 4311.0, 4314.0, 4316.0, 4318.0, 4319.0, 4320.0, 4321.0, 4322.0, 4324.0, 4325.0, 4326.0, 4328.0, 4329.0, 4330.0, 4332.0, 4333.0, 4334.0, 4335.0, 4338.0, 4339.0, 4340.0, 4342.0, 4345.0, 4346.0, 4347.0, 4348.0, 4349.0, 4350.0, 4351.0, 4352.0, 4354.0, 4356.0, 4358.0, 4359.0, 4360.0, 4361.0, 4363.0, 4364.0, 4366.0, 4367.0, 4369.0, 4370.0, 4372.0, 4373.0, 4375.0, 4376.0, 4377.0, 4378.0, 4379.0, 4380.0, 4381.0, 4383.0, 4384.0, 4385.0, 4386.0, 4388.0, 4389.0, 4390.0, 4393.0, 4395.0, 4396.0, 4398.0, 4399.0, 4400.0, 4401.0, 4402.0, 4403.0, 4404.0, 4407.0, 4408.0, 4409.0, 4410.0, 4411.0, 4412.0, 4413.0, 4414.0, 4416.0, 4418.0, 4419.0, 4420.0, 4421.0, 4422.0, 4423.0, 4424.0, 4425.0, 4426.0, 4428.0, 4429.0, 4430.0, 4433.0, 4434.0, 4435.0, 4437.0, 4438.0, 4439.0, 4440.0, 4441.0, 4442.0, 4443.0, 4444.0, 4445.0, 4446.0, 4447.0, 4448.0, 4451.0, 4455.0, 4457.0, 4458.0, 4459.0, 4463.0, 4464.0, 4465.0, 4466.0, 4470.0, 4472.0, 4473.0, 4474.0, 4475.0, 4476.0, 4479.0, 4480.0, 4481.0, 4483.0, 4485.0, 4487.0, 4488.0, 4490.0, 4491.0, 4492.0, 4493.0, 4494.0, 4496.0, 4497.0, 4499.0, 4501.0, 4502.0, 4503.0, 4507.0, 4508.0, 4510.0, 4512.0, 4513.0, 4516.0, 4517.0, 4519.0, 4521.0, 4522.0, 4523.0, 4524.0, 4525.0, 4526.0, 4528.0, 4529.0, 4530.0, 4531.0, 4532.0, 4533.0, 4535.0, 4536.0, 4537.0, 4538.0, 4541.0, 4542.0, 4546.0, 4547.0, 4549.0, 4551.0, 4553.0, 4554.0, 4555.0, 4558.0, 4559.0, 4560.0, 4561.0, 4563.0, 4564.0, 4566.0, 4567.0, 4569.0, 4570.0, 4571.0, 4572.0, 4573.0, 4575.0, 4578.0, 4579.0, 4580.0, 4582.0, 4583.0, 4584.0, 4585.0, 4586.0, 4588.0, 4591.0, 4595.0, 4596.0, 4598.0, 4599.0, 4600.0, 4602.0, 4604.0, 4605.0, 4606.0, 4608.0, 4609.0, 4611.0, 4612.0, 4614.0, 4616.0, 4617.0, 4618.0, 4620.0, 4623.0, 4624.0, 4627.0, 4628.0, 4631.0, 4632.0, 4634.0, 4635.0, 4636.0, 4638.0, 4640.0, 4642.0, 4643.0, 4644.0, 4646.0, 4647.0, 4651.0, 4653.0, 4654.0, 4656.0, 4658.0, 4660.0, 4663.0, 4664.0, 4665.0, 4666.0, 4668.0, 4669.0, 4670.0, 4671.0, 4672.0, 4673.0, 4677.0, 4679.0, 4680.0, 4685.0, 4689.0, 4691.0, 4692.0, 4693.0, 4694.0, 4695.0, 4697.0, 4699.0, 4700.0, 4702.0, 4703.0, 4704.0, 4705.0, 4706.0, 4708.0, 4709.0, 4710.0, 4712.0, 4713.0, 4714.0, 4716.0, 4717.0, 4718.0, 4719.0, 4720.0, 4722.0, 4723.0, 4724.0, 4726.0, 4729.0, 4730.0, 4731.0, 4732.0, 4733.0, 4734.0, 4739.0, 4740.0, 4741.0, 4742.0, 4745.0, 4746.0, 4749.0, 4752.0, 4754.0, 4756.0, 4758.0, 4763.0, 4764.0, 4765.0, 4768.0, 4774.0, 4776.0, 4778.0, 4779.0, 4780.0, 4782.0, 4784.0, 4785.0, 4786.0, 4787.0, 4788.0, 4789.0, 4791.0, 4792.0, 4795.0, 4800.0, 4802.0, 4807.0, 4809.0, 4811.0, 4812.0, 4813.0, 4815.0, 4816.0, 4817.0, 4818.0, 4819.0, 4820.0, 4821.0, 4825.0, 4828.0, 4829.0, 4832.0, 4834.0, 4836.0, 4837.0, 4839.0, 4845.0, 4846.0, 4847.0, 4852.0, 4854.0, 4855.0, 4856.0, 4858.0, 4859.0, 4863.0, 4865.0, 4866.0, 4868.0, 4869.0, 4871.0, 4873.0, 4874.0, 4878.0, 4879.0, 4880.0, 4882.0, 4885.0, 4887.0, 4890.0, 4891.0, 4894.0, 4897.0, 4898.0, 4900.0, 4901.0, 4903.0, 4907.0, 4910.0, 4911.0, 4916.0, 4917.0, 4918.0, 4919.0, 4922.0, 4927.0, 4929.0, 4931.0, 4935.0, 4936.0, 4938.0, 4941.0, 4945.0, 4947.0, 4950.0, 4951.0, 4957.0, 4964.0, 4967.0, 4968.0, 4970.0, 4971.0, 4973.0, 4978.0, 4981.0, 4985.0, 4988.0, 4989.0, 4991.0, 4993.0, 4994.0, 4996.0, 4999.0, 5001.0, 5003.0, 5004.0, 5008.0, 5015.0, 5016.0, 5018.0, 5020.0, 5021.0, 5023.0, 5024.0, 5026.0, 5027.0, 5030.0, 5032.0, 5033.0, 5034.0, 5044.0, 5046.0, 5047.0, 5050.0, 5053.0, 5057.0, 5059.0, 5067.0, 5074.0, 5081.0, 5082.0, 5084.0, 5087.0, 5093.0, 5096.0, 5097.0, 5100.0, 5107.0, 5115.0, 5116.0, 5118.0, 5120.0, 5121.0, 5124.0, 5127.0, 5134.0, 5138.0, 5142.0, 5143.0, 5144.0, 5147.0, 5148.0, 5155.0, 5156.0, 5159.0, 5160.0, 5161.0, 5162.0, 5168.0, 5169.0, 5170.0, 5171.0, 5175.0, 5189.0, 5190.0, 5191.0, 5193.0, 5196.0, 5198.0, 5199.0, 5201.0, 5207.0, 5212.0, 5215.0, 5217.0, 5218.0, 5219.0, 5220.0, 5221.0, 5227.0, 5234.0, 5241.0, 5247.0, 5251.0, 5252.0, 5267.0, 5283.0, 5286.0, 5287.0, 5288.0, 5294.0, 5295.0, 5300.0, 5302.0, 5306.0, 5307.0, 5310.0, 5311.0, 5313.0, 5316.0, 5317.0, 5320.0, 5321.0, 5333.0, 5338.0, 5339.0, 5343.0, 5348.0, 5355.0, 5367.0, 5377.0, 5379.0, 5383.0, 5389.0, 5394.0, 5395.0, 5398.0, 5402.0, 5404.0, 5409.0, 5412.0, 5414.0, 5426.0, 5429.0, 5430.0, 5433.0, 5438.0, 5440.0, 5446.0, 5448.0, 5454.0, 5475.0, 5476.0, 5483.0, 5485.0, 5494.0, 5499.0, 5505.0, 5510.0, 5516.0, 5517.0, 5519.0, 5521.0, 5525.0, 5535.0, 5536.0, 5538.0, 5540.0, 5541.0, 5543.0, 5549.0, 5552.0, 5553.0, 5560.0, 5565.0, 5566.0, 5575.0, 5578.0, 5584.0, 5587.0, 5590.0, 5594.0, 5625.0, 5626.0, 5628.0, 5629.0, 5639.0, 5651.0, 5663.0, 5664.0, 5697.0, 5698.0, 5706.0, 5737.0, 5745.0, 5761.0, 5771.0, 5787.0, 5788.0, 5795.0, 5804.0, 5822.0, 5868.0, 5877.0, 5890.0, 5907.0, 5909.0, 5917.0, 5920.0, 5931.0, 5977.0, 6043.0, 6054.0, 6056.0, 6149.0, 6314.0, 6353.0, 6376.0]\n",
      "\n"
     ]
    }
   ],
   "source": [
    "for col in transformed_df_combined:\n",
    "    unique_values = transformed_df_combined[col].unique().tolist()\n",
    "    unique_values.sort()\n",
    "    print(f'{col} Unique Values: {unique_values}\\n')"
   ]
  },
  {
   "cell_type": "markdown",
   "id": "7c0ddb32",
   "metadata": {},
   "source": [
    "**Reclassify Types**"
   ]
  },
  {
   "cell_type": "code",
   "execution_count": 15,
   "id": "ac8be3e8",
   "metadata": {
    "ExecuteTime": {
     "end_time": "2024-07-10T10:17:30.819038Z",
     "start_time": "2024-07-10T10:17:30.814622Z"
    }
   },
   "outputs": [],
   "source": [
    "transformed_df_combined = transformed_df_combined.astype('int32')"
   ]
  },
  {
   "cell_type": "code",
   "execution_count": 16,
   "id": "1ee0f08c",
   "metadata": {
    "ExecuteTime": {
     "end_time": "2024-07-10T10:17:30.889111Z",
     "start_time": "2024-07-10T10:17:30.819609Z"
    }
   },
   "outputs": [
    {
     "data": {
      "text/plain": [
       "LocationID         category\n",
       "day                category\n",
       "month              category\n",
       "year               category\n",
       "hour               category\n",
       "passenger_count       int32\n",
       "dtype: object"
      ]
     },
     "execution_count": 16,
     "metadata": {},
     "output_type": "execute_result"
    }
   ],
   "source": [
    "categorical_features = ['LocationID', 'day', 'month', 'year', 'hour']\n",
    "transformed_df_combined[categorical_features] = transformed_df_combined[categorical_features].astype('category')\n",
    "\n",
    "continuous_features = ['passenger_count']\n",
    "\n",
    "transformed_df_combined[continuous_features] = transformed_df_combined[continuous_features].astype('int32')\n",
    "\n",
    "transformed_df_combined.dtypes    "
   ]
  },
  {
   "cell_type": "markdown",
   "id": "f3543ebc",
   "metadata": {},
   "source": [
    "**Should be 0 duplicates**"
   ]
  },
  {
   "cell_type": "code",
   "execution_count": 17,
   "id": "5e471f59",
   "metadata": {
    "ExecuteTime": {
     "end_time": "2024-07-10T10:17:30.909294Z",
     "start_time": "2024-07-10T10:17:30.892264Z"
    }
   },
   "outputs": [
    {
     "name": "stdout",
     "output_type": "stream",
     "text": [
      "Number of duplicate rows: 0\n"
     ]
    }
   ],
   "source": [
    "print('Number of duplicate rows:', transformed_df_combined.duplicated().sum())"
   ]
  },
  {
   "cell_type": "markdown",
   "id": "1c12371f",
   "metadata": {},
   "source": [
    "**Should be 0 empty values**"
   ]
  },
  {
   "cell_type": "code",
   "execution_count": 18,
   "id": "b9faeca0",
   "metadata": {
    "ExecuteTime": {
     "end_time": "2024-07-10T10:17:30.914660Z",
     "start_time": "2024-07-10T10:17:30.909952Z"
    },
    "scrolled": true
   },
   "outputs": [
    {
     "data": {
      "text/plain": [
       "LocationID         0\n",
       "day                0\n",
       "month              0\n",
       "year               0\n",
       "hour               0\n",
       "passenger_count    0\n",
       "dtype: int64"
      ]
     },
     "execution_count": 18,
     "metadata": {},
     "output_type": "execute_result"
    }
   ],
   "source": [
    "transformed_df_combined.isna().sum()"
   ]
  },
  {
   "cell_type": "code",
   "execution_count": 19,
   "id": "2088cfff",
   "metadata": {
    "ExecuteTime": {
     "end_time": "2024-07-10T10:17:30.964157Z",
     "start_time": "2024-07-10T10:17:30.915300Z"
    }
   },
   "outputs": [
    {
     "data": {
      "text/html": [
       "<div>\n",
       "<style scoped>\n",
       "    .dataframe tbody tr th:only-of-type {\n",
       "        vertical-align: middle;\n",
       "    }\n",
       "\n",
       "    .dataframe tbody tr th {\n",
       "        vertical-align: top;\n",
       "    }\n",
       "\n",
       "    .dataframe thead th {\n",
       "        text-align: right;\n",
       "    }\n",
       "</style>\n",
       "<table border=\"1\" class=\"dataframe\">\n",
       "  <thead>\n",
       "    <tr style=\"text-align: right;\">\n",
       "      <th></th>\n",
       "      <th>count</th>\n",
       "      <th>mean</th>\n",
       "      <th>std</th>\n",
       "      <th>min</th>\n",
       "      <th>25%</th>\n",
       "      <th>50%</th>\n",
       "      <th>75%</th>\n",
       "      <th>max</th>\n",
       "    </tr>\n",
       "  </thead>\n",
       "  <tbody>\n",
       "    <tr>\n",
       "      <th>passenger_count</th>\n",
       "      <td>292356.0</td>\n",
       "      <td>690.449753</td>\n",
       "      <td>821.169935</td>\n",
       "      <td>1.0</td>\n",
       "      <td>86.0</td>\n",
       "      <td>358.0</td>\n",
       "      <td>1031.0</td>\n",
       "      <td>6376.0</td>\n",
       "    </tr>\n",
       "  </tbody>\n",
       "</table>\n",
       "</div>"
      ],
      "text/plain": [
       "                    count        mean         std  min   25%    50%     75%  \\\n",
       "passenger_count  292356.0  690.449753  821.169935  1.0  86.0  358.0  1031.0   \n",
       "\n",
       "                    max  \n",
       "passenger_count  6376.0  "
      ]
     },
     "execution_count": 19,
     "metadata": {},
     "output_type": "execute_result"
    }
   ],
   "source": [
    "transformed_df_combined.describe().T"
   ]
  },
  {
   "cell_type": "markdown",
   "id": "31c347aa",
   "metadata": {},
   "source": [
    "**Correlation Plots**"
   ]
  },
  {
   "cell_type": "code",
   "execution_count": 20,
   "id": "11ed3f47",
   "metadata": {
    "ExecuteTime": {
     "end_time": "2024-07-10T10:17:31.005774Z",
     "start_time": "2024-07-10T10:17:30.964905Z"
    }
   },
   "outputs": [
    {
     "name": "stdout",
     "output_type": "stream",
     "text": [
      "Counts for LocationID:\n",
      "LocationID\n",
      "4       555392\n",
      "12      146271\n",
      "13     1558490\n",
      "24      728682\n",
      "41     1133530\n",
      "        ...   \n",
      "246    3988520\n",
      "249    4384126\n",
      "261    1213640\n",
      "262    3139993\n",
      "263    4534054\n",
      "Name: passenger_count, Length: 67, dtype: int32\n",
      "\n",
      "Counts for day:\n",
      "day\n",
      "0    24638967\n",
      "1    28318913\n",
      "2    29867487\n",
      "3    30847447\n",
      "4    30758370\n",
      "5    31954461\n",
      "6    25471483\n",
      "Name: passenger_count, dtype: int32\n",
      "\n",
      "Counts for month:\n",
      "month\n",
      "1     19628454\n",
      "2     20467810\n",
      "3     23754834\n",
      "4     16292567\n",
      "5     16407460\n",
      "6     15917876\n",
      "7     14353805\n",
      "8     13943335\n",
      "9     13633552\n",
      "10    16431796\n",
      "11    15148771\n",
      "12    15876868\n",
      "Name: passenger_count, dtype: int32\n",
      "\n",
      "Counts for year:\n",
      "year\n",
      "2022    93705031\n",
      "2023    87645967\n",
      "2024    20506130\n",
      "Name: passenger_count, dtype: int32\n",
      "\n",
      "Counts for hour:\n",
      "hour\n",
      "0      5672808\n",
      "1      3889653\n",
      "2      2628448\n",
      "3      1669153\n",
      "4       967712\n",
      "5       844133\n",
      "6      2203320\n",
      "7      4776136\n",
      "8      6993980\n",
      "9      8255525\n",
      "10     9314361\n",
      "11    10247328\n",
      "12    11229640\n",
      "13    11483744\n",
      "14    12174614\n",
      "15    12795991\n",
      "16    12724533\n",
      "17    13863939\n",
      "18    14835913\n",
      "19    13431018\n",
      "20    11668807\n",
      "21    11462125\n",
      "22    10522982\n",
      "23     8201265\n",
      "Name: passenger_count, dtype: int32\n",
      "\n"
     ]
    }
   ],
   "source": [
    "for feature in categorical_features:\n",
    "    counts = transformed_df_combined.groupby(feature, observed=True)['passenger_count'].sum()\n",
    "    print(f\"Counts for {feature}:\")\n",
    "    print(counts)\n",
    "    print()"
   ]
  },
  {
   "cell_type": "code",
   "execution_count": 21,
   "id": "b0c0ccf8",
   "metadata": {
    "ExecuteTime": {
     "end_time": "2024-07-10T10:17:32.420628Z",
     "start_time": "2024-07-10T10:17:31.006460Z"
    },
    "scrolled": false
   },
   "outputs": [
    {
     "data": {
      "image/png": "[encoded data removed]",
      "text/plain": [
       "<Figure size 1600x600 with 1 Axes>"
      ]
     },
     "metadata": {},
     "output_type": "display_data"
    },
    {
     "data": {
      "image/png": "[encoded data removed]",
      "text/plain": [
       "<Figure size 1600x600 with 1 Axes>"
      ]
     },
     "metadata": {},
     "output_type": "display_data"
    },
    {
     "data": {
      "image/png": "[encoded data removed]",
      "text/plain": [
       "<Figure size 1600x600 with 1 Axes>"
      ]
     },
     "metadata": {},
     "output_type": "display_data"
    },
    {
     "data": {
      "image/png": "[encoded data removed]",
      "text/plain": [
       "<Figure size 1600x600 with 1 Axes>"
      ]
     },
     "metadata": {},
     "output_type": "display_data"
    },
    {
     "data": {
      "image/png": "[encoded data removed]",
      "text/plain": [
       "<Figure size 1600x600 with 1 Axes>"
      ]
     },
     "metadata": {},
     "output_type": "display_data"
    }
   ],
   "source": [
    "for feature in categorical_features:\n",
    "    plt.figure(figsize=(16, 6))\n",
    "    counts = transformed_df_combined.groupby(feature, observed=True)['passenger_count'].sum()\n",
    "    counts.plot(kind='bar', color='skyblue')\n",
    "    plt.title(f'Counts of passenger_count by {feature}')\n",
    "    plt.xlabel(feature)\n",
    "    plt.ylabel('Count')\n",
    "    plt.xticks(rotation=45)\n",
    "    plt.grid(axis='y')\n",
    "    plt.show()"
   ]
  },
  {
   "cell_type": "code",
   "execution_count": 22,
   "id": "494a55d8",
   "metadata": {
    "ExecuteTime": {
     "end_time": "2024-07-10T10:17:32.690262Z",
     "start_time": "2024-07-10T10:17:32.424006Z"
    }
   },
   "outputs": [],
   "source": [
    "transformed_df_combined.to_csv('taxi_data_grouped.csv', index=False)"
   ]
  },
  {
   "cell_type": "code",
   "execution_count": 23,
   "id": "c5dfa9e4",
   "metadata": {
    "ExecuteTime": {
     "end_time": "2024-07-10T10:17:32.694917Z",
     "start_time": "2024-07-10T10:17:32.690933Z"
    }
   },
   "outputs": [
    {
     "data": {
      "text/html": [
       "<div>\n",
       "<style scoped>\n",
       "    .dataframe tbody tr th:only-of-type {\n",
       "        vertical-align: middle;\n",
       "    }\n",
       "\n",
       "    .dataframe tbody tr th {\n",
       "        vertical-align: top;\n",
       "    }\n",
       "\n",
       "    .dataframe thead th {\n",
       "        text-align: right;\n",
       "    }\n",
       "</style>\n",
       "<table border=\"1\" class=\"dataframe\">\n",
       "  <thead>\n",
       "    <tr style=\"text-align: right;\">\n",
       "      <th></th>\n",
       "      <th>LocationID</th>\n",
       "      <th>day</th>\n",
       "      <th>month</th>\n",
       "      <th>year</th>\n",
       "      <th>hour</th>\n",
       "      <th>passenger_count</th>\n",
       "    </tr>\n",
       "  </thead>\n",
       "  <tbody>\n",
       "    <tr>\n",
       "      <th>0</th>\n",
       "      <td>4</td>\n",
       "      <td>0</td>\n",
       "      <td>1</td>\n",
       "      <td>2022</td>\n",
       "      <td>0</td>\n",
       "      <td>91</td>\n",
       "    </tr>\n",
       "    <tr>\n",
       "      <th>1</th>\n",
       "      <td>4</td>\n",
       "      <td>0</td>\n",
       "      <td>1</td>\n",
       "      <td>2022</td>\n",
       "      <td>1</td>\n",
       "      <td>35</td>\n",
       "    </tr>\n",
       "    <tr>\n",
       "      <th>2</th>\n",
       "      <td>4</td>\n",
       "      <td>0</td>\n",
       "      <td>1</td>\n",
       "      <td>2022</td>\n",
       "      <td>2</td>\n",
       "      <td>13</td>\n",
       "    </tr>\n",
       "    <tr>\n",
       "      <th>3</th>\n",
       "      <td>4</td>\n",
       "      <td>0</td>\n",
       "      <td>1</td>\n",
       "      <td>2022</td>\n",
       "      <td>3</td>\n",
       "      <td>9</td>\n",
       "    </tr>\n",
       "    <tr>\n",
       "      <th>4</th>\n",
       "      <td>4</td>\n",
       "      <td>0</td>\n",
       "      <td>1</td>\n",
       "      <td>2022</td>\n",
       "      <td>4</td>\n",
       "      <td>10</td>\n",
       "    </tr>\n",
       "    <tr>\n",
       "      <th>5</th>\n",
       "      <td>4</td>\n",
       "      <td>0</td>\n",
       "      <td>1</td>\n",
       "      <td>2022</td>\n",
       "      <td>5</td>\n",
       "      <td>11</td>\n",
       "    </tr>\n",
       "    <tr>\n",
       "      <th>6</th>\n",
       "      <td>4</td>\n",
       "      <td>0</td>\n",
       "      <td>1</td>\n",
       "      <td>2022</td>\n",
       "      <td>6</td>\n",
       "      <td>6</td>\n",
       "    </tr>\n",
       "    <tr>\n",
       "      <th>7</th>\n",
       "      <td>4</td>\n",
       "      <td>0</td>\n",
       "      <td>1</td>\n",
       "      <td>2022</td>\n",
       "      <td>7</td>\n",
       "      <td>38</td>\n",
       "    </tr>\n",
       "    <tr>\n",
       "      <th>8</th>\n",
       "      <td>4</td>\n",
       "      <td>0</td>\n",
       "      <td>1</td>\n",
       "      <td>2022</td>\n",
       "      <td>8</td>\n",
       "      <td>76</td>\n",
       "    </tr>\n",
       "    <tr>\n",
       "      <th>9</th>\n",
       "      <td>4</td>\n",
       "      <td>0</td>\n",
       "      <td>1</td>\n",
       "      <td>2022</td>\n",
       "      <td>9</td>\n",
       "      <td>51</td>\n",
       "    </tr>\n",
       "    <tr>\n",
       "      <th>10</th>\n",
       "      <td>4</td>\n",
       "      <td>0</td>\n",
       "      <td>1</td>\n",
       "      <td>2022</td>\n",
       "      <td>10</td>\n",
       "      <td>53</td>\n",
       "    </tr>\n",
       "    <tr>\n",
       "      <th>11</th>\n",
       "      <td>4</td>\n",
       "      <td>0</td>\n",
       "      <td>1</td>\n",
       "      <td>2022</td>\n",
       "      <td>11</td>\n",
       "      <td>85</td>\n",
       "    </tr>\n",
       "    <tr>\n",
       "      <th>12</th>\n",
       "      <td>4</td>\n",
       "      <td>0</td>\n",
       "      <td>1</td>\n",
       "      <td>2022</td>\n",
       "      <td>12</td>\n",
       "      <td>98</td>\n",
       "    </tr>\n",
       "    <tr>\n",
       "      <th>13</th>\n",
       "      <td>4</td>\n",
       "      <td>0</td>\n",
       "      <td>1</td>\n",
       "      <td>2022</td>\n",
       "      <td>13</td>\n",
       "      <td>122</td>\n",
       "    </tr>\n",
       "    <tr>\n",
       "      <th>14</th>\n",
       "      <td>4</td>\n",
       "      <td>0</td>\n",
       "      <td>1</td>\n",
       "      <td>2022</td>\n",
       "      <td>14</td>\n",
       "      <td>143</td>\n",
       "    </tr>\n",
       "    <tr>\n",
       "      <th>15</th>\n",
       "      <td>4</td>\n",
       "      <td>0</td>\n",
       "      <td>1</td>\n",
       "      <td>2022</td>\n",
       "      <td>15</td>\n",
       "      <td>178</td>\n",
       "    </tr>\n",
       "    <tr>\n",
       "      <th>16</th>\n",
       "      <td>4</td>\n",
       "      <td>0</td>\n",
       "      <td>1</td>\n",
       "      <td>2022</td>\n",
       "      <td>16</td>\n",
       "      <td>172</td>\n",
       "    </tr>\n",
       "    <tr>\n",
       "      <th>17</th>\n",
       "      <td>4</td>\n",
       "      <td>0</td>\n",
       "      <td>1</td>\n",
       "      <td>2022</td>\n",
       "      <td>17</td>\n",
       "      <td>185</td>\n",
       "    </tr>\n",
       "    <tr>\n",
       "      <th>18</th>\n",
       "      <td>4</td>\n",
       "      <td>0</td>\n",
       "      <td>1</td>\n",
       "      <td>2022</td>\n",
       "      <td>18</td>\n",
       "      <td>202</td>\n",
       "    </tr>\n",
       "    <tr>\n",
       "      <th>19</th>\n",
       "      <td>4</td>\n",
       "      <td>0</td>\n",
       "      <td>1</td>\n",
       "      <td>2022</td>\n",
       "      <td>19</td>\n",
       "      <td>176</td>\n",
       "    </tr>\n",
       "    <tr>\n",
       "      <th>20</th>\n",
       "      <td>4</td>\n",
       "      <td>0</td>\n",
       "      <td>1</td>\n",
       "      <td>2022</td>\n",
       "      <td>20</td>\n",
       "      <td>146</td>\n",
       "    </tr>\n",
       "    <tr>\n",
       "      <th>21</th>\n",
       "      <td>4</td>\n",
       "      <td>0</td>\n",
       "      <td>1</td>\n",
       "      <td>2022</td>\n",
       "      <td>21</td>\n",
       "      <td>116</td>\n",
       "    </tr>\n",
       "    <tr>\n",
       "      <th>22</th>\n",
       "      <td>4</td>\n",
       "      <td>0</td>\n",
       "      <td>1</td>\n",
       "      <td>2022</td>\n",
       "      <td>22</td>\n",
       "      <td>123</td>\n",
       "    </tr>\n",
       "    <tr>\n",
       "      <th>23</th>\n",
       "      <td>4</td>\n",
       "      <td>0</td>\n",
       "      <td>1</td>\n",
       "      <td>2022</td>\n",
       "      <td>23</td>\n",
       "      <td>92</td>\n",
       "    </tr>\n",
       "    <tr>\n",
       "      <th>24</th>\n",
       "      <td>4</td>\n",
       "      <td>0</td>\n",
       "      <td>1</td>\n",
       "      <td>2023</td>\n",
       "      <td>0</td>\n",
       "      <td>56</td>\n",
       "    </tr>\n",
       "    <tr>\n",
       "      <th>25</th>\n",
       "      <td>4</td>\n",
       "      <td>0</td>\n",
       "      <td>1</td>\n",
       "      <td>2023</td>\n",
       "      <td>1</td>\n",
       "      <td>43</td>\n",
       "    </tr>\n",
       "    <tr>\n",
       "      <th>26</th>\n",
       "      <td>4</td>\n",
       "      <td>0</td>\n",
       "      <td>1</td>\n",
       "      <td>2023</td>\n",
       "      <td>2</td>\n",
       "      <td>27</td>\n",
       "    </tr>\n",
       "    <tr>\n",
       "      <th>27</th>\n",
       "      <td>4</td>\n",
       "      <td>0</td>\n",
       "      <td>1</td>\n",
       "      <td>2023</td>\n",
       "      <td>3</td>\n",
       "      <td>11</td>\n",
       "    </tr>\n",
       "    <tr>\n",
       "      <th>28</th>\n",
       "      <td>4</td>\n",
       "      <td>0</td>\n",
       "      <td>1</td>\n",
       "      <td>2023</td>\n",
       "      <td>4</td>\n",
       "      <td>9</td>\n",
       "    </tr>\n",
       "    <tr>\n",
       "      <th>29</th>\n",
       "      <td>4</td>\n",
       "      <td>0</td>\n",
       "      <td>1</td>\n",
       "      <td>2023</td>\n",
       "      <td>5</td>\n",
       "      <td>7</td>\n",
       "    </tr>\n",
       "    <tr>\n",
       "      <th>30</th>\n",
       "      <td>4</td>\n",
       "      <td>0</td>\n",
       "      <td>1</td>\n",
       "      <td>2023</td>\n",
       "      <td>6</td>\n",
       "      <td>19</td>\n",
       "    </tr>\n",
       "    <tr>\n",
       "      <th>31</th>\n",
       "      <td>4</td>\n",
       "      <td>0</td>\n",
       "      <td>1</td>\n",
       "      <td>2023</td>\n",
       "      <td>7</td>\n",
       "      <td>28</td>\n",
       "    </tr>\n",
       "    <tr>\n",
       "      <th>32</th>\n",
       "      <td>4</td>\n",
       "      <td>0</td>\n",
       "      <td>1</td>\n",
       "      <td>2023</td>\n",
       "      <td>8</td>\n",
       "      <td>68</td>\n",
       "    </tr>\n",
       "    <tr>\n",
       "      <th>33</th>\n",
       "      <td>4</td>\n",
       "      <td>0</td>\n",
       "      <td>1</td>\n",
       "      <td>2023</td>\n",
       "      <td>9</td>\n",
       "      <td>31</td>\n",
       "    </tr>\n",
       "    <tr>\n",
       "      <th>34</th>\n",
       "      <td>4</td>\n",
       "      <td>0</td>\n",
       "      <td>1</td>\n",
       "      <td>2023</td>\n",
       "      <td>10</td>\n",
       "      <td>50</td>\n",
       "    </tr>\n",
       "    <tr>\n",
       "      <th>35</th>\n",
       "      <td>4</td>\n",
       "      <td>0</td>\n",
       "      <td>1</td>\n",
       "      <td>2023</td>\n",
       "      <td>11</td>\n",
       "      <td>58</td>\n",
       "    </tr>\n",
       "    <tr>\n",
       "      <th>36</th>\n",
       "      <td>4</td>\n",
       "      <td>0</td>\n",
       "      <td>1</td>\n",
       "      <td>2023</td>\n",
       "      <td>12</td>\n",
       "      <td>70</td>\n",
       "    </tr>\n",
       "    <tr>\n",
       "      <th>37</th>\n",
       "      <td>4</td>\n",
       "      <td>0</td>\n",
       "      <td>1</td>\n",
       "      <td>2023</td>\n",
       "      <td>13</td>\n",
       "      <td>68</td>\n",
       "    </tr>\n",
       "    <tr>\n",
       "      <th>38</th>\n",
       "      <td>4</td>\n",
       "      <td>0</td>\n",
       "      <td>1</td>\n",
       "      <td>2023</td>\n",
       "      <td>14</td>\n",
       "      <td>110</td>\n",
       "    </tr>\n",
       "    <tr>\n",
       "      <th>39</th>\n",
       "      <td>4</td>\n",
       "      <td>0</td>\n",
       "      <td>1</td>\n",
       "      <td>2023</td>\n",
       "      <td>15</td>\n",
       "      <td>130</td>\n",
       "    </tr>\n",
       "    <tr>\n",
       "      <th>40</th>\n",
       "      <td>4</td>\n",
       "      <td>0</td>\n",
       "      <td>1</td>\n",
       "      <td>2023</td>\n",
       "      <td>16</td>\n",
       "      <td>125</td>\n",
       "    </tr>\n",
       "    <tr>\n",
       "      <th>41</th>\n",
       "      <td>4</td>\n",
       "      <td>0</td>\n",
       "      <td>1</td>\n",
       "      <td>2023</td>\n",
       "      <td>17</td>\n",
       "      <td>164</td>\n",
       "    </tr>\n",
       "    <tr>\n",
       "      <th>42</th>\n",
       "      <td>4</td>\n",
       "      <td>0</td>\n",
       "      <td>1</td>\n",
       "      <td>2023</td>\n",
       "      <td>18</td>\n",
       "      <td>149</td>\n",
       "    </tr>\n",
       "    <tr>\n",
       "      <th>43</th>\n",
       "      <td>4</td>\n",
       "      <td>0</td>\n",
       "      <td>1</td>\n",
       "      <td>2023</td>\n",
       "      <td>19</td>\n",
       "      <td>128</td>\n",
       "    </tr>\n",
       "    <tr>\n",
       "      <th>44</th>\n",
       "      <td>4</td>\n",
       "      <td>0</td>\n",
       "      <td>1</td>\n",
       "      <td>2023</td>\n",
       "      <td>20</td>\n",
       "      <td>122</td>\n",
       "    </tr>\n",
       "    <tr>\n",
       "      <th>45</th>\n",
       "      <td>4</td>\n",
       "      <td>0</td>\n",
       "      <td>1</td>\n",
       "      <td>2023</td>\n",
       "      <td>21</td>\n",
       "      <td>157</td>\n",
       "    </tr>\n",
       "    <tr>\n",
       "      <th>46</th>\n",
       "      <td>4</td>\n",
       "      <td>0</td>\n",
       "      <td>1</td>\n",
       "      <td>2023</td>\n",
       "      <td>22</td>\n",
       "      <td>124</td>\n",
       "    </tr>\n",
       "    <tr>\n",
       "      <th>47</th>\n",
       "      <td>4</td>\n",
       "      <td>0</td>\n",
       "      <td>1</td>\n",
       "      <td>2023</td>\n",
       "      <td>23</td>\n",
       "      <td>93</td>\n",
       "    </tr>\n",
       "    <tr>\n",
       "      <th>48</th>\n",
       "      <td>4</td>\n",
       "      <td>0</td>\n",
       "      <td>1</td>\n",
       "      <td>2024</td>\n",
       "      <td>0</td>\n",
       "      <td>119</td>\n",
       "    </tr>\n",
       "    <tr>\n",
       "      <th>49</th>\n",
       "      <td>4</td>\n",
       "      <td>0</td>\n",
       "      <td>1</td>\n",
       "      <td>2024</td>\n",
       "      <td>1</td>\n",
       "      <td>119</td>\n",
       "    </tr>\n",
       "  </tbody>\n",
       "</table>\n",
       "</div>"
      ],
      "text/plain": [
       "   LocationID day month  year hour  passenger_count\n",
       "0           4   0     1  2022    0               91\n",
       "1           4   0     1  2022    1               35\n",
       "2           4   0     1  2022    2               13\n",
       "3           4   0     1  2022    3                9\n",
       "4           4   0     1  2022    4               10\n",
       "5           4   0     1  2022    5               11\n",
       "6           4   0     1  2022    6                6\n",
       "7           4   0     1  2022    7               38\n",
       "8           4   0     1  2022    8               76\n",
       "9           4   0     1  2022    9               51\n",
       "10          4   0     1  2022   10               53\n",
       "11          4   0     1  2022   11               85\n",
       "12          4   0     1  2022   12               98\n",
       "13          4   0     1  2022   13              122\n",
       "14          4   0     1  2022   14              143\n",
       "15          4   0     1  2022   15              178\n",
       "16          4   0     1  2022   16              172\n",
       "17          4   0     1  2022   17              185\n",
       "18          4   0     1  2022   18              202\n",
       "19          4   0     1  2022   19              176\n",
       "20          4   0     1  2022   20              146\n",
       "21          4   0     1  2022   21              116\n",
       "22          4   0     1  2022   22              123\n",
       "23          4   0     1  2022   23               92\n",
       "24          4   0     1  2023    0               56\n",
       "25          4   0     1  2023    1               43\n",
       "26          4   0     1  2023    2               27\n",
       "27          4   0     1  2023    3               11\n",
       "28          4   0     1  2023    4                9\n",
       "29          4   0     1  2023    5                7\n",
       "30          4   0     1  2023    6               19\n",
       "31          4   0     1  2023    7               28\n",
       "32          4   0     1  2023    8               68\n",
       "33          4   0     1  2023    9               31\n",
       "34          4   0     1  2023   10               50\n",
       "35          4   0     1  2023   11               58\n",
       "36          4   0     1  2023   12               70\n",
       "37          4   0     1  2023   13               68\n",
       "38          4   0     1  2023   14              110\n",
       "39          4   0     1  2023   15              130\n",
       "40          4   0     1  2023   16              125\n",
       "41          4   0     1  2023   17              164\n",
       "42          4   0     1  2023   18              149\n",
       "43          4   0     1  2023   19              128\n",
       "44          4   0     1  2023   20              122\n",
       "45          4   0     1  2023   21              157\n",
       "46          4   0     1  2023   22              124\n",
       "47          4   0     1  2023   23               93\n",
       "48          4   0     1  2024    0              119\n",
       "49          4   0     1  2024    1              119"
      ]
     },
     "execution_count": 23,
     "metadata": {},
     "output_type": "execute_result"
    }
   ],
   "source": [
    "transformed_df_combined.head(50)"
   ]
  },
  {
   "cell_type": "markdown",
   "id": "905b4b4d",
   "metadata": {},
   "source": [
    "**Add Busyness Rank**"
   ]
  },
  {
   "cell_type": "code",
   "execution_count": 26,
   "id": "41aaeddf",
   "metadata": {
    "ExecuteTime": {
     "end_time": "2024-07-10T10:21:36.437276Z",
     "start_time": "2024-07-10T10:21:36.427598Z"
    }
   },
   "outputs": [
    {
     "name": "stdout",
     "output_type": "stream",
     "text": [
      "Mean: 690.4497530408132 \n",
      "Standard Deviation: 821.1699353574098\n"
     ]
    }
   ],
   "source": [
    "mean = transformed_df_combined['passenger_count'].mean()\n",
    "std = transformed_df_combined['passenger_count'].std()\n",
    "\n",
    "print(f'Mean: {mean} \\nStandard Deviation: {std}')"
   ]
  },
  {
   "cell_type": "code",
   "execution_count": 32,
   "id": "a39e316a",
   "metadata": {
    "ExecuteTime": {
     "end_time": "2024-07-10T10:42:17.130163Z",
     "start_time": "2024-07-10T10:42:17.052595Z"
    }
   },
   "outputs": [],
   "source": [
    "Q1 = transformed_df_combined['passenger_count'].quantile(0.20)\n",
    "Q2 = transformed_df_combined['passenger_count'].quantile(0.40)\n",
    "Q3 = transformed_df_combined['passenger_count'].quantile(0.60)\n",
    "Q4 = transformed_df_combined['passenger_count'].quantile(0.80)\n",
    "Q5 = transformed_df_combined['passenger_count'].max()  # Use max for the upper bound\n",
    "\n",
    "# Define bins ensuring no duplicates\n",
    "bins = [-np.inf, Q1, Q2, Q3, Q4, Q5]  # Adjust bins to ensure they are unique\n",
    "labels = [5, 4, 3, 2, 1]  # Five labels for five bins\n",
    "\n",
    "# Ensure all bins have at least one entry\n",
    "transformed_df_combined['busyness_rank'] = pd.cut(transformed_df_combined['passenger_count'], bins=bins, labels=labels)"
   ]
  },
  {
   "cell_type": "code",
   "execution_count": 34,
   "id": "5cb6647b",
   "metadata": {
    "ExecuteTime": {
     "end_time": "2024-07-10T10:42:36.446258Z",
     "start_time": "2024-07-10T10:42:36.426404Z"
    }
   },
   "outputs": [],
   "source": [
    "transformed_df_combined['busyness_rank'] = transformed_df_combined['busyness_rank'].astype(int)"
   ]
  },
  {
   "cell_type": "code",
   "execution_count": 35,
   "id": "71225b02",
   "metadata": {
    "ExecuteTime": {
     "end_time": "2024-07-10T10:42:38.310885Z",
     "start_time": "2024-07-10T10:42:38.288219Z"
    }
   },
   "outputs": [
    {
     "data": {
      "text/html": [
       "<div>\n",
       "<style scoped>\n",
       "    .dataframe tbody tr th:only-of-type {\n",
       "        vertical-align: middle;\n",
       "    }\n",
       "\n",
       "    .dataframe tbody tr th {\n",
       "        vertical-align: top;\n",
       "    }\n",
       "\n",
       "    .dataframe thead th {\n",
       "        text-align: right;\n",
       "    }\n",
       "</style>\n",
       "<table border=\"1\" class=\"dataframe\">\n",
       "  <thead>\n",
       "    <tr style=\"text-align: right;\">\n",
       "      <th></th>\n",
       "      <th>LocationID</th>\n",
       "      <th>day</th>\n",
       "      <th>month</th>\n",
       "      <th>year</th>\n",
       "      <th>hour</th>\n",
       "      <th>passenger_count</th>\n",
       "      <th>busyness_rank</th>\n",
       "    </tr>\n",
       "  </thead>\n",
       "  <tbody>\n",
       "    <tr>\n",
       "      <th>0</th>\n",
       "      <td>4</td>\n",
       "      <td>0</td>\n",
       "      <td>1</td>\n",
       "      <td>2022</td>\n",
       "      <td>0</td>\n",
       "      <td>91.0</td>\n",
       "      <td>4</td>\n",
       "    </tr>\n",
       "    <tr>\n",
       "      <th>1</th>\n",
       "      <td>4</td>\n",
       "      <td>0</td>\n",
       "      <td>1</td>\n",
       "      <td>2022</td>\n",
       "      <td>1</td>\n",
       "      <td>35.0</td>\n",
       "      <td>5</td>\n",
       "    </tr>\n",
       "    <tr>\n",
       "      <th>2</th>\n",
       "      <td>4</td>\n",
       "      <td>0</td>\n",
       "      <td>1</td>\n",
       "      <td>2022</td>\n",
       "      <td>2</td>\n",
       "      <td>13.0</td>\n",
       "      <td>5</td>\n",
       "    </tr>\n",
       "    <tr>\n",
       "      <th>3</th>\n",
       "      <td>4</td>\n",
       "      <td>0</td>\n",
       "      <td>1</td>\n",
       "      <td>2022</td>\n",
       "      <td>3</td>\n",
       "      <td>9.0</td>\n",
       "      <td>5</td>\n",
       "    </tr>\n",
       "    <tr>\n",
       "      <th>4</th>\n",
       "      <td>4</td>\n",
       "      <td>0</td>\n",
       "      <td>1</td>\n",
       "      <td>2022</td>\n",
       "      <td>4</td>\n",
       "      <td>10.0</td>\n",
       "      <td>5</td>\n",
       "    </tr>\n",
       "    <tr>\n",
       "      <th>5</th>\n",
       "      <td>4</td>\n",
       "      <td>0</td>\n",
       "      <td>1</td>\n",
       "      <td>2022</td>\n",
       "      <td>5</td>\n",
       "      <td>11.0</td>\n",
       "      <td>5</td>\n",
       "    </tr>\n",
       "    <tr>\n",
       "      <th>6</th>\n",
       "      <td>4</td>\n",
       "      <td>0</td>\n",
       "      <td>1</td>\n",
       "      <td>2022</td>\n",
       "      <td>6</td>\n",
       "      <td>6.0</td>\n",
       "      <td>5</td>\n",
       "    </tr>\n",
       "    <tr>\n",
       "      <th>7</th>\n",
       "      <td>4</td>\n",
       "      <td>0</td>\n",
       "      <td>1</td>\n",
       "      <td>2022</td>\n",
       "      <td>7</td>\n",
       "      <td>38.0</td>\n",
       "      <td>5</td>\n",
       "    </tr>\n",
       "    <tr>\n",
       "      <th>8</th>\n",
       "      <td>4</td>\n",
       "      <td>0</td>\n",
       "      <td>1</td>\n",
       "      <td>2022</td>\n",
       "      <td>8</td>\n",
       "      <td>76.0</td>\n",
       "      <td>4</td>\n",
       "    </tr>\n",
       "    <tr>\n",
       "      <th>9</th>\n",
       "      <td>4</td>\n",
       "      <td>0</td>\n",
       "      <td>1</td>\n",
       "      <td>2022</td>\n",
       "      <td>9</td>\n",
       "      <td>51.0</td>\n",
       "      <td>5</td>\n",
       "    </tr>\n",
       "    <tr>\n",
       "      <th>10</th>\n",
       "      <td>4</td>\n",
       "      <td>0</td>\n",
       "      <td>1</td>\n",
       "      <td>2022</td>\n",
       "      <td>10</td>\n",
       "      <td>53.0</td>\n",
       "      <td>5</td>\n",
       "    </tr>\n",
       "    <tr>\n",
       "      <th>11</th>\n",
       "      <td>4</td>\n",
       "      <td>0</td>\n",
       "      <td>1</td>\n",
       "      <td>2022</td>\n",
       "      <td>11</td>\n",
       "      <td>85.0</td>\n",
       "      <td>4</td>\n",
       "    </tr>\n",
       "    <tr>\n",
       "      <th>12</th>\n",
       "      <td>4</td>\n",
       "      <td>0</td>\n",
       "      <td>1</td>\n",
       "      <td>2022</td>\n",
       "      <td>12</td>\n",
       "      <td>98.0</td>\n",
       "      <td>4</td>\n",
       "    </tr>\n",
       "    <tr>\n",
       "      <th>13</th>\n",
       "      <td>4</td>\n",
       "      <td>0</td>\n",
       "      <td>1</td>\n",
       "      <td>2022</td>\n",
       "      <td>13</td>\n",
       "      <td>122.0</td>\n",
       "      <td>4</td>\n",
       "    </tr>\n",
       "    <tr>\n",
       "      <th>14</th>\n",
       "      <td>4</td>\n",
       "      <td>0</td>\n",
       "      <td>1</td>\n",
       "      <td>2022</td>\n",
       "      <td>14</td>\n",
       "      <td>143.0</td>\n",
       "      <td>4</td>\n",
       "    </tr>\n",
       "    <tr>\n",
       "      <th>15</th>\n",
       "      <td>4</td>\n",
       "      <td>0</td>\n",
       "      <td>1</td>\n",
       "      <td>2022</td>\n",
       "      <td>15</td>\n",
       "      <td>178.0</td>\n",
       "      <td>4</td>\n",
       "    </tr>\n",
       "    <tr>\n",
       "      <th>16</th>\n",
       "      <td>4</td>\n",
       "      <td>0</td>\n",
       "      <td>1</td>\n",
       "      <td>2022</td>\n",
       "      <td>16</td>\n",
       "      <td>172.0</td>\n",
       "      <td>4</td>\n",
       "    </tr>\n",
       "    <tr>\n",
       "      <th>17</th>\n",
       "      <td>4</td>\n",
       "      <td>0</td>\n",
       "      <td>1</td>\n",
       "      <td>2022</td>\n",
       "      <td>17</td>\n",
       "      <td>185.0</td>\n",
       "      <td>4</td>\n",
       "    </tr>\n",
       "    <tr>\n",
       "      <th>18</th>\n",
       "      <td>4</td>\n",
       "      <td>0</td>\n",
       "      <td>1</td>\n",
       "      <td>2022</td>\n",
       "      <td>18</td>\n",
       "      <td>202.0</td>\n",
       "      <td>4</td>\n",
       "    </tr>\n",
       "    <tr>\n",
       "      <th>19</th>\n",
       "      <td>4</td>\n",
       "      <td>0</td>\n",
       "      <td>1</td>\n",
       "      <td>2022</td>\n",
       "      <td>19</td>\n",
       "      <td>176.0</td>\n",
       "      <td>4</td>\n",
       "    </tr>\n",
       "    <tr>\n",
       "      <th>20</th>\n",
       "      <td>4</td>\n",
       "      <td>0</td>\n",
       "      <td>1</td>\n",
       "      <td>2022</td>\n",
       "      <td>20</td>\n",
       "      <td>146.0</td>\n",
       "      <td>4</td>\n",
       "    </tr>\n",
       "    <tr>\n",
       "      <th>21</th>\n",
       "      <td>4</td>\n",
       "      <td>0</td>\n",
       "      <td>1</td>\n",
       "      <td>2022</td>\n",
       "      <td>21</td>\n",
       "      <td>116.0</td>\n",
       "      <td>4</td>\n",
       "    </tr>\n",
       "    <tr>\n",
       "      <th>22</th>\n",
       "      <td>4</td>\n",
       "      <td>0</td>\n",
       "      <td>1</td>\n",
       "      <td>2022</td>\n",
       "      <td>22</td>\n",
       "      <td>123.0</td>\n",
       "      <td>4</td>\n",
       "    </tr>\n",
       "    <tr>\n",
       "      <th>23</th>\n",
       "      <td>4</td>\n",
       "      <td>0</td>\n",
       "      <td>1</td>\n",
       "      <td>2022</td>\n",
       "      <td>23</td>\n",
       "      <td>92.0</td>\n",
       "      <td>4</td>\n",
       "    </tr>\n",
       "    <tr>\n",
       "      <th>24</th>\n",
       "      <td>4</td>\n",
       "      <td>0</td>\n",
       "      <td>1</td>\n",
       "      <td>2023</td>\n",
       "      <td>0</td>\n",
       "      <td>56.0</td>\n",
       "      <td>5</td>\n",
       "    </tr>\n",
       "    <tr>\n",
       "      <th>25</th>\n",
       "      <td>4</td>\n",
       "      <td>0</td>\n",
       "      <td>1</td>\n",
       "      <td>2023</td>\n",
       "      <td>1</td>\n",
       "      <td>43.0</td>\n",
       "      <td>5</td>\n",
       "    </tr>\n",
       "    <tr>\n",
       "      <th>26</th>\n",
       "      <td>4</td>\n",
       "      <td>0</td>\n",
       "      <td>1</td>\n",
       "      <td>2023</td>\n",
       "      <td>2</td>\n",
       "      <td>27.0</td>\n",
       "      <td>5</td>\n",
       "    </tr>\n",
       "    <tr>\n",
       "      <th>27</th>\n",
       "      <td>4</td>\n",
       "      <td>0</td>\n",
       "      <td>1</td>\n",
       "      <td>2023</td>\n",
       "      <td>3</td>\n",
       "      <td>11.0</td>\n",
       "      <td>5</td>\n",
       "    </tr>\n",
       "    <tr>\n",
       "      <th>28</th>\n",
       "      <td>4</td>\n",
       "      <td>0</td>\n",
       "      <td>1</td>\n",
       "      <td>2023</td>\n",
       "      <td>4</td>\n",
       "      <td>9.0</td>\n",
       "      <td>5</td>\n",
       "    </tr>\n",
       "    <tr>\n",
       "      <th>29</th>\n",
       "      <td>4</td>\n",
       "      <td>0</td>\n",
       "      <td>1</td>\n",
       "      <td>2023</td>\n",
       "      <td>5</td>\n",
       "      <td>7.0</td>\n",
       "      <td>5</td>\n",
       "    </tr>\n",
       "    <tr>\n",
       "      <th>30</th>\n",
       "      <td>4</td>\n",
       "      <td>0</td>\n",
       "      <td>1</td>\n",
       "      <td>2023</td>\n",
       "      <td>6</td>\n",
       "      <td>19.0</td>\n",
       "      <td>5</td>\n",
       "    </tr>\n",
       "    <tr>\n",
       "      <th>31</th>\n",
       "      <td>4</td>\n",
       "      <td>0</td>\n",
       "      <td>1</td>\n",
       "      <td>2023</td>\n",
       "      <td>7</td>\n",
       "      <td>28.0</td>\n",
       "      <td>5</td>\n",
       "    </tr>\n",
       "    <tr>\n",
       "      <th>32</th>\n",
       "      <td>4</td>\n",
       "      <td>0</td>\n",
       "      <td>1</td>\n",
       "      <td>2023</td>\n",
       "      <td>8</td>\n",
       "      <td>68.0</td>\n",
       "      <td>4</td>\n",
       "    </tr>\n",
       "    <tr>\n",
       "      <th>33</th>\n",
       "      <td>4</td>\n",
       "      <td>0</td>\n",
       "      <td>1</td>\n",
       "      <td>2023</td>\n",
       "      <td>9</td>\n",
       "      <td>31.0</td>\n",
       "      <td>5</td>\n",
       "    </tr>\n",
       "    <tr>\n",
       "      <th>34</th>\n",
       "      <td>4</td>\n",
       "      <td>0</td>\n",
       "      <td>1</td>\n",
       "      <td>2023</td>\n",
       "      <td>10</td>\n",
       "      <td>50.0</td>\n",
       "      <td>5</td>\n",
       "    </tr>\n",
       "    <tr>\n",
       "      <th>35</th>\n",
       "      <td>4</td>\n",
       "      <td>0</td>\n",
       "      <td>1</td>\n",
       "      <td>2023</td>\n",
       "      <td>11</td>\n",
       "      <td>58.0</td>\n",
       "      <td>5</td>\n",
       "    </tr>\n",
       "    <tr>\n",
       "      <th>36</th>\n",
       "      <td>4</td>\n",
       "      <td>0</td>\n",
       "      <td>1</td>\n",
       "      <td>2023</td>\n",
       "      <td>12</td>\n",
       "      <td>70.0</td>\n",
       "      <td>4</td>\n",
       "    </tr>\n",
       "    <tr>\n",
       "      <th>37</th>\n",
       "      <td>4</td>\n",
       "      <td>0</td>\n",
       "      <td>1</td>\n",
       "      <td>2023</td>\n",
       "      <td>13</td>\n",
       "      <td>68.0</td>\n",
       "      <td>4</td>\n",
       "    </tr>\n",
       "    <tr>\n",
       "      <th>38</th>\n",
       "      <td>4</td>\n",
       "      <td>0</td>\n",
       "      <td>1</td>\n",
       "      <td>2023</td>\n",
       "      <td>14</td>\n",
       "      <td>110.0</td>\n",
       "      <td>4</td>\n",
       "    </tr>\n",
       "    <tr>\n",
       "      <th>39</th>\n",
       "      <td>4</td>\n",
       "      <td>0</td>\n",
       "      <td>1</td>\n",
       "      <td>2023</td>\n",
       "      <td>15</td>\n",
       "      <td>130.0</td>\n",
       "      <td>4</td>\n",
       "    </tr>\n",
       "    <tr>\n",
       "      <th>40</th>\n",
       "      <td>4</td>\n",
       "      <td>0</td>\n",
       "      <td>1</td>\n",
       "      <td>2023</td>\n",
       "      <td>16</td>\n",
       "      <td>125.0</td>\n",
       "      <td>4</td>\n",
       "    </tr>\n",
       "    <tr>\n",
       "      <th>41</th>\n",
       "      <td>4</td>\n",
       "      <td>0</td>\n",
       "      <td>1</td>\n",
       "      <td>2023</td>\n",
       "      <td>17</td>\n",
       "      <td>164.0</td>\n",
       "      <td>4</td>\n",
       "    </tr>\n",
       "    <tr>\n",
       "      <th>42</th>\n",
       "      <td>4</td>\n",
       "      <td>0</td>\n",
       "      <td>1</td>\n",
       "      <td>2023</td>\n",
       "      <td>18</td>\n",
       "      <td>149.0</td>\n",
       "      <td>4</td>\n",
       "    </tr>\n",
       "    <tr>\n",
       "      <th>43</th>\n",
       "      <td>4</td>\n",
       "      <td>0</td>\n",
       "      <td>1</td>\n",
       "      <td>2023</td>\n",
       "      <td>19</td>\n",
       "      <td>128.0</td>\n",
       "      <td>4</td>\n",
       "    </tr>\n",
       "    <tr>\n",
       "      <th>44</th>\n",
       "      <td>4</td>\n",
       "      <td>0</td>\n",
       "      <td>1</td>\n",
       "      <td>2023</td>\n",
       "      <td>20</td>\n",
       "      <td>122.0</td>\n",
       "      <td>4</td>\n",
       "    </tr>\n",
       "    <tr>\n",
       "      <th>45</th>\n",
       "      <td>4</td>\n",
       "      <td>0</td>\n",
       "      <td>1</td>\n",
       "      <td>2023</td>\n",
       "      <td>21</td>\n",
       "      <td>157.0</td>\n",
       "      <td>4</td>\n",
       "    </tr>\n",
       "    <tr>\n",
       "      <th>46</th>\n",
       "      <td>4</td>\n",
       "      <td>0</td>\n",
       "      <td>1</td>\n",
       "      <td>2023</td>\n",
       "      <td>22</td>\n",
       "      <td>124.0</td>\n",
       "      <td>4</td>\n",
       "    </tr>\n",
       "    <tr>\n",
       "      <th>47</th>\n",
       "      <td>4</td>\n",
       "      <td>0</td>\n",
       "      <td>1</td>\n",
       "      <td>2023</td>\n",
       "      <td>23</td>\n",
       "      <td>93.0</td>\n",
       "      <td>4</td>\n",
       "    </tr>\n",
       "    <tr>\n",
       "      <th>48</th>\n",
       "      <td>4</td>\n",
       "      <td>0</td>\n",
       "      <td>1</td>\n",
       "      <td>2024</td>\n",
       "      <td>0</td>\n",
       "      <td>119.0</td>\n",
       "      <td>4</td>\n",
       "    </tr>\n",
       "    <tr>\n",
       "      <th>49</th>\n",
       "      <td>4</td>\n",
       "      <td>0</td>\n",
       "      <td>1</td>\n",
       "      <td>2024</td>\n",
       "      <td>1</td>\n",
       "      <td>119.0</td>\n",
       "      <td>4</td>\n",
       "    </tr>\n",
       "  </tbody>\n",
       "</table>\n",
       "</div>"
      ],
      "text/plain": [
       "   LocationID day month  year hour  passenger_count  busyness_rank\n",
       "0           4   0     1  2022    0             91.0              4\n",
       "1           4   0     1  2022    1             35.0              5\n",
       "2           4   0     1  2022    2             13.0              5\n",
       "3           4   0     1  2022    3              9.0              5\n",
       "4           4   0     1  2022    4             10.0              5\n",
       "5           4   0     1  2022    5             11.0              5\n",
       "6           4   0     1  2022    6              6.0              5\n",
       "7           4   0     1  2022    7             38.0              5\n",
       "8           4   0     1  2022    8             76.0              4\n",
       "9           4   0     1  2022    9             51.0              5\n",
       "10          4   0     1  2022   10             53.0              5\n",
       "11          4   0     1  2022   11             85.0              4\n",
       "12          4   0     1  2022   12             98.0              4\n",
       "13          4   0     1  2022   13            122.0              4\n",
       "14          4   0     1  2022   14            143.0              4\n",
       "15          4   0     1  2022   15            178.0              4\n",
       "16          4   0     1  2022   16            172.0              4\n",
       "17          4   0     1  2022   17            185.0              4\n",
       "18          4   0     1  2022   18            202.0              4\n",
       "19          4   0     1  2022   19            176.0              4\n",
       "20          4   0     1  2022   20            146.0              4\n",
       "21          4   0     1  2022   21            116.0              4\n",
       "22          4   0     1  2022   22            123.0              4\n",
       "23          4   0     1  2022   23             92.0              4\n",
       "24          4   0     1  2023    0             56.0              5\n",
       "25          4   0     1  2023    1             43.0              5\n",
       "26          4   0     1  2023    2             27.0              5\n",
       "27          4   0     1  2023    3             11.0              5\n",
       "28          4   0     1  2023    4              9.0              5\n",
       "29          4   0     1  2023    5              7.0              5\n",
       "30          4   0     1  2023    6             19.0              5\n",
       "31          4   0     1  2023    7             28.0              5\n",
       "32          4   0     1  2023    8             68.0              4\n",
       "33          4   0     1  2023    9             31.0              5\n",
       "34          4   0     1  2023   10             50.0              5\n",
       "35          4   0     1  2023   11             58.0              5\n",
       "36          4   0     1  2023   12             70.0              4\n",
       "37          4   0     1  2023   13             68.0              4\n",
       "38          4   0     1  2023   14            110.0              4\n",
       "39          4   0     1  2023   15            130.0              4\n",
       "40          4   0     1  2023   16            125.0              4\n",
       "41          4   0     1  2023   17            164.0              4\n",
       "42          4   0     1  2023   18            149.0              4\n",
       "43          4   0     1  2023   19            128.0              4\n",
       "44          4   0     1  2023   20            122.0              4\n",
       "45          4   0     1  2023   21            157.0              4\n",
       "46          4   0     1  2023   22            124.0              4\n",
       "47          4   0     1  2023   23             93.0              4\n",
       "48          4   0     1  2024    0            119.0              4\n",
       "49          4   0     1  2024    1            119.0              4"
      ]
     },
     "execution_count": 35,
     "metadata": {},
     "output_type": "execute_result"
    }
   ],
   "source": [
    "transformed_df_combined.head(50)"
   ]
  },
  {
   "cell_type": "code",
   "execution_count": 36,
   "id": "b8b4dde0",
   "metadata": {
    "ExecuteTime": {
     "end_time": "2024-07-10T10:42:47.932182Z",
     "start_time": "2024-07-10T10:42:47.928748Z"
    }
   },
   "outputs": [],
   "source": [
    "df = transformed_df_combined"
   ]
  },
  {
   "cell_type": "markdown",
   "id": "3787b45d",
   "metadata": {},
   "source": [
    "**Plot average busyness rank per location**"
   ]
  },
  {
   "cell_type": "code",
   "execution_count": 37,
   "id": "c37d08c6",
   "metadata": {
    "ExecuteTime": {
     "end_time": "2024-07-10T10:42:50.941044Z",
     "start_time": "2024-07-10T10:42:50.726100Z"
    }
   },
   "outputs": [
    {
     "name": "stderr",
     "output_type": "stream",
     "text": [
      "/var/folders/8v/myv9ql5d1lg4ct7vbb0zh8000000gn/T/ipykernel_45488/156313315.py:1: FutureWarning: The default of observed=False is deprecated and will be changed to True in a future version of pandas. Pass observed=False to retain current behavior or observed=True to adopt the future default and silence this warning.\n",
      "  average_busyness_per_location = df.groupby('LocationID')['busyness_rank'].mean().reset_index()\n"
     ]
    },
    {
     "data": {
      "image/png": "[encoded data removed]",
      "text/plain": [
       "<Figure size 600x2000 with 1 Axes>"
      ]
     },
     "metadata": {},
     "output_type": "display_data"
    }
   ],
   "source": [
    "average_busyness_per_location = df.groupby('LocationID')['busyness_rank'].mean().reset_index()\n",
    "plt.figure(figsize=(6, 20))\n",
    "average = average_busyness_per_location.set_index('LocationID')['busyness_rank']\n",
    "average.plot(kind='barh', color='skyblue')\n",
    "plt.title('Average Busyness Rank per Location (1 = busiest, 5 = least busy)')\n",
    "plt.xlabel('Average Busyness Rank')\n",
    "plt.ylabel('Location ID')\n",
    "plt.grid(axis='x')\n",
    "plt.show()"
   ]
  },
  {
   "cell_type": "code",
   "execution_count": 38,
   "id": "42827a91",
   "metadata": {
    "ExecuteTime": {
     "end_time": "2024-07-10T10:43:06.009411Z",
     "start_time": "2024-07-10T10:43:05.700852Z"
    }
   },
   "outputs": [],
   "source": [
    "df.to_csv('taxi_data_final.csv', index=False)"
   ]
  },
  {
   "cell_type": "code",
   "execution_count": null,
   "id": "9bf50ffe",
   "metadata": {},
   "outputs": [],
   "source": []
  }
 ],
 "metadata": {
  "kernelspec": {
   "display_name": "Python 3 (ipykernel)",
   "language": "python",
   "name": "python3"
  },
  "language_info": {
   "codemirror_mode": {
    "name": "ipython",
    "version": 3
   },
   "file_extension": ".py",
   "mimetype": "text/x-python",
   "name": "python",
   "nbconvert_exporter": "python",
   "pygments_lexer": "ipython3",
   "version": "3.11.9"
  }
 },
 "nbformat": 4,
 "nbformat_minor": 5
}
