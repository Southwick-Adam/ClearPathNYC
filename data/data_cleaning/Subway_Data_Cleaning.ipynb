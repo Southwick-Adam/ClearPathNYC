{
 "cells": [
  {
   "cell_type": "code",
   "execution_count": 3,
   "id": "9154b9ef",
   "metadata": {
    "ExecuteTime": {
     "end_time": "2024-07-10T09:46:12.633524Z",
     "start_time": "2024-07-10T09:46:11.857613Z"
    }
   },
   "outputs": [],
   "source": [
    "import pandas as pd\n",
    "import matplotlib.pyplot as plt\n",
    "import numpy as np"
   ]
  },
  {
   "cell_type": "code",
   "execution_count": 2,
   "id": "81664043",
   "metadata": {
    "ExecuteTime": {
     "end_time": "2024-07-09T11:48:35.232276Z",
     "start_time": "2024-07-09T11:48:15.277376Z"
    }
   },
   "outputs": [
    {
     "name": "stderr",
     "output_type": "stream",
     "text": [
      "/var/folders/8v/myv9ql5d1lg4ct7vbb0zh8000000gn/T/ipykernel_27479/2629346002.py:1: DtypeWarning: Columns (2) have mixed types. Specify dtype option on import or set low_memory=False.\n",
      "  df = pd.read_csv('Subway_Data.csv')\n"
     ]
    },
    {
     "name": "stdout",
     "output_type": "stream",
     "text": [
      "Number of Rows: 18116710 \n",
      "Number of Columns: 15\n"
     ]
    }
   ],
   "source": [
    "df = pd.read_csv('Subway_Data.csv')\n",
    "rows, cols = df.shape\n",
    "print(\"Number of Rows:\", rows, \"\\nNumber of Columns:\", cols)"
   ]
  },
  {
   "cell_type": "code",
   "execution_count": 3,
   "id": "094ce15b",
   "metadata": {
    "ExecuteTime": {
     "end_time": "2024-07-09T11:48:35.249162Z",
     "start_time": "2024-07-09T11:48:35.234041Z"
    }
   },
   "outputs": [
    {
     "data": {
      "text/html": [
       "<div>\n",
       "<style scoped>\n",
       "    .dataframe tbody tr th:only-of-type {\n",
       "        vertical-align: middle;\n",
       "    }\n",
       "\n",
       "    .dataframe tbody tr th {\n",
       "        vertical-align: top;\n",
       "    }\n",
       "\n",
       "    .dataframe thead th {\n",
       "        text-align: right;\n",
       "    }\n",
       "</style>\n",
       "<table border=\"1\" class=\"dataframe\">\n",
       "  <thead>\n",
       "    <tr style=\"text-align: right;\">\n",
       "      <th></th>\n",
       "      <th>transit_timestamp</th>\n",
       "      <th>transit_mode</th>\n",
       "      <th>station_complex_id</th>\n",
       "      <th>station_complex</th>\n",
       "      <th>borough</th>\n",
       "      <th>payment_method</th>\n",
       "      <th>fare_class_category</th>\n",
       "      <th>ridership</th>\n",
       "      <th>transfers</th>\n",
       "      <th>latitude</th>\n",
       "      <th>longitude</th>\n",
       "      <th>Georeference</th>\n",
       "      <th>Counties</th>\n",
       "      <th>NYS Municipal Boundaries</th>\n",
       "      <th>New York Zip Codes</th>\n",
       "    </tr>\n",
       "  </thead>\n",
       "  <tbody>\n",
       "    <tr>\n",
       "      <th>0</th>\n",
       "      <td>12/15/2022 06:00:00 AM</td>\n",
       "      <td>subway</td>\n",
       "      <td>225</td>\n",
       "      <td>47-50 Sts-Rockefeller Ctr (B,D,F,M)</td>\n",
       "      <td>Manhattan</td>\n",
       "      <td>metrocard</td>\n",
       "      <td>Metrocard - Other</td>\n",
       "      <td>2</td>\n",
       "      <td>0</td>\n",
       "      <td>40.758663</td>\n",
       "      <td>-73.981331</td>\n",
       "      <td>POINT (-73.98133087158203 40.758663177490234)</td>\n",
       "      <td>2095</td>\n",
       "      <td>749</td>\n",
       "      <td>743.0</td>\n",
       "    </tr>\n",
       "    <tr>\n",
       "      <th>1</th>\n",
       "      <td>06/16/2022 01:00:00 AM</td>\n",
       "      <td>subway</td>\n",
       "      <td>225</td>\n",
       "      <td>47-50 Sts-Rockefeller Ctr (B,D,F,M)</td>\n",
       "      <td>Manhattan</td>\n",
       "      <td>metrocard</td>\n",
       "      <td>Metrocard - Full Fare</td>\n",
       "      <td>59</td>\n",
       "      <td>0</td>\n",
       "      <td>40.758663</td>\n",
       "      <td>-73.981331</td>\n",
       "      <td>POINT (-73.98133087158203 40.758663177490234)</td>\n",
       "      <td>2095</td>\n",
       "      <td>749</td>\n",
       "      <td>743.0</td>\n",
       "    </tr>\n",
       "    <tr>\n",
       "      <th>2</th>\n",
       "      <td>04/17/2022 05:00:00 PM</td>\n",
       "      <td>subway</td>\n",
       "      <td>225</td>\n",
       "      <td>47-50 Sts-Rockefeller Ctr (B,D,F,M)</td>\n",
       "      <td>Manhattan</td>\n",
       "      <td>metrocard</td>\n",
       "      <td>Metrocard - Other</td>\n",
       "      <td>21</td>\n",
       "      <td>0</td>\n",
       "      <td>40.758663</td>\n",
       "      <td>-73.981331</td>\n",
       "      <td>POINT (-73.98133087158203 40.758663177490234)</td>\n",
       "      <td>2095</td>\n",
       "      <td>749</td>\n",
       "      <td>743.0</td>\n",
       "    </tr>\n",
       "    <tr>\n",
       "      <th>3</th>\n",
       "      <td>04/13/2022 07:00:00 PM</td>\n",
       "      <td>subway</td>\n",
       "      <td>225</td>\n",
       "      <td>47-50 Sts-Rockefeller Ctr (B,D,F,M)</td>\n",
       "      <td>Manhattan</td>\n",
       "      <td>metrocard</td>\n",
       "      <td>Metrocard - Full Fare</td>\n",
       "      <td>744</td>\n",
       "      <td>4</td>\n",
       "      <td>40.758663</td>\n",
       "      <td>-73.981331</td>\n",
       "      <td>POINT (-73.98133087158203 40.758663177490234)</td>\n",
       "      <td>2095</td>\n",
       "      <td>749</td>\n",
       "      <td>743.0</td>\n",
       "    </tr>\n",
       "    <tr>\n",
       "      <th>4</th>\n",
       "      <td>12/03/2022 05:00:00 PM</td>\n",
       "      <td>subway</td>\n",
       "      <td>225</td>\n",
       "      <td>47-50 Sts-Rockefeller Ctr (B,D,F,M)</td>\n",
       "      <td>Manhattan</td>\n",
       "      <td>metrocard</td>\n",
       "      <td>Metrocard - Other</td>\n",
       "      <td>85</td>\n",
       "      <td>0</td>\n",
       "      <td>40.758663</td>\n",
       "      <td>-73.981331</td>\n",
       "      <td>POINT (-73.98133087158203 40.758663177490234)</td>\n",
       "      <td>2095</td>\n",
       "      <td>749</td>\n",
       "      <td>743.0</td>\n",
       "    </tr>\n",
       "    <tr>\n",
       "      <th>...</th>\n",
       "      <td>...</td>\n",
       "      <td>...</td>\n",
       "      <td>...</td>\n",
       "      <td>...</td>\n",
       "      <td>...</td>\n",
       "      <td>...</td>\n",
       "      <td>...</td>\n",
       "      <td>...</td>\n",
       "      <td>...</td>\n",
       "      <td>...</td>\n",
       "      <td>...</td>\n",
       "      <td>...</td>\n",
       "      <td>...</td>\n",
       "      <td>...</td>\n",
       "      <td>...</td>\n",
       "    </tr>\n",
       "    <tr>\n",
       "      <th>18116705</th>\n",
       "      <td>06/01/2024 09:00:00 PM</td>\n",
       "      <td>subway</td>\n",
       "      <td>314</td>\n",
       "      <td>66 St-Lincoln Center (1)</td>\n",
       "      <td>Manhattan</td>\n",
       "      <td>metrocard</td>\n",
       "      <td>Metrocard - Seniors &amp; Disability</td>\n",
       "      <td>70</td>\n",
       "      <td>2</td>\n",
       "      <td>40.773440</td>\n",
       "      <td>-73.982210</td>\n",
       "      <td>POINT (-73.98221 40.77344)</td>\n",
       "      <td>2095</td>\n",
       "      <td>749</td>\n",
       "      <td>750.0</td>\n",
       "    </tr>\n",
       "    <tr>\n",
       "      <th>18116706</th>\n",
       "      <td>06/01/2024 01:00:00 PM</td>\n",
       "      <td>subway</td>\n",
       "      <td>225</td>\n",
       "      <td>47-50 Sts-Rockefeller Ctr (B,D,F,M)</td>\n",
       "      <td>Manhattan</td>\n",
       "      <td>metrocard</td>\n",
       "      <td>Metrocard - Seniors &amp; Disability</td>\n",
       "      <td>25</td>\n",
       "      <td>0</td>\n",
       "      <td>40.758663</td>\n",
       "      <td>-73.981330</td>\n",
       "      <td>POINT (-73.98133 40.758663)</td>\n",
       "      <td>2095</td>\n",
       "      <td>749</td>\n",
       "      <td>743.0</td>\n",
       "    </tr>\n",
       "    <tr>\n",
       "      <th>18116707</th>\n",
       "      <td>06/01/2024 05:00:00 PM</td>\n",
       "      <td>subway</td>\n",
       "      <td>477</td>\n",
       "      <td>72 St (Q)</td>\n",
       "      <td>Manhattan</td>\n",
       "      <td>metrocard</td>\n",
       "      <td>Metrocard - Unlimited 7-Day</td>\n",
       "      <td>39</td>\n",
       "      <td>0</td>\n",
       "      <td>40.768800</td>\n",
       "      <td>-73.958430</td>\n",
       "      <td>POINT (-73.95843 40.7688)</td>\n",
       "      <td>2095</td>\n",
       "      <td>749</td>\n",
       "      <td>744.0</td>\n",
       "    </tr>\n",
       "    <tr>\n",
       "      <th>18116708</th>\n",
       "      <td>06/01/2024 09:00:00 AM</td>\n",
       "      <td>subway</td>\n",
       "      <td>404</td>\n",
       "      <td>28 St (6)</td>\n",
       "      <td>Manhattan</td>\n",
       "      <td>omny</td>\n",
       "      <td>OMNY - Full Fare</td>\n",
       "      <td>173</td>\n",
       "      <td>1</td>\n",
       "      <td>40.743070</td>\n",
       "      <td>-73.984260</td>\n",
       "      <td>POINT (-73.98426 40.74307)</td>\n",
       "      <td>2095</td>\n",
       "      <td>749</td>\n",
       "      <td>739.0</td>\n",
       "    </tr>\n",
       "    <tr>\n",
       "      <th>18116709</th>\n",
       "      <td>06/01/2024 01:00:00 AM</td>\n",
       "      <td>subway</td>\n",
       "      <td>169</td>\n",
       "      <td>Canal St (A,C,E)</td>\n",
       "      <td>Manhattan</td>\n",
       "      <td>metrocard</td>\n",
       "      <td>Metrocard - Unlimited 7-Day</td>\n",
       "      <td>13</td>\n",
       "      <td>0</td>\n",
       "      <td>40.720825</td>\n",
       "      <td>-74.005226</td>\n",
       "      <td>POINT (-74.005226 40.720825)</td>\n",
       "      <td>2095</td>\n",
       "      <td>749</td>\n",
       "      <td>737.0</td>\n",
       "    </tr>\n",
       "  </tbody>\n",
       "</table>\n",
       "<p>18116710 rows × 15 columns</p>\n",
       "</div>"
      ],
      "text/plain": [
       "               transit_timestamp transit_mode station_complex_id  \\\n",
       "0         12/15/2022 06:00:00 AM       subway                225   \n",
       "1         06/16/2022 01:00:00 AM       subway                225   \n",
       "2         04/17/2022 05:00:00 PM       subway                225   \n",
       "3         04/13/2022 07:00:00 PM       subway                225   \n",
       "4         12/03/2022 05:00:00 PM       subway                225   \n",
       "...                          ...          ...                ...   \n",
       "18116705  06/01/2024 09:00:00 PM       subway                314   \n",
       "18116706  06/01/2024 01:00:00 PM       subway                225   \n",
       "18116707  06/01/2024 05:00:00 PM       subway                477   \n",
       "18116708  06/01/2024 09:00:00 AM       subway                404   \n",
       "18116709  06/01/2024 01:00:00 AM       subway                169   \n",
       "\n",
       "                              station_complex    borough payment_method  \\\n",
       "0         47-50 Sts-Rockefeller Ctr (B,D,F,M)  Manhattan      metrocard   \n",
       "1         47-50 Sts-Rockefeller Ctr (B,D,F,M)  Manhattan      metrocard   \n",
       "2         47-50 Sts-Rockefeller Ctr (B,D,F,M)  Manhattan      metrocard   \n",
       "3         47-50 Sts-Rockefeller Ctr (B,D,F,M)  Manhattan      metrocard   \n",
       "4         47-50 Sts-Rockefeller Ctr (B,D,F,M)  Manhattan      metrocard   \n",
       "...                                       ...        ...            ...   \n",
       "18116705             66 St-Lincoln Center (1)  Manhattan      metrocard   \n",
       "18116706  47-50 Sts-Rockefeller Ctr (B,D,F,M)  Manhattan      metrocard   \n",
       "18116707                            72 St (Q)  Manhattan      metrocard   \n",
       "18116708                            28 St (6)  Manhattan           omny   \n",
       "18116709                     Canal St (A,C,E)  Manhattan      metrocard   \n",
       "\n",
       "                       fare_class_category  ridership  transfers   latitude  \\\n",
       "0                        Metrocard - Other          2          0  40.758663   \n",
       "1                    Metrocard - Full Fare         59          0  40.758663   \n",
       "2                        Metrocard - Other         21          0  40.758663   \n",
       "3                    Metrocard - Full Fare        744          4  40.758663   \n",
       "4                        Metrocard - Other         85          0  40.758663   \n",
       "...                                    ...        ...        ...        ...   \n",
       "18116705  Metrocard - Seniors & Disability         70          2  40.773440   \n",
       "18116706  Metrocard - Seniors & Disability         25          0  40.758663   \n",
       "18116707       Metrocard - Unlimited 7-Day         39          0  40.768800   \n",
       "18116708                  OMNY - Full Fare        173          1  40.743070   \n",
       "18116709       Metrocard - Unlimited 7-Day         13          0  40.720825   \n",
       "\n",
       "          longitude                                   Georeference  Counties  \\\n",
       "0        -73.981331  POINT (-73.98133087158203 40.758663177490234)      2095   \n",
       "1        -73.981331  POINT (-73.98133087158203 40.758663177490234)      2095   \n",
       "2        -73.981331  POINT (-73.98133087158203 40.758663177490234)      2095   \n",
       "3        -73.981331  POINT (-73.98133087158203 40.758663177490234)      2095   \n",
       "4        -73.981331  POINT (-73.98133087158203 40.758663177490234)      2095   \n",
       "...             ...                                            ...       ...   \n",
       "18116705 -73.982210                     POINT (-73.98221 40.77344)      2095   \n",
       "18116706 -73.981330                    POINT (-73.98133 40.758663)      2095   \n",
       "18116707 -73.958430                      POINT (-73.95843 40.7688)      2095   \n",
       "18116708 -73.984260                     POINT (-73.98426 40.74307)      2095   \n",
       "18116709 -74.005226                   POINT (-74.005226 40.720825)      2095   \n",
       "\n",
       "          NYS Municipal Boundaries  New York Zip Codes  \n",
       "0                              749               743.0  \n",
       "1                              749               743.0  \n",
       "2                              749               743.0  \n",
       "3                              749               743.0  \n",
       "4                              749               743.0  \n",
       "...                            ...                 ...  \n",
       "18116705                       749               750.0  \n",
       "18116706                       749               743.0  \n",
       "18116707                       749               744.0  \n",
       "18116708                       749               739.0  \n",
       "18116709                       749               737.0  \n",
       "\n",
       "[18116710 rows x 15 columns]"
      ]
     },
     "execution_count": 3,
     "metadata": {},
     "output_type": "execute_result"
    }
   ],
   "source": [
    "df"
   ]
  },
  {
   "cell_type": "code",
   "execution_count": 4,
   "id": "6efe35b2",
   "metadata": {
    "ExecuteTime": {
     "end_time": "2024-07-09T11:48:37.866482Z",
     "start_time": "2024-07-09T11:48:35.250661Z"
    }
   },
   "outputs": [
    {
     "data": {
      "text/html": [
       "<div>\n",
       "<style scoped>\n",
       "    .dataframe tbody tr th:only-of-type {\n",
       "        vertical-align: middle;\n",
       "    }\n",
       "\n",
       "    .dataframe tbody tr th {\n",
       "        vertical-align: top;\n",
       "    }\n",
       "\n",
       "    .dataframe thead th {\n",
       "        text-align: right;\n",
       "    }\n",
       "</style>\n",
       "<table border=\"1\" class=\"dataframe\">\n",
       "  <thead>\n",
       "    <tr style=\"text-align: right;\">\n",
       "      <th></th>\n",
       "      <th>dtype</th>\n",
       "      <th>missing_values</th>\n",
       "    </tr>\n",
       "  </thead>\n",
       "  <tbody>\n",
       "    <tr>\n",
       "      <th>transit_timestamp</th>\n",
       "      <td>object</td>\n",
       "      <td>0</td>\n",
       "    </tr>\n",
       "    <tr>\n",
       "      <th>transit_mode</th>\n",
       "      <td>object</td>\n",
       "      <td>0</td>\n",
       "    </tr>\n",
       "    <tr>\n",
       "      <th>station_complex_id</th>\n",
       "      <td>object</td>\n",
       "      <td>0</td>\n",
       "    </tr>\n",
       "    <tr>\n",
       "      <th>station_complex</th>\n",
       "      <td>object</td>\n",
       "      <td>0</td>\n",
       "    </tr>\n",
       "    <tr>\n",
       "      <th>borough</th>\n",
       "      <td>object</td>\n",
       "      <td>0</td>\n",
       "    </tr>\n",
       "    <tr>\n",
       "      <th>payment_method</th>\n",
       "      <td>object</td>\n",
       "      <td>0</td>\n",
       "    </tr>\n",
       "    <tr>\n",
       "      <th>fare_class_category</th>\n",
       "      <td>object</td>\n",
       "      <td>0</td>\n",
       "    </tr>\n",
       "    <tr>\n",
       "      <th>ridership</th>\n",
       "      <td>int64</td>\n",
       "      <td>0</td>\n",
       "    </tr>\n",
       "    <tr>\n",
       "      <th>transfers</th>\n",
       "      <td>int64</td>\n",
       "      <td>0</td>\n",
       "    </tr>\n",
       "    <tr>\n",
       "      <th>latitude</th>\n",
       "      <td>float64</td>\n",
       "      <td>0</td>\n",
       "    </tr>\n",
       "    <tr>\n",
       "      <th>longitude</th>\n",
       "      <td>float64</td>\n",
       "      <td>0</td>\n",
       "    </tr>\n",
       "    <tr>\n",
       "      <th>Georeference</th>\n",
       "      <td>object</td>\n",
       "      <td>0</td>\n",
       "    </tr>\n",
       "    <tr>\n",
       "      <th>Counties</th>\n",
       "      <td>int64</td>\n",
       "      <td>0</td>\n",
       "    </tr>\n",
       "    <tr>\n",
       "      <th>NYS Municipal Boundaries</th>\n",
       "      <td>int64</td>\n",
       "      <td>0</td>\n",
       "    </tr>\n",
       "    <tr>\n",
       "      <th>New York Zip Codes</th>\n",
       "      <td>float64</td>\n",
       "      <td>1238501</td>\n",
       "    </tr>\n",
       "  </tbody>\n",
       "</table>\n",
       "</div>"
      ],
      "text/plain": [
       "                            dtype  missing_values\n",
       "transit_timestamp          object               0\n",
       "transit_mode               object               0\n",
       "station_complex_id         object               0\n",
       "station_complex            object               0\n",
       "borough                    object               0\n",
       "payment_method             object               0\n",
       "fare_class_category        object               0\n",
       "ridership                   int64               0\n",
       "transfers                   int64               0\n",
       "latitude                  float64               0\n",
       "longitude                 float64               0\n",
       "Georeference               object               0\n",
       "Counties                    int64               0\n",
       "NYS Municipal Boundaries    int64               0\n",
       "New York Zip Codes        float64         1238501"
      ]
     },
     "execution_count": 4,
     "metadata": {},
     "output_type": "execute_result"
    }
   ],
   "source": [
    "dtype_info = df.dtypes\n",
    "missing_values_info = df.isna().sum()\n",
    "\n",
    "info_table = pd.DataFrame({\n",
    "    'dtype': dtype_info,\n",
    "    'missing_values': missing_values_info\n",
    "})\n",
    "\n",
    "info_table"
   ]
  },
  {
   "cell_type": "code",
   "execution_count": 5,
   "id": "904c5d05",
   "metadata": {
    "ExecuteTime": {
     "end_time": "2024-07-09T11:48:45.901077Z",
     "start_time": "2024-07-09T11:48:37.867185Z"
    }
   },
   "outputs": [
    {
     "name": "stdout",
     "output_type": "stream",
     "text": [
      "Number of duplicate rows before duplicates dropped: 0\n"
     ]
    }
   ],
   "source": [
    "# Check for duplicate rows\n",
    "print('Number of duplicate rows before duplicates dropped:', df.duplicated().sum())"
   ]
  },
  {
   "cell_type": "markdown",
   "id": "7c17276a",
   "metadata": {},
   "source": [
    "**Separate datetime**"
   ]
  },
  {
   "cell_type": "code",
   "execution_count": 6,
   "id": "31e1b7b5",
   "metadata": {
    "ExecuteTime": {
     "end_time": "2024-07-09T11:49:07.587030Z",
     "start_time": "2024-07-09T11:48:45.902568Z"
    }
   },
   "outputs": [],
   "source": [
    "df['transit_timestamp'] = pd.to_datetime(df['transit_timestamp'])"
   ]
  },
  {
   "cell_type": "code",
   "execution_count": 7,
   "id": "d97ed119",
   "metadata": {
    "ExecuteTime": {
     "end_time": "2024-07-09T11:49:11.604828Z",
     "start_time": "2024-07-09T11:49:07.587754Z"
    }
   },
   "outputs": [],
   "source": [
    "df['day'] = df['transit_timestamp'].dt.dayofweek\n",
    "df['month'] = df['transit_timestamp'].dt.month\n",
    "df['year'] = df['transit_timestamp'].dt.year\n",
    "df['hour'] = df['transit_timestamp'].dt.hour\n",
    "\n",
    "df.drop(columns=['transit_timestamp'], inplace=True)"
   ]
  },
  {
   "cell_type": "code",
   "execution_count": 8,
   "id": "0cf7cd40",
   "metadata": {
    "ExecuteTime": {
     "end_time": "2024-07-09T11:49:11.786171Z",
     "start_time": "2024-07-09T11:49:11.606627Z"
    }
   },
   "outputs": [
    {
     "name": "stdout",
     "output_type": "stream",
     "text": [
      "{'day': [0, 1, 2, 3, 4, 5, 6], 'month': [1, 2, 3, 4, 5, 6, 7, 8, 9, 10, 11, 12], 'year': [2022, 2023, 2024], 'hour': [0, 1, 2, 3, 4, 5, 6, 7, 8, 9, 10, 11, 12, 13, 14, 15, 16, 17, 18, 19, 20, 21, 22, 23]}\n"
     ]
    }
   ],
   "source": [
    "unique_values = {\n",
    "    'day': sorted(df['day'].unique()),\n",
    "    'month': sorted(df['month'].unique()),\n",
    "    'year': sorted(df['year'].unique()),\n",
    "    'hour': sorted(df['hour'].unique())\n",
    "}\n",
    "\n",
    "print(unique_values)"
   ]
  },
  {
   "cell_type": "markdown",
   "id": "fd0e0631",
   "metadata": {},
   "source": [
    "**Remove features**"
   ]
  },
  {
   "cell_type": "code",
   "execution_count": 9,
   "id": "ea53769e",
   "metadata": {
    "ExecuteTime": {
     "end_time": "2024-07-09T11:49:12.536093Z",
     "start_time": "2024-07-09T11:49:11.786895Z"
    }
   },
   "outputs": [],
   "source": [
    "df.drop(columns=['transit_mode', 'borough', 'payment_method', 'fare_class_category', 'transfers', 'Georeference', 'Counties', 'NYS Municipal Boundaries', 'New York Zip Codes'], inplace=True)"
   ]
  },
  {
   "cell_type": "markdown",
   "id": "27aeeb89",
   "metadata": {},
   "source": [
    "**Station Complex data**  \n",
    "Unique lat and lon values are different to number of stations"
   ]
  },
  {
   "cell_type": "code",
   "execution_count": 10,
   "id": "b2a39095",
   "metadata": {
    "ExecuteTime": {
     "end_time": "2024-07-09T11:49:13.376088Z",
     "start_time": "2024-07-09T11:49:12.538175Z"
    }
   },
   "outputs": [
    {
     "name": "stdout",
     "output_type": "stream",
     "text": [
      "123 123\n",
      "293 294\n"
     ]
    }
   ],
   "source": [
    "nunique_station_id = df['station_complex_id'].nunique()\n",
    "nunique_station_id = df['station_complex'].nunique()\n",
    "\n",
    "nunique_lat = df['latitude'].nunique()\n",
    "nunique_lon = df['longitude'].nunique()\n",
    "\n",
    "print(nunique_station_id, nunique_station_id)\n",
    "print(nunique_lat, nunique_lon)"
   ]
  },
  {
   "cell_type": "markdown",
   "id": "5fb6a882",
   "metadata": {},
   "source": [
    "**Check case where different values**"
   ]
  },
  {
   "cell_type": "code",
   "execution_count": 11,
   "id": "74dcfbbc",
   "metadata": {
    "ExecuteTime": {
     "end_time": "2024-07-09T11:49:13.856300Z",
     "start_time": "2024-07-09T11:49:13.376692Z"
    },
    "scrolled": true
   },
   "outputs": [
    {
     "name": "stdout",
     "output_type": "stream",
     "text": [
      "2 [-73.98133    -73.98133087]\n",
      "2 [40.758663   40.75866318]\n"
     ]
    }
   ],
   "source": [
    "df_complex = df[df['station_complex_id'] == '225']\n",
    "\n",
    "nunique_lon_rock = df_complex['longitude'].nunique()\n",
    "unique_lon_rock = df_complex['longitude'].unique()\n",
    "\n",
    "nunique_lat_rock = df_complex['latitude'].nunique()\n",
    "unique_lat_rock = df_complex['latitude'].unique()\n",
    "\n",
    "print(nunique_lon_rock, unique_lon_rock)\n",
    "print(nunique_lat_rock, unique_lat_rock)"
   ]
  },
  {
   "cell_type": "markdown",
   "id": "7cf1bd68",
   "metadata": {},
   "source": [
    "**First round on df_complex dataset to analyse result**"
   ]
  },
  {
   "cell_type": "code",
   "execution_count": 12,
   "id": "9874456a",
   "metadata": {
    "ExecuteTime": {
     "end_time": "2024-07-09T11:49:13.866051Z",
     "start_time": "2024-07-09T11:49:13.856994Z"
    }
   },
   "outputs": [
    {
     "name": "stdout",
     "output_type": "stream",
     "text": [
      "1 [-73.98133]\n",
      "1 [40.75866]\n"
     ]
    }
   ],
   "source": [
    "df_complex.loc[:, 'latitude'] = df_complex['latitude'].round(5)\n",
    "df_complex.loc[:, 'longitude'] = df_complex['longitude'].round(5)\n",
    "\n",
    "nunique_lon_rock = df_complex['longitude'].nunique()\n",
    "unique_lon_rock = df_complex['longitude'].unique()\n",
    "\n",
    "nunique_lat_rock = df_complex['latitude'].nunique()\n",
    "unique_lat_rock = df_complex['latitude'].unique()\n",
    "\n",
    "print(nunique_lon_rock, unique_lon_rock)\n",
    "print(nunique_lat_rock, unique_lat_rock)"
   ]
  },
  {
   "cell_type": "markdown",
   "id": "a91c8232",
   "metadata": {},
   "source": [
    "**Apply to main df**  \n",
    "More Latitude values than Longitude, both higher value than number of station complexes"
   ]
  },
  {
   "cell_type": "code",
   "execution_count": 13,
   "id": "cba455c9",
   "metadata": {
    "ExecuteTime": {
     "end_time": "2024-07-09T11:49:14.059600Z",
     "start_time": "2024-07-09T11:49:13.866649Z"
    }
   },
   "outputs": [
    {
     "name": "stdout",
     "output_type": "stream",
     "text": [
      "155 150\n"
     ]
    }
   ],
   "source": [
    "df.loc[:, 'latitude'] = df['latitude'].round(5)\n",
    "df.loc[:, 'longitude'] = df['longitude'].round(5)\n",
    "\n",
    "nunique_lat = df['latitude'].nunique()\n",
    "nunique_lon = df['longitude'].nunique()\n",
    "print(nunique_lat, nunique_lon)"
   ]
  },
  {
   "cell_type": "markdown",
   "id": "20428ef7",
   "metadata": {},
   "source": [
    "**View stations with multiple lat or lon values**"
   ]
  },
  {
   "cell_type": "code",
   "execution_count": 14,
   "id": "65171e2f",
   "metadata": {
    "ExecuteTime": {
     "end_time": "2024-07-09T11:50:07.450830Z",
     "start_time": "2024-07-09T11:49:14.060321Z"
    },
    "scrolled": false
   },
   "outputs": [
    {
     "name": "stdout",
     "output_type": "stream",
     "text": [
      "East Broadway (F): Latitude: [40.71371 40.71372]\n",
      "East Broadway (F): Longitude: [-73.99017]\n",
      "\n",
      "\n",
      "28 St (1): Latitude: [40.74721 40.74722]\n",
      "28 St (1): Longitude: [-73.99336]\n",
      "\n",
      "\n",
      "28 St (R,W): Latitude: [40.7455  40.74549]\n",
      "28 St (R,W): Longitude: [-73.98869]\n",
      "\n",
      "\n",
      "Broad St (J,Z): Latitude: [40.70647]\n",
      "Broad St (J,Z): Longitude: [-74.01106 -74.01105]\n",
      "\n",
      "\n",
      "Fulton St (A,C,J,Z,2,3,4,5): Latitude: [40.71037 40.7102  40.70942]\n",
      "Fulton St (A,C,J,Z,2,3,4,5): Longitude: [-74.00657 -74.00769 -74.00758 -74.00951]\n",
      "\n",
      "\n",
      "168 St (A,C,1): Latitude: [40.84072 40.84056]\n",
      "168 St (A,C,1): Longitude: [-73.93956 -73.94013]\n",
      "\n",
      "\n",
      "Canal St (1): Latitude: [40.72286 40.72285]\n",
      "Canal St (1): Longitude: [-74.00628]\n",
      "\n",
      "\n",
      "Bryant Pk (B,D,F,M)/5 Av (7): Latitude: [40.75422 40.75382]\n",
      "Bryant Pk (B,D,F,M)/5 Av (7): Longitude: [-73.98196 -73.98457]\n",
      "\n",
      "\n",
      "RI Tramway (Roosevelt): Latitude: [40.75734]\n",
      "RI Tramway (Roosevelt): Longitude: [-73.95412 -73.95411]\n",
      "\n",
      "\n",
      "Canal St (J,N,Q,R,W,Z,6): Latitude: [40.71953 40.71809 40.7188 ]\n",
      "Canal St (J,N,Q,R,W,Z,6): Longitude: [-73.99989 -74.00178 -74.00019]\n",
      "\n",
      "\n",
      "50 St (C,E): Latitude: [40.76246 40.76245]\n",
      "50 St (C,E): Longitude: [-73.98598]\n",
      "\n",
      "\n",
      "Canal St (A,C,E): Latitude: [40.72082 40.72083]\n",
      "Canal St (A,C,E): Longitude: [-74.00523]\n",
      "\n",
      "\n",
      "125 St (2,3): Latitude: [40.80776 40.80775]\n",
      "125 St (2,3): Longitude: [-73.9455]\n",
      "\n",
      "\n",
      "14 St-Union Sq (L,N,Q,R,W,4,5,6): Latitude: [40.73467 40.73574]\n",
      "14 St-Union Sq (L,N,Q,R,W,4,5,6): Longitude: [-73.98995 -73.99057]\n",
      "\n",
      "\n",
      "14 St (F,M,1,2,3)/6 Av (L): Latitude: [40.73823 40.73783 40.73734]\n",
      "14 St (F,M,1,2,3)/6 Av (L): Longitude: [-73.99621 -74.0002  -73.99679]\n",
      "\n",
      "\n",
      "14 St (A,C,E)/8 Av (L): Latitude: [40.74089 40.73978]\n",
      "14 St (A,C,E)/8 Av (L): Longitude: [-74.00169 -74.00258]\n",
      "\n",
      "\n",
      "34 St-Herald Sq (B,D,F,M,N,Q,R,W): Latitude: [40.74972 40.74957 40.74956]\n",
      "34 St-Herald Sq (B,D,F,M,N,Q,R,W): Longitude: [-73.98782 -73.98795]\n",
      "\n",
      "\n",
      "Times Sq-42 St (N,Q,R,W,S,1,2,3,7)/42 St (A,C,E): Latitude: [40.75731 40.75529 40.75467]\n",
      "Times Sq-42 St (N,Q,R,W,S,1,2,3,7)/42 St (A,C,E): Longitude: [-73.98676 -73.9875  -73.98974]\n",
      "\n",
      "\n",
      "Lexington Av (N,R,W)/59 St (4,5,6): Latitude: [40.76266 40.76253]\n",
      "Lexington Av (N,R,W)/59 St (4,5,6): Longitude: [-73.96725 -73.96796]\n",
      "\n",
      "\n",
      "Lexington Av-53 St (E,M)/51 St (6): Latitude: [40.75755 40.75711]\n",
      "Lexington Av-53 St (E,M)/51 St (6): Longitude: [-73.96906 -73.97192]\n",
      "\n",
      "\n",
      "59 St-Columbus Circle (A,B,C,D,1): Latitude: [40.7683  40.76825]\n",
      "59 St-Columbus Circle (A,B,C,D,1): Longitude: [-73.98174 -73.98193]\n",
      "\n",
      "\n",
      "Broadway-Lafayette St (B,D,F,M)/Bleecker St (6): Latitude: [40.72591 40.7253 ]\n",
      "Broadway-Lafayette St (B,D,F,M)/Bleecker St (6): Longitude: [-73.99466 -73.9962 ]\n",
      "\n",
      "\n",
      "Delancey St (F)/Essex St (J,M,Z): Latitude: [40.71861 40.71832 40.71831]\n",
      "Delancey St (F)/Essex St (J,M,Z): Longitude: [-73.98811 -73.98743]\n",
      "\n",
      "\n",
      "Chambers St (A,C)/WTC (E)/Park Pl (2,3)/Cortlandt (R,W): Latitude: [40.71411 40.71258 40.71305 40.71067]\n",
      "Chambers St (A,C)/WTC (E)/Park Pl (2,3)/Cortlandt (R,W): Longitude: [-74.00858 -74.00978 -74.00881 -74.01103]\n",
      "\n",
      "\n",
      "South Ferry (1)/Whitehall St (R,W): Latitude: [40.70309 40.70207]\n",
      "South Ferry (1)/Whitehall St (R,W): Longitude: [-74.01299 -74.01366]\n",
      "\n",
      "\n",
      "81 St-Museum of Natural History (C,B): Latitude: [40.78143]\n",
      "81 St-Museum of Natural History (C,B): Longitude: [-73.97214 -73.97215]\n",
      "\n",
      "\n",
      "Brooklyn Bridge-City Hall (4,5,6)/Chambers St (J,Z): Latitude: [40.71324 40.71307]\n",
      "Brooklyn Bridge-City Hall (4,5,6)/Chambers St (J,Z): Longitude: [-74.0034  -74.00413]\n",
      "\n",
      "\n"
     ]
    }
   ],
   "source": [
    "unique_complexes = df['station_complex'].unique()\n",
    "\n",
    "for complex_name in unique_complexes:\n",
    "    complex_df = df[df['station_complex'] == complex_name]\n",
    "    \n",
    "    unique_latitudes = complex_df['latitude'].nunique()\n",
    "    unique_longitudes = complex_df['longitude'].nunique()\n",
    "    \n",
    "    if unique_latitudes > 1 or unique_longitudes > 1:\n",
    "        unique_latitude_values = complex_df['latitude'].unique()\n",
    "        unique_longitudes_values = complex_df['longitude'].unique()\n",
    "        \n",
    "        print(f'{complex_name}: Latitude: {unique_latitude_values}')\n",
    "        print(f'{complex_name}: Longitude: {unique_longitudes_values}')\n",
    "        print('\\n')\n"
   ]
  },
  {
   "cell_type": "markdown",
   "id": "6182bb28",
   "metadata": {},
   "source": [
    "**Multiple entries likely due to different entrances/exits to subway complex. Will take mode coordinates**"
   ]
  },
  {
   "cell_type": "code",
   "execution_count": 16,
   "id": "1d57f0ef",
   "metadata": {
    "ExecuteTime": {
     "end_time": "2024-07-09T12:05:23.941838Z",
     "start_time": "2024-07-09T12:02:43.737435Z"
    }
   },
   "outputs": [],
   "source": [
    "for complex_name in unique_complexes:\n",
    "    complex_df = df[df['station_complex'] == complex_name]\n",
    "    \n",
    "    most_common_lat = complex_df['latitude'].mode()[0]\n",
    "    most_common_lon = complex_df['longitude'].mode()[0]\n",
    "    \n",
    "    df.loc[df['station_complex'] == complex_name, 'latitude'] = most_common_lat\n",
    "    df.loc[df['station_complex'] == complex_name, 'longitude'] = most_common_lon\n",
    "    "
   ]
  },
  {
   "cell_type": "code",
   "execution_count": 17,
   "id": "c0f9eee2",
   "metadata": {
    "ExecuteTime": {
     "end_time": "2024-07-09T12:06:06.090910Z",
     "start_time": "2024-07-09T12:05:39.980222Z"
    }
   },
   "outputs": [],
   "source": [
    "df.to_csv('Clean_Subway_Data.csv', index=False)"
   ]
  },
  {
   "cell_type": "code",
   "execution_count": 18,
   "id": "b43c6adf",
   "metadata": {
    "ExecuteTime": {
     "end_time": "2024-07-09T12:06:20.845297Z",
     "start_time": "2024-07-09T12:06:14.349532Z"
    }
   },
   "outputs": [
    {
     "name": "stderr",
     "output_type": "stream",
     "text": [
      "/var/folders/8v/myv9ql5d1lg4ct7vbb0zh8000000gn/T/ipykernel_27479/15168158.py:1: DtypeWarning: Columns (0) have mixed types. Specify dtype option on import or set low_memory=False.\n",
      "  df = pd.read_csv('Clean_Subway_Data.csv')\n"
     ]
    }
   ],
   "source": [
    "df = pd.read_csv('Clean_Subway_Data.csv')"
   ]
  },
  {
   "cell_type": "code",
   "execution_count": 19,
   "id": "5d452f81",
   "metadata": {
    "ExecuteTime": {
     "end_time": "2024-07-09T12:06:20.853408Z",
     "start_time": "2024-07-09T12:06:20.847765Z"
    }
   },
   "outputs": [
    {
     "data": {
      "text/plain": [
       "station_complex_id     object\n",
       "station_complex        object\n",
       "ridership               int64\n",
       "latitude              float64\n",
       "longitude             float64\n",
       "day                     int64\n",
       "month                   int64\n",
       "year                    int64\n",
       "hour                    int64\n",
       "dtype: object"
      ]
     },
     "execution_count": 19,
     "metadata": {},
     "output_type": "execute_result"
    }
   ],
   "source": [
    "df.dtypes"
   ]
  },
  {
   "cell_type": "code",
   "execution_count": 20,
   "id": "a2866f4c",
   "metadata": {
    "ExecuteTime": {
     "end_time": "2024-07-09T12:06:21.285380Z",
     "start_time": "2024-07-09T12:06:20.853994Z"
    }
   },
   "outputs": [],
   "source": [
    "df.drop(columns=['station_complex'], inplace=True)"
   ]
  },
  {
   "cell_type": "code",
   "execution_count": 21,
   "id": "119901fc",
   "metadata": {
    "ExecuteTime": {
     "end_time": "2024-07-09T12:06:21.289837Z",
     "start_time": "2024-07-09T12:06:21.286222Z"
    }
   },
   "outputs": [
    {
     "data": {
      "text/html": [
       "<div>\n",
       "<style scoped>\n",
       "    .dataframe tbody tr th:only-of-type {\n",
       "        vertical-align: middle;\n",
       "    }\n",
       "\n",
       "    .dataframe tbody tr th {\n",
       "        vertical-align: top;\n",
       "    }\n",
       "\n",
       "    .dataframe thead th {\n",
       "        text-align: right;\n",
       "    }\n",
       "</style>\n",
       "<table border=\"1\" class=\"dataframe\">\n",
       "  <thead>\n",
       "    <tr style=\"text-align: right;\">\n",
       "      <th></th>\n",
       "      <th>station_complex_id</th>\n",
       "      <th>ridership</th>\n",
       "      <th>latitude</th>\n",
       "      <th>longitude</th>\n",
       "      <th>day</th>\n",
       "      <th>month</th>\n",
       "      <th>year</th>\n",
       "      <th>hour</th>\n",
       "    </tr>\n",
       "  </thead>\n",
       "  <tbody>\n",
       "    <tr>\n",
       "      <th>0</th>\n",
       "      <td>225</td>\n",
       "      <td>2</td>\n",
       "      <td>40.75866</td>\n",
       "      <td>-73.98133</td>\n",
       "      <td>3</td>\n",
       "      <td>12</td>\n",
       "      <td>2022</td>\n",
       "      <td>6</td>\n",
       "    </tr>\n",
       "    <tr>\n",
       "      <th>1</th>\n",
       "      <td>225</td>\n",
       "      <td>59</td>\n",
       "      <td>40.75866</td>\n",
       "      <td>-73.98133</td>\n",
       "      <td>3</td>\n",
       "      <td>6</td>\n",
       "      <td>2022</td>\n",
       "      <td>1</td>\n",
       "    </tr>\n",
       "    <tr>\n",
       "      <th>2</th>\n",
       "      <td>225</td>\n",
       "      <td>21</td>\n",
       "      <td>40.75866</td>\n",
       "      <td>-73.98133</td>\n",
       "      <td>6</td>\n",
       "      <td>4</td>\n",
       "      <td>2022</td>\n",
       "      <td>17</td>\n",
       "    </tr>\n",
       "    <tr>\n",
       "      <th>3</th>\n",
       "      <td>225</td>\n",
       "      <td>744</td>\n",
       "      <td>40.75866</td>\n",
       "      <td>-73.98133</td>\n",
       "      <td>2</td>\n",
       "      <td>4</td>\n",
       "      <td>2022</td>\n",
       "      <td>19</td>\n",
       "    </tr>\n",
       "    <tr>\n",
       "      <th>4</th>\n",
       "      <td>225</td>\n",
       "      <td>85</td>\n",
       "      <td>40.75866</td>\n",
       "      <td>-73.98133</td>\n",
       "      <td>5</td>\n",
       "      <td>12</td>\n",
       "      <td>2022</td>\n",
       "      <td>17</td>\n",
       "    </tr>\n",
       "  </tbody>\n",
       "</table>\n",
       "</div>"
      ],
      "text/plain": [
       "  station_complex_id  ridership  latitude  longitude  day  month  year  hour\n",
       "0                225          2  40.75866  -73.98133    3     12  2022     6\n",
       "1                225         59  40.75866  -73.98133    3      6  2022     1\n",
       "2                225         21  40.75866  -73.98133    6      4  2022    17\n",
       "3                225        744  40.75866  -73.98133    2      4  2022    19\n",
       "4                225         85  40.75866  -73.98133    5     12  2022    17"
      ]
     },
     "execution_count": 21,
     "metadata": {},
     "output_type": "execute_result"
    }
   ],
   "source": [
    "df.head()"
   ]
  },
  {
   "cell_type": "code",
   "execution_count": 22,
   "id": "cef94b35",
   "metadata": {
    "ExecuteTime": {
     "end_time": "2024-07-09T12:06:21.294677Z",
     "start_time": "2024-07-09T12:06:21.291123Z"
    }
   },
   "outputs": [
    {
     "data": {
      "text/html": [
       "<div>\n",
       "<style scoped>\n",
       "    .dataframe tbody tr th:only-of-type {\n",
       "        vertical-align: middle;\n",
       "    }\n",
       "\n",
       "    .dataframe tbody tr th {\n",
       "        vertical-align: top;\n",
       "    }\n",
       "\n",
       "    .dataframe thead th {\n",
       "        text-align: right;\n",
       "    }\n",
       "</style>\n",
       "<table border=\"1\" class=\"dataframe\">\n",
       "  <thead>\n",
       "    <tr style=\"text-align: right;\">\n",
       "      <th></th>\n",
       "      <th>station_complex_id</th>\n",
       "      <th>ridership</th>\n",
       "      <th>latitude</th>\n",
       "      <th>longitude</th>\n",
       "      <th>day</th>\n",
       "      <th>month</th>\n",
       "      <th>year</th>\n",
       "      <th>hour</th>\n",
       "    </tr>\n",
       "  </thead>\n",
       "  <tbody>\n",
       "    <tr>\n",
       "      <th>0</th>\n",
       "      <td>225</td>\n",
       "      <td>2</td>\n",
       "      <td>40.75866</td>\n",
       "      <td>-73.98133</td>\n",
       "      <td>3</td>\n",
       "      <td>12</td>\n",
       "      <td>2022</td>\n",
       "      <td>6</td>\n",
       "    </tr>\n",
       "    <tr>\n",
       "      <th>1</th>\n",
       "      <td>225</td>\n",
       "      <td>59</td>\n",
       "      <td>40.75866</td>\n",
       "      <td>-73.98133</td>\n",
       "      <td>3</td>\n",
       "      <td>6</td>\n",
       "      <td>2022</td>\n",
       "      <td>1</td>\n",
       "    </tr>\n",
       "    <tr>\n",
       "      <th>2</th>\n",
       "      <td>225</td>\n",
       "      <td>21</td>\n",
       "      <td>40.75866</td>\n",
       "      <td>-73.98133</td>\n",
       "      <td>6</td>\n",
       "      <td>4</td>\n",
       "      <td>2022</td>\n",
       "      <td>17</td>\n",
       "    </tr>\n",
       "    <tr>\n",
       "      <th>3</th>\n",
       "      <td>225</td>\n",
       "      <td>744</td>\n",
       "      <td>40.75866</td>\n",
       "      <td>-73.98133</td>\n",
       "      <td>2</td>\n",
       "      <td>4</td>\n",
       "      <td>2022</td>\n",
       "      <td>19</td>\n",
       "    </tr>\n",
       "    <tr>\n",
       "      <th>4</th>\n",
       "      <td>225</td>\n",
       "      <td>85</td>\n",
       "      <td>40.75866</td>\n",
       "      <td>-73.98133</td>\n",
       "      <td>5</td>\n",
       "      <td>12</td>\n",
       "      <td>2022</td>\n",
       "      <td>17</td>\n",
       "    </tr>\n",
       "    <tr>\n",
       "      <th>...</th>\n",
       "      <td>...</td>\n",
       "      <td>...</td>\n",
       "      <td>...</td>\n",
       "      <td>...</td>\n",
       "      <td>...</td>\n",
       "      <td>...</td>\n",
       "      <td>...</td>\n",
       "      <td>...</td>\n",
       "    </tr>\n",
       "    <tr>\n",
       "      <th>18116705</th>\n",
       "      <td>314</td>\n",
       "      <td>70</td>\n",
       "      <td>40.77344</td>\n",
       "      <td>-73.98221</td>\n",
       "      <td>5</td>\n",
       "      <td>6</td>\n",
       "      <td>2024</td>\n",
       "      <td>21</td>\n",
       "    </tr>\n",
       "    <tr>\n",
       "      <th>18116706</th>\n",
       "      <td>225</td>\n",
       "      <td>25</td>\n",
       "      <td>40.75866</td>\n",
       "      <td>-73.98133</td>\n",
       "      <td>5</td>\n",
       "      <td>6</td>\n",
       "      <td>2024</td>\n",
       "      <td>13</td>\n",
       "    </tr>\n",
       "    <tr>\n",
       "      <th>18116707</th>\n",
       "      <td>477</td>\n",
       "      <td>39</td>\n",
       "      <td>40.76880</td>\n",
       "      <td>-73.95843</td>\n",
       "      <td>5</td>\n",
       "      <td>6</td>\n",
       "      <td>2024</td>\n",
       "      <td>17</td>\n",
       "    </tr>\n",
       "    <tr>\n",
       "      <th>18116708</th>\n",
       "      <td>404</td>\n",
       "      <td>173</td>\n",
       "      <td>40.74307</td>\n",
       "      <td>-73.98426</td>\n",
       "      <td>5</td>\n",
       "      <td>6</td>\n",
       "      <td>2024</td>\n",
       "      <td>9</td>\n",
       "    </tr>\n",
       "    <tr>\n",
       "      <th>18116709</th>\n",
       "      <td>169</td>\n",
       "      <td>13</td>\n",
       "      <td>40.72083</td>\n",
       "      <td>-74.00523</td>\n",
       "      <td>5</td>\n",
       "      <td>6</td>\n",
       "      <td>2024</td>\n",
       "      <td>1</td>\n",
       "    </tr>\n",
       "  </tbody>\n",
       "</table>\n",
       "<p>18116710 rows × 8 columns</p>\n",
       "</div>"
      ],
      "text/plain": [
       "         station_complex_id  ridership  latitude  longitude  day  month  year  \\\n",
       "0                       225          2  40.75866  -73.98133    3     12  2022   \n",
       "1                       225         59  40.75866  -73.98133    3      6  2022   \n",
       "2                       225         21  40.75866  -73.98133    6      4  2022   \n",
       "3                       225        744  40.75866  -73.98133    2      4  2022   \n",
       "4                       225         85  40.75866  -73.98133    5     12  2022   \n",
       "...                     ...        ...       ...        ...  ...    ...   ...   \n",
       "18116705                314         70  40.77344  -73.98221    5      6  2024   \n",
       "18116706                225         25  40.75866  -73.98133    5      6  2024   \n",
       "18116707                477         39  40.76880  -73.95843    5      6  2024   \n",
       "18116708                404        173  40.74307  -73.98426    5      6  2024   \n",
       "18116709                169         13  40.72083  -74.00523    5      6  2024   \n",
       "\n",
       "          hour  \n",
       "0            6  \n",
       "1            1  \n",
       "2           17  \n",
       "3           19  \n",
       "4           17  \n",
       "...        ...  \n",
       "18116705    21  \n",
       "18116706    13  \n",
       "18116707    17  \n",
       "18116708     9  \n",
       "18116709     1  \n",
       "\n",
       "[18116710 rows x 8 columns]"
      ]
     },
     "execution_count": 22,
     "metadata": {},
     "output_type": "execute_result"
    }
   ],
   "source": [
    "df"
   ]
  },
  {
   "cell_type": "markdown",
   "id": "9f85caa2",
   "metadata": {},
   "source": [
    "**Group data by location and time**"
   ]
  },
  {
   "cell_type": "code",
   "execution_count": 23,
   "id": "1cac41e3",
   "metadata": {
    "ExecuteTime": {
     "end_time": "2024-07-09T12:06:23.082546Z",
     "start_time": "2024-07-09T12:06:21.295300Z"
    }
   },
   "outputs": [],
   "source": [
    "grouped_df = df.groupby(['station_complex_id', 'latitude', 'longitude', 'year', 'month', 'day', 'hour'], observed=False)['ridership'].sum().reset_index()"
   ]
  },
  {
   "cell_type": "code",
   "execution_count": 24,
   "id": "c9c93289",
   "metadata": {
    "ExecuteTime": {
     "end_time": "2024-07-09T12:06:23.087655Z",
     "start_time": "2024-07-09T12:06:23.083621Z"
    }
   },
   "outputs": [
    {
     "data": {
      "text/html": [
       "<div>\n",
       "<style scoped>\n",
       "    .dataframe tbody tr th:only-of-type {\n",
       "        vertical-align: middle;\n",
       "    }\n",
       "\n",
       "    .dataframe tbody tr th {\n",
       "        vertical-align: top;\n",
       "    }\n",
       "\n",
       "    .dataframe thead th {\n",
       "        text-align: right;\n",
       "    }\n",
       "</style>\n",
       "<table border=\"1\" class=\"dataframe\">\n",
       "  <thead>\n",
       "    <tr style=\"text-align: right;\">\n",
       "      <th></th>\n",
       "      <th>station_complex_id</th>\n",
       "      <th>latitude</th>\n",
       "      <th>longitude</th>\n",
       "      <th>year</th>\n",
       "      <th>month</th>\n",
       "      <th>day</th>\n",
       "      <th>hour</th>\n",
       "      <th>ridership</th>\n",
       "    </tr>\n",
       "  </thead>\n",
       "  <tbody>\n",
       "    <tr>\n",
       "      <th>0</th>\n",
       "      <td>8</td>\n",
       "      <td>40.76481</td>\n",
       "      <td>-73.97335</td>\n",
       "      <td>2022</td>\n",
       "      <td>2</td>\n",
       "      <td>0</td>\n",
       "      <td>0</td>\n",
       "      <td>97</td>\n",
       "    </tr>\n",
       "    <tr>\n",
       "      <th>1</th>\n",
       "      <td>8</td>\n",
       "      <td>40.76481</td>\n",
       "      <td>-73.97335</td>\n",
       "      <td>2022</td>\n",
       "      <td>2</td>\n",
       "      <td>0</td>\n",
       "      <td>1</td>\n",
       "      <td>31</td>\n",
       "    </tr>\n",
       "    <tr>\n",
       "      <th>2</th>\n",
       "      <td>8</td>\n",
       "      <td>40.76481</td>\n",
       "      <td>-73.97335</td>\n",
       "      <td>2022</td>\n",
       "      <td>2</td>\n",
       "      <td>0</td>\n",
       "      <td>2</td>\n",
       "      <td>8</td>\n",
       "    </tr>\n",
       "    <tr>\n",
       "      <th>3</th>\n",
       "      <td>8</td>\n",
       "      <td>40.76481</td>\n",
       "      <td>-73.97335</td>\n",
       "      <td>2022</td>\n",
       "      <td>2</td>\n",
       "      <td>0</td>\n",
       "      <td>3</td>\n",
       "      <td>9</td>\n",
       "    </tr>\n",
       "    <tr>\n",
       "      <th>4</th>\n",
       "      <td>8</td>\n",
       "      <td>40.76481</td>\n",
       "      <td>-73.97335</td>\n",
       "      <td>2022</td>\n",
       "      <td>2</td>\n",
       "      <td>0</td>\n",
       "      <td>4</td>\n",
       "      <td>8</td>\n",
       "    </tr>\n",
       "    <tr>\n",
       "      <th>...</th>\n",
       "      <td>...</td>\n",
       "      <td>...</td>\n",
       "      <td>...</td>\n",
       "      <td>...</td>\n",
       "      <td>...</td>\n",
       "      <td>...</td>\n",
       "      <td>...</td>\n",
       "      <td>...</td>\n",
       "    </tr>\n",
       "    <tr>\n",
       "      <th>634037</th>\n",
       "      <td>TRAM2</td>\n",
       "      <td>40.75734</td>\n",
       "      <td>-73.95411</td>\n",
       "      <td>2024</td>\n",
       "      <td>6</td>\n",
       "      <td>6</td>\n",
       "      <td>19</td>\n",
       "      <td>315</td>\n",
       "    </tr>\n",
       "    <tr>\n",
       "      <th>634038</th>\n",
       "      <td>TRAM2</td>\n",
       "      <td>40.75734</td>\n",
       "      <td>-73.95411</td>\n",
       "      <td>2024</td>\n",
       "      <td>6</td>\n",
       "      <td>6</td>\n",
       "      <td>20</td>\n",
       "      <td>278</td>\n",
       "    </tr>\n",
       "    <tr>\n",
       "      <th>634039</th>\n",
       "      <td>TRAM2</td>\n",
       "      <td>40.75734</td>\n",
       "      <td>-73.95411</td>\n",
       "      <td>2024</td>\n",
       "      <td>6</td>\n",
       "      <td>6</td>\n",
       "      <td>21</td>\n",
       "      <td>223</td>\n",
       "    </tr>\n",
       "    <tr>\n",
       "      <th>634040</th>\n",
       "      <td>TRAM2</td>\n",
       "      <td>40.75734</td>\n",
       "      <td>-73.95411</td>\n",
       "      <td>2024</td>\n",
       "      <td>6</td>\n",
       "      <td>6</td>\n",
       "      <td>22</td>\n",
       "      <td>111</td>\n",
       "    </tr>\n",
       "    <tr>\n",
       "      <th>634041</th>\n",
       "      <td>TRAM2</td>\n",
       "      <td>40.75734</td>\n",
       "      <td>-73.95411</td>\n",
       "      <td>2024</td>\n",
       "      <td>6</td>\n",
       "      <td>6</td>\n",
       "      <td>23</td>\n",
       "      <td>53</td>\n",
       "    </tr>\n",
       "  </tbody>\n",
       "</table>\n",
       "<p>634042 rows × 8 columns</p>\n",
       "</div>"
      ],
      "text/plain": [
       "       station_complex_id  latitude  longitude  year  month  day  hour  \\\n",
       "0                       8  40.76481  -73.97335  2022      2    0     0   \n",
       "1                       8  40.76481  -73.97335  2022      2    0     1   \n",
       "2                       8  40.76481  -73.97335  2022      2    0     2   \n",
       "3                       8  40.76481  -73.97335  2022      2    0     3   \n",
       "4                       8  40.76481  -73.97335  2022      2    0     4   \n",
       "...                   ...       ...        ...   ...    ...  ...   ...   \n",
       "634037              TRAM2  40.75734  -73.95411  2024      6    6    19   \n",
       "634038              TRAM2  40.75734  -73.95411  2024      6    6    20   \n",
       "634039              TRAM2  40.75734  -73.95411  2024      6    6    21   \n",
       "634040              TRAM2  40.75734  -73.95411  2024      6    6    22   \n",
       "634041              TRAM2  40.75734  -73.95411  2024      6    6    23   \n",
       "\n",
       "        ridership  \n",
       "0              97  \n",
       "1              31  \n",
       "2               8  \n",
       "3               9  \n",
       "4               8  \n",
       "...           ...  \n",
       "634037        315  \n",
       "634038        278  \n",
       "634039        223  \n",
       "634040        111  \n",
       "634041         53  \n",
       "\n",
       "[634042 rows x 8 columns]"
      ]
     },
     "execution_count": 24,
     "metadata": {},
     "output_type": "execute_result"
    }
   ],
   "source": [
    "grouped_df"
   ]
  },
  {
   "cell_type": "code",
   "execution_count": 25,
   "id": "2e9426de",
   "metadata": {
    "ExecuteTime": {
     "end_time": "2024-07-09T12:06:23.112598Z",
     "start_time": "2024-07-09T12:06:23.088390Z"
    }
   },
   "outputs": [],
   "source": [
    "grouped_df['station_complex_id'] = grouped_df['station_complex_id'].astype('category')\n",
    "grouped_df['latitude'] = grouped_df['latitude'].astype(float)\n",
    "grouped_df['longitude'] = grouped_df['longitude'].astype(float)\n",
    "grouped_df['year'] = grouped_df['year'].astype(int)\n",
    "grouped_df['month'] = grouped_df['month'].astype(int)\n",
    "grouped_df['day'] = grouped_df['day'].astype(int)\n",
    "grouped_df['hour'] = grouped_df['hour'].astype(int)\n",
    "grouped_df['ridership'] = grouped_df['ridership'].astype(float)"
   ]
  },
  {
   "cell_type": "markdown",
   "id": "7572f47d",
   "metadata": {},
   "source": [
    "**Final data checks**"
   ]
  },
  {
   "cell_type": "code",
   "execution_count": 26,
   "id": "d92a116d",
   "metadata": {
    "ExecuteTime": {
     "end_time": "2024-07-09T12:06:23.155303Z",
     "start_time": "2024-07-09T12:06:23.113377Z"
    }
   },
   "outputs": [
    {
     "name": "stdout",
     "output_type": "stream",
     "text": [
      "Number of duplicate rows: 0\n",
      "Number of missing values:\n",
      " station_complex_id    0\n",
      "latitude              0\n",
      "longitude             0\n",
      "year                  0\n",
      "month                 0\n",
      "day                   0\n",
      "hour                  0\n",
      "ridership             0\n",
      "dtype: int64\n"
     ]
    }
   ],
   "source": [
    "print('Number of duplicate rows:', grouped_df.duplicated().sum())\n",
    "print('Number of missing values:\\n', grouped_df.isna().sum())"
   ]
  },
  {
   "cell_type": "code",
   "execution_count": 27,
   "id": "09c76961",
   "metadata": {
    "ExecuteTime": {
     "end_time": "2024-07-09T12:06:23.157278Z",
     "start_time": "2024-07-09T12:06:23.156012Z"
    }
   },
   "outputs": [],
   "source": [
    "datetime_features = ['day', 'month', 'year', 'hour']"
   ]
  },
  {
   "cell_type": "markdown",
   "id": "07b9f34c",
   "metadata": {},
   "source": [
    "**Counts**"
   ]
  },
  {
   "cell_type": "code",
   "execution_count": 28,
   "id": "30478568",
   "metadata": {
    "ExecuteTime": {
     "end_time": "2024-07-09T12:06:23.186688Z",
     "start_time": "2024-07-09T12:06:23.157961Z"
    }
   },
   "outputs": [
    {
     "name": "stdout",
     "output_type": "stream",
     "text": [
      "Counts for day:\n",
      "day\n",
      "0    203497290.0\n",
      "1    241521888.0\n",
      "2    248983252.0\n",
      "3    246685097.0\n",
      "4    221230825.0\n",
      "5    156158811.0\n",
      "6    125026494.0\n",
      "Name: ridership, dtype: float64\n",
      "\n",
      "Counts for month:\n",
      "month\n",
      "1     100174704.0\n",
      "2     130586002.0\n",
      "3     158102621.0\n",
      "4     154309254.0\n",
      "5     164457401.0\n",
      "6     113306734.0\n",
      "7      95388865.0\n",
      "8      98269519.0\n",
      "9     103559185.0\n",
      "10    111799118.0\n",
      "11    106269536.0\n",
      "12    106880718.0\n",
      "Name: ridership, dtype: float64\n",
      "\n",
      "Counts for year:\n",
      "year\n",
      "2022    512608116.0\n",
      "2023    643210369.0\n",
      "2024    287285172.0\n",
      "Name: ridership, dtype: float64\n",
      "\n",
      "Counts for hour:\n",
      "hour\n",
      "0      16358088.0\n",
      "1       6771575.0\n",
      "2       3572470.0\n",
      "3       2321788.0\n",
      "4       2929533.0\n",
      "5       8949821.0\n",
      "6      25045875.0\n",
      "7      56815020.0\n",
      "8      85335874.0\n",
      "9      64883480.0\n",
      "10     53372521.0\n",
      "11     57044567.0\n",
      "12     65341584.0\n",
      "13     73256672.0\n",
      "14     89245347.0\n",
      "15    114522413.0\n",
      "16    137326515.0\n",
      "17    167489271.0\n",
      "18    132438732.0\n",
      "19     87757152.0\n",
      "20     64195215.0\n",
      "21     52752165.0\n",
      "22     45101918.0\n",
      "23     30276061.0\n",
      "Name: ridership, dtype: float64\n",
      "\n"
     ]
    }
   ],
   "source": [
    "for feature in datetime_features:\n",
    "    counts = grouped_df.groupby(feature, observed=True)['ridership'].sum()\n",
    "    print(f\"Counts for {feature}:\")\n",
    "    print(counts)\n",
    "    print()"
   ]
  },
  {
   "cell_type": "code",
   "execution_count": 29,
   "id": "2423790e",
   "metadata": {
    "ExecuteTime": {
     "end_time": "2024-07-09T12:06:23.194748Z",
     "start_time": "2024-07-09T12:06:23.187281Z"
    }
   },
   "outputs": [
    {
     "name": "stderr",
     "output_type": "stream",
     "text": [
      "/var/folders/8v/myv9ql5d1lg4ct7vbb0zh8000000gn/T/ipykernel_27479/2033651073.py:1: FutureWarning: The default of observed=False is deprecated and will be changed to True in a future version of pandas. Pass observed=False to retain current behavior or observed=True to adopt the future default and silence this warning.\n",
      "  average_ridership = grouped_df.groupby('station_complex_id')['ridership'].mean().reset_index()\n"
     ]
    }
   ],
   "source": [
    "average_ridership = grouped_df.groupby('station_complex_id')['ridership'].mean().reset_index()"
   ]
  },
  {
   "cell_type": "code",
   "execution_count": 30,
   "id": "39bcaeab",
   "metadata": {
    "ExecuteTime": {
     "end_time": "2024-07-09T12:06:23.198652Z",
     "start_time": "2024-07-09T12:06:23.195302Z"
    }
   },
   "outputs": [
    {
     "data": {
      "text/html": [
       "<div>\n",
       "<style scoped>\n",
       "    .dataframe tbody tr th:only-of-type {\n",
       "        vertical-align: middle;\n",
       "    }\n",
       "\n",
       "    .dataframe tbody tr th {\n",
       "        vertical-align: top;\n",
       "    }\n",
       "\n",
       "    .dataframe thead th {\n",
       "        text-align: right;\n",
       "    }\n",
       "</style>\n",
       "<table border=\"1\" class=\"dataframe\">\n",
       "  <thead>\n",
       "    <tr style=\"text-align: right;\">\n",
       "      <th></th>\n",
       "      <th>station_complex_id</th>\n",
       "      <th>ridership</th>\n",
       "    </tr>\n",
       "  </thead>\n",
       "  <tbody>\n",
       "    <tr>\n",
       "      <th>0</th>\n",
       "      <td>8</td>\n",
       "      <td>1513.620485</td>\n",
       "    </tr>\n",
       "    <tr>\n",
       "      <th>1</th>\n",
       "      <td>9</td>\n",
       "      <td>142.480188</td>\n",
       "    </tr>\n",
       "    <tr>\n",
       "      <th>2</th>\n",
       "      <td>10</td>\n",
       "      <td>837.058697</td>\n",
       "    </tr>\n",
       "    <tr>\n",
       "      <th>3</th>\n",
       "      <td>13</td>\n",
       "      <td>1069.157980</td>\n",
       "    </tr>\n",
       "    <tr>\n",
       "      <th>4</th>\n",
       "      <td>14</td>\n",
       "      <td>1833.622509</td>\n",
       "    </tr>\n",
       "    <tr>\n",
       "      <th>...</th>\n",
       "      <td>...</td>\n",
       "      <td>...</td>\n",
       "    </tr>\n",
       "    <tr>\n",
       "      <th>239</th>\n",
       "      <td>635</td>\n",
       "      <td>2914.613333</td>\n",
       "    </tr>\n",
       "    <tr>\n",
       "      <th>240</th>\n",
       "      <td>8</td>\n",
       "      <td>1688.415472</td>\n",
       "    </tr>\n",
       "    <tr>\n",
       "      <th>241</th>\n",
       "      <td>9</td>\n",
       "      <td>3545.028053</td>\n",
       "    </tr>\n",
       "    <tr>\n",
       "      <th>242</th>\n",
       "      <td>TRAM1</td>\n",
       "      <td>748.358052</td>\n",
       "    </tr>\n",
       "    <tr>\n",
       "      <th>243</th>\n",
       "      <td>TRAM2</td>\n",
       "      <td>690.108299</td>\n",
       "    </tr>\n",
       "  </tbody>\n",
       "</table>\n",
       "<p>244 rows × 2 columns</p>\n",
       "</div>"
      ],
      "text/plain": [
       "    station_complex_id    ridership\n",
       "0                    8  1513.620485\n",
       "1                    9   142.480188\n",
       "2                   10   837.058697\n",
       "3                   13  1069.157980\n",
       "4                   14  1833.622509\n",
       "..                 ...          ...\n",
       "239                635  2914.613333\n",
       "240                  8  1688.415472\n",
       "241                  9  3545.028053\n",
       "242              TRAM1   748.358052\n",
       "243              TRAM2   690.108299\n",
       "\n",
       "[244 rows x 2 columns]"
      ]
     },
     "execution_count": 30,
     "metadata": {},
     "output_type": "execute_result"
    }
   ],
   "source": [
    "average_ridership"
   ]
  },
  {
   "cell_type": "code",
   "execution_count": 31,
   "id": "13247978",
   "metadata": {
    "ExecuteTime": {
     "end_time": "2024-07-09T12:06:23.296838Z",
     "start_time": "2024-07-09T12:06:23.200935Z"
    }
   },
   "outputs": [
    {
     "data": {
      "image/png": "[encoded data removed]",
      "text/plain": [
       "<Figure size 1000x600 with 1 Axes>"
      ]
     },
     "metadata": {},
     "output_type": "display_data"
    }
   ],
   "source": [
    "plt.figure(figsize=(10, 6))\n",
    "plt.boxplot(average_ridership['ridership'], labels=['Average Ridership'])\n",
    "plt.title('Boxplot of Average Ridership')\n",
    "plt.ylabel('Average Ridership')\n",
    "plt.grid(True)\n",
    "plt.show()"
   ]
  },
  {
   "cell_type": "markdown",
   "id": "ba29e732",
   "metadata": {},
   "source": [
    "**Correlation Plots**"
   ]
  },
  {
   "cell_type": "code",
   "execution_count": 32,
   "id": "9a4d96a1",
   "metadata": {
    "ExecuteTime": {
     "end_time": "2024-07-09T12:06:23.570793Z",
     "start_time": "2024-07-09T12:06:23.297469Z"
    },
    "scrolled": false
   },
   "outputs": [
    {
     "data": {
      "image/png": "[encoded data removed]",
      "text/plain": [
       "<Figure size 1600x600 with 1 Axes>"
      ]
     },
     "metadata": {},
     "output_type": "display_data"
    },
    {
     "data": {
      "image/png": "[encoded data removed]",
      "text/plain": [
       "<Figure size 1600x600 with 1 Axes>"
      ]
     },
     "metadata": {},
     "output_type": "display_data"
    },
    {
     "data": {
      "image/png": "[encoded data removed]",
      "text/plain": [
       "<Figure size 1600x600 with 1 Axes>"
      ]
     },
     "metadata": {},
     "output_type": "display_data"
    },
    {
     "data": {
      "image/png": "[encoded data removed]",
      "text/plain": [
       "<Figure size 1600x600 with 1 Axes>"
      ]
     },
     "metadata": {},
     "output_type": "display_data"
    }
   ],
   "source": [
    "for feature in datetime_features:\n",
    "    plt.figure(figsize=(16, 6))\n",
    "    counts = grouped_df.groupby(feature, observed=True)['ridership'].sum()\n",
    "    counts.plot(kind='bar', color='skyblue')\n",
    "    plt.title(f'Counts of ridership by {feature}')\n",
    "    plt.xlabel(feature)\n",
    "    plt.ylabel('Count')\n",
    "    plt.xticks(rotation=0)\n",
    "    plt.grid(axis='y')\n",
    "    plt.show()"
   ]
  },
  {
   "cell_type": "code",
   "execution_count": 33,
   "id": "114190c4",
   "metadata": {
    "ExecuteTime": {
     "end_time": "2024-07-09T12:06:24.437216Z",
     "start_time": "2024-07-09T12:06:23.571358Z"
    }
   },
   "outputs": [],
   "source": [
    "grouped_df.to_csv('subway_data_grouped.csv', index=False)"
   ]
  },
  {
   "cell_type": "code",
   "execution_count": 4,
   "id": "8fecf568",
   "metadata": {
    "ExecuteTime": {
     "end_time": "2024-07-10T09:46:25.682548Z",
     "start_time": "2024-07-10T09:46:25.500365Z"
    },
    "scrolled": true
   },
   "outputs": [
    {
     "name": "stderr",
     "output_type": "stream",
     "text": [
      "/var/folders/8v/myv9ql5d1lg4ct7vbb0zh8000000gn/T/ipykernel_42756/905512086.py:1: DtypeWarning: Columns (0) have mixed types. Specify dtype option on import or set low_memory=False.\n",
      "  df = pd.read_csv('subway_data_grouped.csv')\n"
     ]
    }
   ],
   "source": [
    "df = pd.read_csv('subway_data_grouped.csv')"
   ]
  },
  {
   "cell_type": "code",
   "execution_count": 5,
   "id": "1f147f16",
   "metadata": {
    "ExecuteTime": {
     "end_time": "2024-07-10T09:46:25.693890Z",
     "start_time": "2024-07-10T09:46:25.683487Z"
    }
   },
   "outputs": [
    {
     "data": {
      "text/plain": [
       "array([8, 9, 10, 13, 14, 16, 17, 20, 22, 103, 107, 118, 119, 143, 144,\n",
       "       145, 146, 147, 149, 150, 151, 152, 153, 154, 155, 156, 157, 158,\n",
       "       159, 160, 162, 164, 165, 167, 168, 169, 220, 222, 223, 224, 225,\n",
       "       228, 231, 232, 234, 276, 277, 296, 297, 298, 299, 300, 301, 303,\n",
       "       304, 305, 306, 307, 308, 309, 310, 311, 312, 313, 314, 316, 318,\n",
       "       319, 320, 321, 323, 324, 325, 326, 327, 328, 329, 333, 392, 393,\n",
       "       394, 395, 396, 397, 398, 399, 403, 404, 405, 407, 409, 413, 414,\n",
       "       436, 437, 438, 439, 440, 441, 471, 475, 476, 477, 601, 602, 605,\n",
       "       607, 609, 610, 611, 612, 613, 614, 618, 619, 622, 623, 624, 625,\n",
       "       628, 635, '618', '619', '622', '623', '624', '625', '628', '635',\n",
       "       '8', '9', 'TRAM1', 'TRAM2'], dtype=object)"
      ]
     },
     "execution_count": 5,
     "metadata": {},
     "output_type": "execute_result"
    }
   ],
   "source": [
    "df['station_complex_id'].unique()"
   ]
  },
  {
   "cell_type": "code",
   "execution_count": 6,
   "id": "ae87f866",
   "metadata": {
    "ExecuteTime": {
     "end_time": "2024-07-10T09:46:25.760783Z",
     "start_time": "2024-07-10T09:46:25.694547Z"
    }
   },
   "outputs": [
    {
     "name": "stdout",
     "output_type": "stream",
     "text": [
      "Latitude for '8': 40.76481\n",
      "Longitude for '8': -73.97335\n",
      "Latitude for 8: 40.76481\n",
      "Longitude for 8: -73.97335\n"
     ]
    }
   ],
   "source": [
    "latitude_8 = df[df['station_complex_id'] == '8']['latitude'].iloc[0]\n",
    "longitude_8 = df[df['station_complex_id'] == '8']['longitude'].iloc[0]\n",
    "latitude_int_8 = df[df['station_complex_id'] == 8]['latitude'].iloc[0]\n",
    "longitude_int_8 = df[df['station_complex_id'] == 8]['longitude'].iloc[0]\n",
    "\n",
    "print(f\"Latitude for '8': {latitude_8}\")\n",
    "print(f\"Longitude for '8': {longitude_8}\")\n",
    "print(f\"Latitude for 8: {latitude_int_8}\")\n",
    "print(f\"Longitude for 8: {longitude_int_8}\")"
   ]
  },
  {
   "cell_type": "code",
   "execution_count": 7,
   "id": "e0e6f855",
   "metadata": {
    "ExecuteTime": {
     "end_time": "2024-07-10T09:46:25.824751Z",
     "start_time": "2024-07-10T09:46:25.761973Z"
    }
   },
   "outputs": [
    {
     "name": "stdout",
     "output_type": "stream",
     "text": [
      "Latitude for '9': 40.76466\n",
      "Longitude for '9': -73.98066\n",
      "Latitude for 9: 40.76466\n",
      "Longitude for 9: -73.98066\n"
     ]
    }
   ],
   "source": [
    "latitude_9 = df[df['station_complex_id'] == '9']['latitude'].iloc[0]\n",
    "longitude_9 = df[df['station_complex_id'] == '9']['longitude'].iloc[0]\n",
    "latitude_int_9 = df[df['station_complex_id'] == 9]['latitude'].iloc[0]\n",
    "longitude_int_9 = df[df['station_complex_id'] == 9]['longitude'].iloc[0]\n",
    "\n",
    "print(f\"Latitude for '9': {latitude_9}\")\n",
    "print(f\"Longitude for '9': {longitude_9}\")\n",
    "print(f\"Latitude for 9: {latitude_int_9}\")\n",
    "print(f\"Longitude for 9: {longitude_int_9}\")"
   ]
  },
  {
   "cell_type": "code",
   "execution_count": 8,
   "id": "895fe94e",
   "metadata": {
    "ExecuteTime": {
     "end_time": "2024-07-10T09:46:25.855297Z",
     "start_time": "2024-07-10T09:46:25.825413Z"
    }
   },
   "outputs": [],
   "source": [
    "df['station_complex_id'] = df['station_complex_id'].astype('category')\n",
    "df['latitude'] = df['latitude'].astype(float)\n",
    "df['longitude'] = df['longitude'].astype(float)\n",
    "df['year'] = df['year'].astype(int)\n",
    "df['month'] = df['month'].astype(int)\n",
    "df['day'] = df['day'].astype(int)\n",
    "df['hour'] = df['hour'].astype(int)\n",
    "df['ridership'] = df['ridership'].astype(float)\n"
   ]
  },
  {
   "cell_type": "code",
   "execution_count": 9,
   "id": "a297828d",
   "metadata": {
    "ExecuteTime": {
     "end_time": "2024-07-10T09:46:25.893674Z",
     "start_time": "2024-07-10T09:46:25.855917Z"
    }
   },
   "outputs": [],
   "source": [
    "df['station_complex_id'] = df['station_complex_id'].astype(str)"
   ]
  },
  {
   "cell_type": "code",
   "execution_count": 10,
   "id": "739f8a34",
   "metadata": {
    "ExecuteTime": {
     "end_time": "2024-07-10T09:46:25.915802Z",
     "start_time": "2024-07-10T09:46:25.894480Z"
    }
   },
   "outputs": [
    {
     "data": {
      "text/plain": [
       "array(['10', '103', '107', '118', '119', '13', '14', '143', '144', '145',\n",
       "       '146', '147', '149', '150', '151', '152', '153', '154', '155',\n",
       "       '156', '157', '158', '159', '16', '160', '162', '164', '165',\n",
       "       '167', '168', '169', '17', '20', '22', '220', '222', '223', '224',\n",
       "       '225', '228', '231', '232', '234', '276', '277', '296', '297',\n",
       "       '298', '299', '300', '301', '303', '304', '305', '306', '307',\n",
       "       '308', '309', '310', '311', '312', '313', '314', '316', '318',\n",
       "       '319', '320', '321', '323', '324', '325', '326', '327', '328',\n",
       "       '329', '333', '392', '393', '394', '395', '396', '397', '398',\n",
       "       '399', '403', '404', '405', '407', '409', '413', '414', '436',\n",
       "       '437', '438', '439', '440', '441', '471', '475', '476', '477',\n",
       "       '601', '602', '605', '607', '609', '610', '611', '612', '613',\n",
       "       '614', '618', '619', '622', '623', '624', '625', '628', '635', '8',\n",
       "       '9', 'TRAM1', 'TRAM2'], dtype=object)"
      ]
     },
     "execution_count": 10,
     "metadata": {},
     "output_type": "execute_result"
    }
   ],
   "source": [
    "average_ridership = df.groupby('station_complex_id')['ridership'].mean().reset_index()\n",
    "average_ridership['station_complex_id'].unique()"
   ]
  },
  {
   "cell_type": "code",
   "execution_count": 11,
   "id": "35c61e46",
   "metadata": {
    "ExecuteTime": {
     "end_time": "2024-07-10T09:46:25.985563Z",
     "start_time": "2024-07-10T09:46:25.916428Z"
    }
   },
   "outputs": [
    {
     "data": {
      "image/png": "[encoded data removed]",
      "text/plain": [
       "<Figure size 1000x600 with 1 Axes>"
      ]
     },
     "metadata": {},
     "output_type": "display_data"
    }
   ],
   "source": [
    "plt.figure(figsize=(10, 6))\n",
    "plt.boxplot(average_ridership['ridership'], labels=['Average Ridership'])\n",
    "plt.title('Boxplot of Average Ridership')\n",
    "plt.ylabel('Average Ridership')\n",
    "plt.grid(True)\n",
    "plt.show()"
   ]
  },
  {
   "cell_type": "code",
   "execution_count": 13,
   "id": "4cefd021",
   "metadata": {
    "ExecuteTime": {
     "end_time": "2024-07-10T09:46:25.997207Z",
     "start_time": "2024-07-10T09:46:25.993246Z"
    }
   },
   "outputs": [
    {
     "name": "stdout",
     "output_type": "stream",
     "text": [
      "Mean: 2276.0379548988867 \n",
      "Standard Deviation: 4183.4640443182725\n"
     ]
    }
   ],
   "source": [
    "mean = df['ridership'].mean()\n",
    "std = df['ridership'].std()\n",
    "\n",
    "print(f'Mean: {mean} \\nStandard Deviation: {std}')"
   ]
  },
  {
   "cell_type": "code",
   "execution_count": 14,
   "id": "1e68b70c",
   "metadata": {
    "ExecuteTime": {
     "end_time": "2024-07-10T09:46:25.999439Z",
     "start_time": "2024-07-10T09:46:25.997918Z"
    }
   },
   "outputs": [
    {
     "name": "stdout",
     "output_type": "stream",
     "text": [
      "2276.0379548988867\n",
      "4183.4640443182725\n"
     ]
    }
   ],
   "source": [
    "print(mean)\n",
    "print(std)"
   ]
  },
  {
   "cell_type": "code",
   "execution_count": 15,
   "id": "9ec98b80",
   "metadata": {
    "ExecuteTime": {
     "end_time": "2024-07-10T09:46:26.060714Z",
     "start_time": "2024-07-10T09:46:25.999944Z"
    }
   },
   "outputs": [],
   "source": [
    "Q1 = df['ridership'].quantile(0.20)\n",
    "Q2 = df['ridership'].quantile(0.40)\n",
    "Q3 = df['ridership'].quantile(0.60)\n",
    "Q4 = df['ridership'].quantile(0.80)\n",
    "Q5 = df['ridership'].max()\n",
    "\n",
    "# Define bins based on percentiles\n",
    "bins = [-np.inf, Q1, Q2, Q3, Q4, Q5]\n",
    "labels = [5, 4, 3, 2, 1]\n",
    "\n",
    "# Ensure all bins have at least one entry\n",
    "df['busyness_rank'] = pd.cut(df['ridership'], bins=bins, labels=labels)\n"
   ]
  },
  {
   "cell_type": "code",
   "execution_count": 16,
   "id": "bd495595",
   "metadata": {
    "ExecuteTime": {
     "end_time": "2024-07-10T09:46:26.065445Z",
     "start_time": "2024-07-10T09:46:26.061329Z"
    }
   },
   "outputs": [
    {
     "name": "stdout",
     "output_type": "stream",
     "text": [
      "busyness_rank\n",
      "5    127218\n",
      "1    126784\n",
      "3    126745\n",
      "2    126714\n",
      "4    126581\n",
      "Name: count, dtype: int64\n"
     ]
    }
   ],
   "source": [
    "print(df['busyness_rank'].value_counts())"
   ]
  },
  {
   "cell_type": "code",
   "execution_count": 17,
   "id": "3e1642b6",
   "metadata": {
    "ExecuteTime": {
     "end_time": "2024-07-10T09:46:26.069957Z",
     "start_time": "2024-07-10T09:46:26.066048Z"
    }
   },
   "outputs": [],
   "source": [
    "df['busyness_rank'] = df['busyness_rank'].astype(int)"
   ]
  },
  {
   "cell_type": "code",
   "execution_count": 18,
   "id": "469272af",
   "metadata": {
    "ExecuteTime": {
     "end_time": "2024-07-10T09:46:26.076711Z",
     "start_time": "2024-07-10T09:46:26.070474Z"
    },
    "scrolled": true
   },
   "outputs": [
    {
     "data": {
      "text/html": [
       "<div>\n",
       "<style scoped>\n",
       "    .dataframe tbody tr th:only-of-type {\n",
       "        vertical-align: middle;\n",
       "    }\n",
       "\n",
       "    .dataframe tbody tr th {\n",
       "        vertical-align: top;\n",
       "    }\n",
       "\n",
       "    .dataframe thead th {\n",
       "        text-align: right;\n",
       "    }\n",
       "</style>\n",
       "<table border=\"1\" class=\"dataframe\">\n",
       "  <thead>\n",
       "    <tr style=\"text-align: right;\">\n",
       "      <th></th>\n",
       "      <th>station_complex_id</th>\n",
       "      <th>latitude</th>\n",
       "      <th>longitude</th>\n",
       "      <th>year</th>\n",
       "      <th>month</th>\n",
       "      <th>day</th>\n",
       "      <th>hour</th>\n",
       "      <th>ridership</th>\n",
       "      <th>busyness_rank</th>\n",
       "    </tr>\n",
       "  </thead>\n",
       "  <tbody>\n",
       "    <tr>\n",
       "      <th>0</th>\n",
       "      <td>8</td>\n",
       "      <td>40.76481</td>\n",
       "      <td>-73.97335</td>\n",
       "      <td>2022</td>\n",
       "      <td>2</td>\n",
       "      <td>0</td>\n",
       "      <td>0</td>\n",
       "      <td>97.0</td>\n",
       "      <td>5</td>\n",
       "    </tr>\n",
       "    <tr>\n",
       "      <th>1</th>\n",
       "      <td>8</td>\n",
       "      <td>40.76481</td>\n",
       "      <td>-73.97335</td>\n",
       "      <td>2022</td>\n",
       "      <td>2</td>\n",
       "      <td>0</td>\n",
       "      <td>1</td>\n",
       "      <td>31.0</td>\n",
       "      <td>5</td>\n",
       "    </tr>\n",
       "    <tr>\n",
       "      <th>2</th>\n",
       "      <td>8</td>\n",
       "      <td>40.76481</td>\n",
       "      <td>-73.97335</td>\n",
       "      <td>2022</td>\n",
       "      <td>2</td>\n",
       "      <td>0</td>\n",
       "      <td>2</td>\n",
       "      <td>8.0</td>\n",
       "      <td>5</td>\n",
       "    </tr>\n",
       "    <tr>\n",
       "      <th>3</th>\n",
       "      <td>8</td>\n",
       "      <td>40.76481</td>\n",
       "      <td>-73.97335</td>\n",
       "      <td>2022</td>\n",
       "      <td>2</td>\n",
       "      <td>0</td>\n",
       "      <td>3</td>\n",
       "      <td>9.0</td>\n",
       "      <td>5</td>\n",
       "    </tr>\n",
       "    <tr>\n",
       "      <th>4</th>\n",
       "      <td>8</td>\n",
       "      <td>40.76481</td>\n",
       "      <td>-73.97335</td>\n",
       "      <td>2022</td>\n",
       "      <td>2</td>\n",
       "      <td>0</td>\n",
       "      <td>4</td>\n",
       "      <td>8.0</td>\n",
       "      <td>5</td>\n",
       "    </tr>\n",
       "    <tr>\n",
       "      <th>5</th>\n",
       "      <td>8</td>\n",
       "      <td>40.76481</td>\n",
       "      <td>-73.97335</td>\n",
       "      <td>2022</td>\n",
       "      <td>2</td>\n",
       "      <td>0</td>\n",
       "      <td>5</td>\n",
       "      <td>41.0</td>\n",
       "      <td>5</td>\n",
       "    </tr>\n",
       "    <tr>\n",
       "      <th>6</th>\n",
       "      <td>8</td>\n",
       "      <td>40.76481</td>\n",
       "      <td>-73.97335</td>\n",
       "      <td>2022</td>\n",
       "      <td>2</td>\n",
       "      <td>0</td>\n",
       "      <td>6</td>\n",
       "      <td>91.0</td>\n",
       "      <td>5</td>\n",
       "    </tr>\n",
       "    <tr>\n",
       "      <th>7</th>\n",
       "      <td>8</td>\n",
       "      <td>40.76481</td>\n",
       "      <td>-73.97335</td>\n",
       "      <td>2022</td>\n",
       "      <td>2</td>\n",
       "      <td>0</td>\n",
       "      <td>7</td>\n",
       "      <td>259.0</td>\n",
       "      <td>4</td>\n",
       "    </tr>\n",
       "    <tr>\n",
       "      <th>8</th>\n",
       "      <td>8</td>\n",
       "      <td>40.76481</td>\n",
       "      <td>-73.97335</td>\n",
       "      <td>2022</td>\n",
       "      <td>2</td>\n",
       "      <td>0</td>\n",
       "      <td>8</td>\n",
       "      <td>337.0</td>\n",
       "      <td>4</td>\n",
       "    </tr>\n",
       "    <tr>\n",
       "      <th>9</th>\n",
       "      <td>8</td>\n",
       "      <td>40.76481</td>\n",
       "      <td>-73.97335</td>\n",
       "      <td>2022</td>\n",
       "      <td>2</td>\n",
       "      <td>0</td>\n",
       "      <td>9</td>\n",
       "      <td>417.0</td>\n",
       "      <td>4</td>\n",
       "    </tr>\n",
       "    <tr>\n",
       "      <th>10</th>\n",
       "      <td>8</td>\n",
       "      <td>40.76481</td>\n",
       "      <td>-73.97335</td>\n",
       "      <td>2022</td>\n",
       "      <td>2</td>\n",
       "      <td>0</td>\n",
       "      <td>10</td>\n",
       "      <td>522.0</td>\n",
       "      <td>4</td>\n",
       "    </tr>\n",
       "    <tr>\n",
       "      <th>11</th>\n",
       "      <td>8</td>\n",
       "      <td>40.76481</td>\n",
       "      <td>-73.97335</td>\n",
       "      <td>2022</td>\n",
       "      <td>2</td>\n",
       "      <td>0</td>\n",
       "      <td>11</td>\n",
       "      <td>745.0</td>\n",
       "      <td>3</td>\n",
       "    </tr>\n",
       "    <tr>\n",
       "      <th>12</th>\n",
       "      <td>8</td>\n",
       "      <td>40.76481</td>\n",
       "      <td>-73.97335</td>\n",
       "      <td>2022</td>\n",
       "      <td>2</td>\n",
       "      <td>0</td>\n",
       "      <td>12</td>\n",
       "      <td>1035.0</td>\n",
       "      <td>3</td>\n",
       "    </tr>\n",
       "    <tr>\n",
       "      <th>13</th>\n",
       "      <td>8</td>\n",
       "      <td>40.76481</td>\n",
       "      <td>-73.97335</td>\n",
       "      <td>2022</td>\n",
       "      <td>2</td>\n",
       "      <td>0</td>\n",
       "      <td>13</td>\n",
       "      <td>1321.0</td>\n",
       "      <td>3</td>\n",
       "    </tr>\n",
       "    <tr>\n",
       "      <th>14</th>\n",
       "      <td>8</td>\n",
       "      <td>40.76481</td>\n",
       "      <td>-73.97335</td>\n",
       "      <td>2022</td>\n",
       "      <td>2</td>\n",
       "      <td>0</td>\n",
       "      <td>14</td>\n",
       "      <td>1897.0</td>\n",
       "      <td>2</td>\n",
       "    </tr>\n",
       "    <tr>\n",
       "      <th>15</th>\n",
       "      <td>8</td>\n",
       "      <td>40.76481</td>\n",
       "      <td>-73.97335</td>\n",
       "      <td>2022</td>\n",
       "      <td>2</td>\n",
       "      <td>0</td>\n",
       "      <td>15</td>\n",
       "      <td>3037.0</td>\n",
       "      <td>2</td>\n",
       "    </tr>\n",
       "    <tr>\n",
       "      <th>16</th>\n",
       "      <td>8</td>\n",
       "      <td>40.76481</td>\n",
       "      <td>-73.97335</td>\n",
       "      <td>2022</td>\n",
       "      <td>2</td>\n",
       "      <td>0</td>\n",
       "      <td>16</td>\n",
       "      <td>3803.0</td>\n",
       "      <td>1</td>\n",
       "    </tr>\n",
       "    <tr>\n",
       "      <th>17</th>\n",
       "      <td>8</td>\n",
       "      <td>40.76481</td>\n",
       "      <td>-73.97335</td>\n",
       "      <td>2022</td>\n",
       "      <td>2</td>\n",
       "      <td>0</td>\n",
       "      <td>17</td>\n",
       "      <td>4236.0</td>\n",
       "      <td>1</td>\n",
       "    </tr>\n",
       "    <tr>\n",
       "      <th>18</th>\n",
       "      <td>8</td>\n",
       "      <td>40.76481</td>\n",
       "      <td>-73.97335</td>\n",
       "      <td>2022</td>\n",
       "      <td>2</td>\n",
       "      <td>0</td>\n",
       "      <td>18</td>\n",
       "      <td>3243.0</td>\n",
       "      <td>1</td>\n",
       "    </tr>\n",
       "    <tr>\n",
       "      <th>19</th>\n",
       "      <td>8</td>\n",
       "      <td>40.76481</td>\n",
       "      <td>-73.97335</td>\n",
       "      <td>2022</td>\n",
       "      <td>2</td>\n",
       "      <td>0</td>\n",
       "      <td>19</td>\n",
       "      <td>1670.0</td>\n",
       "      <td>2</td>\n",
       "    </tr>\n",
       "    <tr>\n",
       "      <th>20</th>\n",
       "      <td>8</td>\n",
       "      <td>40.76481</td>\n",
       "      <td>-73.97335</td>\n",
       "      <td>2022</td>\n",
       "      <td>2</td>\n",
       "      <td>0</td>\n",
       "      <td>20</td>\n",
       "      <td>781.0</td>\n",
       "      <td>3</td>\n",
       "    </tr>\n",
       "    <tr>\n",
       "      <th>21</th>\n",
       "      <td>8</td>\n",
       "      <td>40.76481</td>\n",
       "      <td>-73.97335</td>\n",
       "      <td>2022</td>\n",
       "      <td>2</td>\n",
       "      <td>0</td>\n",
       "      <td>21</td>\n",
       "      <td>558.0</td>\n",
       "      <td>4</td>\n",
       "    </tr>\n",
       "    <tr>\n",
       "      <th>22</th>\n",
       "      <td>8</td>\n",
       "      <td>40.76481</td>\n",
       "      <td>-73.97335</td>\n",
       "      <td>2022</td>\n",
       "      <td>2</td>\n",
       "      <td>0</td>\n",
       "      <td>22</td>\n",
       "      <td>682.0</td>\n",
       "      <td>3</td>\n",
       "    </tr>\n",
       "    <tr>\n",
       "      <th>23</th>\n",
       "      <td>8</td>\n",
       "      <td>40.76481</td>\n",
       "      <td>-73.97335</td>\n",
       "      <td>2022</td>\n",
       "      <td>2</td>\n",
       "      <td>0</td>\n",
       "      <td>23</td>\n",
       "      <td>485.0</td>\n",
       "      <td>4</td>\n",
       "    </tr>\n",
       "    <tr>\n",
       "      <th>24</th>\n",
       "      <td>8</td>\n",
       "      <td>40.76481</td>\n",
       "      <td>-73.97335</td>\n",
       "      <td>2022</td>\n",
       "      <td>2</td>\n",
       "      <td>1</td>\n",
       "      <td>0</td>\n",
       "      <td>233.0</td>\n",
       "      <td>4</td>\n",
       "    </tr>\n",
       "    <tr>\n",
       "      <th>25</th>\n",
       "      <td>8</td>\n",
       "      <td>40.76481</td>\n",
       "      <td>-73.97335</td>\n",
       "      <td>2022</td>\n",
       "      <td>2</td>\n",
       "      <td>1</td>\n",
       "      <td>1</td>\n",
       "      <td>35.0</td>\n",
       "      <td>5</td>\n",
       "    </tr>\n",
       "    <tr>\n",
       "      <th>26</th>\n",
       "      <td>8</td>\n",
       "      <td>40.76481</td>\n",
       "      <td>-73.97335</td>\n",
       "      <td>2022</td>\n",
       "      <td>2</td>\n",
       "      <td>1</td>\n",
       "      <td>2</td>\n",
       "      <td>13.0</td>\n",
       "      <td>5</td>\n",
       "    </tr>\n",
       "    <tr>\n",
       "      <th>27</th>\n",
       "      <td>8</td>\n",
       "      <td>40.76481</td>\n",
       "      <td>-73.97335</td>\n",
       "      <td>2022</td>\n",
       "      <td>2</td>\n",
       "      <td>1</td>\n",
       "      <td>3</td>\n",
       "      <td>5.0</td>\n",
       "      <td>5</td>\n",
       "    </tr>\n",
       "    <tr>\n",
       "      <th>28</th>\n",
       "      <td>8</td>\n",
       "      <td>40.76481</td>\n",
       "      <td>-73.97335</td>\n",
       "      <td>2022</td>\n",
       "      <td>2</td>\n",
       "      <td>1</td>\n",
       "      <td>4</td>\n",
       "      <td>14.0</td>\n",
       "      <td>5</td>\n",
       "    </tr>\n",
       "    <tr>\n",
       "      <th>29</th>\n",
       "      <td>8</td>\n",
       "      <td>40.76481</td>\n",
       "      <td>-73.97335</td>\n",
       "      <td>2022</td>\n",
       "      <td>2</td>\n",
       "      <td>1</td>\n",
       "      <td>5</td>\n",
       "      <td>40.0</td>\n",
       "      <td>5</td>\n",
       "    </tr>\n",
       "    <tr>\n",
       "      <th>30</th>\n",
       "      <td>8</td>\n",
       "      <td>40.76481</td>\n",
       "      <td>-73.97335</td>\n",
       "      <td>2022</td>\n",
       "      <td>2</td>\n",
       "      <td>1</td>\n",
       "      <td>6</td>\n",
       "      <td>129.0</td>\n",
       "      <td>5</td>\n",
       "    </tr>\n",
       "    <tr>\n",
       "      <th>31</th>\n",
       "      <td>8</td>\n",
       "      <td>40.76481</td>\n",
       "      <td>-73.97335</td>\n",
       "      <td>2022</td>\n",
       "      <td>2</td>\n",
       "      <td>1</td>\n",
       "      <td>7</td>\n",
       "      <td>270.0</td>\n",
       "      <td>4</td>\n",
       "    </tr>\n",
       "    <tr>\n",
       "      <th>32</th>\n",
       "      <td>8</td>\n",
       "      <td>40.76481</td>\n",
       "      <td>-73.97335</td>\n",
       "      <td>2022</td>\n",
       "      <td>2</td>\n",
       "      <td>1</td>\n",
       "      <td>8</td>\n",
       "      <td>361.0</td>\n",
       "      <td>4</td>\n",
       "    </tr>\n",
       "    <tr>\n",
       "      <th>33</th>\n",
       "      <td>8</td>\n",
       "      <td>40.76481</td>\n",
       "      <td>-73.97335</td>\n",
       "      <td>2022</td>\n",
       "      <td>2</td>\n",
       "      <td>1</td>\n",
       "      <td>9</td>\n",
       "      <td>385.0</td>\n",
       "      <td>4</td>\n",
       "    </tr>\n",
       "    <tr>\n",
       "      <th>34</th>\n",
       "      <td>8</td>\n",
       "      <td>40.76481</td>\n",
       "      <td>-73.97335</td>\n",
       "      <td>2022</td>\n",
       "      <td>2</td>\n",
       "      <td>1</td>\n",
       "      <td>10</td>\n",
       "      <td>521.0</td>\n",
       "      <td>4</td>\n",
       "    </tr>\n",
       "    <tr>\n",
       "      <th>35</th>\n",
       "      <td>8</td>\n",
       "      <td>40.76481</td>\n",
       "      <td>-73.97335</td>\n",
       "      <td>2022</td>\n",
       "      <td>2</td>\n",
       "      <td>1</td>\n",
       "      <td>11</td>\n",
       "      <td>680.0</td>\n",
       "      <td>3</td>\n",
       "    </tr>\n",
       "    <tr>\n",
       "      <th>36</th>\n",
       "      <td>8</td>\n",
       "      <td>40.76481</td>\n",
       "      <td>-73.97335</td>\n",
       "      <td>2022</td>\n",
       "      <td>2</td>\n",
       "      <td>1</td>\n",
       "      <td>12</td>\n",
       "      <td>936.0</td>\n",
       "      <td>3</td>\n",
       "    </tr>\n",
       "    <tr>\n",
       "      <th>37</th>\n",
       "      <td>8</td>\n",
       "      <td>40.76481</td>\n",
       "      <td>-73.97335</td>\n",
       "      <td>2022</td>\n",
       "      <td>2</td>\n",
       "      <td>1</td>\n",
       "      <td>13</td>\n",
       "      <td>1108.0</td>\n",
       "      <td>3</td>\n",
       "    </tr>\n",
       "    <tr>\n",
       "      <th>38</th>\n",
       "      <td>8</td>\n",
       "      <td>40.76481</td>\n",
       "      <td>-73.97335</td>\n",
       "      <td>2022</td>\n",
       "      <td>2</td>\n",
       "      <td>1</td>\n",
       "      <td>14</td>\n",
       "      <td>1912.0</td>\n",
       "      <td>2</td>\n",
       "    </tr>\n",
       "    <tr>\n",
       "      <th>39</th>\n",
       "      <td>8</td>\n",
       "      <td>40.76481</td>\n",
       "      <td>-73.97335</td>\n",
       "      <td>2022</td>\n",
       "      <td>2</td>\n",
       "      <td>1</td>\n",
       "      <td>15</td>\n",
       "      <td>2754.0</td>\n",
       "      <td>2</td>\n",
       "    </tr>\n",
       "    <tr>\n",
       "      <th>40</th>\n",
       "      <td>8</td>\n",
       "      <td>40.76481</td>\n",
       "      <td>-73.97335</td>\n",
       "      <td>2022</td>\n",
       "      <td>2</td>\n",
       "      <td>1</td>\n",
       "      <td>16</td>\n",
       "      <td>3574.0</td>\n",
       "      <td>1</td>\n",
       "    </tr>\n",
       "    <tr>\n",
       "      <th>41</th>\n",
       "      <td>8</td>\n",
       "      <td>40.76481</td>\n",
       "      <td>-73.97335</td>\n",
       "      <td>2022</td>\n",
       "      <td>2</td>\n",
       "      <td>1</td>\n",
       "      <td>17</td>\n",
       "      <td>4431.0</td>\n",
       "      <td>1</td>\n",
       "    </tr>\n",
       "    <tr>\n",
       "      <th>42</th>\n",
       "      <td>8</td>\n",
       "      <td>40.76481</td>\n",
       "      <td>-73.97335</td>\n",
       "      <td>2022</td>\n",
       "      <td>2</td>\n",
       "      <td>1</td>\n",
       "      <td>18</td>\n",
       "      <td>3390.0</td>\n",
       "      <td>1</td>\n",
       "    </tr>\n",
       "    <tr>\n",
       "      <th>43</th>\n",
       "      <td>8</td>\n",
       "      <td>40.76481</td>\n",
       "      <td>-73.97335</td>\n",
       "      <td>2022</td>\n",
       "      <td>2</td>\n",
       "      <td>1</td>\n",
       "      <td>19</td>\n",
       "      <td>1547.0</td>\n",
       "      <td>2</td>\n",
       "    </tr>\n",
       "    <tr>\n",
       "      <th>44</th>\n",
       "      <td>8</td>\n",
       "      <td>40.76481</td>\n",
       "      <td>-73.97335</td>\n",
       "      <td>2022</td>\n",
       "      <td>2</td>\n",
       "      <td>1</td>\n",
       "      <td>20</td>\n",
       "      <td>853.0</td>\n",
       "      <td>3</td>\n",
       "    </tr>\n",
       "    <tr>\n",
       "      <th>45</th>\n",
       "      <td>8</td>\n",
       "      <td>40.76481</td>\n",
       "      <td>-73.97335</td>\n",
       "      <td>2022</td>\n",
       "      <td>2</td>\n",
       "      <td>1</td>\n",
       "      <td>21</td>\n",
       "      <td>603.0</td>\n",
       "      <td>3</td>\n",
       "    </tr>\n",
       "    <tr>\n",
       "      <th>46</th>\n",
       "      <td>8</td>\n",
       "      <td>40.76481</td>\n",
       "      <td>-73.97335</td>\n",
       "      <td>2022</td>\n",
       "      <td>2</td>\n",
       "      <td>1</td>\n",
       "      <td>22</td>\n",
       "      <td>786.0</td>\n",
       "      <td>3</td>\n",
       "    </tr>\n",
       "    <tr>\n",
       "      <th>47</th>\n",
       "      <td>8</td>\n",
       "      <td>40.76481</td>\n",
       "      <td>-73.97335</td>\n",
       "      <td>2022</td>\n",
       "      <td>2</td>\n",
       "      <td>1</td>\n",
       "      <td>23</td>\n",
       "      <td>591.0</td>\n",
       "      <td>4</td>\n",
       "    </tr>\n",
       "    <tr>\n",
       "      <th>48</th>\n",
       "      <td>8</td>\n",
       "      <td>40.76481</td>\n",
       "      <td>-73.97335</td>\n",
       "      <td>2022</td>\n",
       "      <td>2</td>\n",
       "      <td>2</td>\n",
       "      <td>0</td>\n",
       "      <td>188.0</td>\n",
       "      <td>4</td>\n",
       "    </tr>\n",
       "    <tr>\n",
       "      <th>49</th>\n",
       "      <td>8</td>\n",
       "      <td>40.76481</td>\n",
       "      <td>-73.97335</td>\n",
       "      <td>2022</td>\n",
       "      <td>2</td>\n",
       "      <td>2</td>\n",
       "      <td>1</td>\n",
       "      <td>30.0</td>\n",
       "      <td>5</td>\n",
       "    </tr>\n",
       "  </tbody>\n",
       "</table>\n",
       "</div>"
      ],
      "text/plain": [
       "   station_complex_id  latitude  longitude  year  month  day  hour  ridership  \\\n",
       "0                   8  40.76481  -73.97335  2022      2    0     0       97.0   \n",
       "1                   8  40.76481  -73.97335  2022      2    0     1       31.0   \n",
       "2                   8  40.76481  -73.97335  2022      2    0     2        8.0   \n",
       "3                   8  40.76481  -73.97335  2022      2    0     3        9.0   \n",
       "4                   8  40.76481  -73.97335  2022      2    0     4        8.0   \n",
       "5                   8  40.76481  -73.97335  2022      2    0     5       41.0   \n",
       "6                   8  40.76481  -73.97335  2022      2    0     6       91.0   \n",
       "7                   8  40.76481  -73.97335  2022      2    0     7      259.0   \n",
       "8                   8  40.76481  -73.97335  2022      2    0     8      337.0   \n",
       "9                   8  40.76481  -73.97335  2022      2    0     9      417.0   \n",
       "10                  8  40.76481  -73.97335  2022      2    0    10      522.0   \n",
       "11                  8  40.76481  -73.97335  2022      2    0    11      745.0   \n",
       "12                  8  40.76481  -73.97335  2022      2    0    12     1035.0   \n",
       "13                  8  40.76481  -73.97335  2022      2    0    13     1321.0   \n",
       "14                  8  40.76481  -73.97335  2022      2    0    14     1897.0   \n",
       "15                  8  40.76481  -73.97335  2022      2    0    15     3037.0   \n",
       "16                  8  40.76481  -73.97335  2022      2    0    16     3803.0   \n",
       "17                  8  40.76481  -73.97335  2022      2    0    17     4236.0   \n",
       "18                  8  40.76481  -73.97335  2022      2    0    18     3243.0   \n",
       "19                  8  40.76481  -73.97335  2022      2    0    19     1670.0   \n",
       "20                  8  40.76481  -73.97335  2022      2    0    20      781.0   \n",
       "21                  8  40.76481  -73.97335  2022      2    0    21      558.0   \n",
       "22                  8  40.76481  -73.97335  2022      2    0    22      682.0   \n",
       "23                  8  40.76481  -73.97335  2022      2    0    23      485.0   \n",
       "24                  8  40.76481  -73.97335  2022      2    1     0      233.0   \n",
       "25                  8  40.76481  -73.97335  2022      2    1     1       35.0   \n",
       "26                  8  40.76481  -73.97335  2022      2    1     2       13.0   \n",
       "27                  8  40.76481  -73.97335  2022      2    1     3        5.0   \n",
       "28                  8  40.76481  -73.97335  2022      2    1     4       14.0   \n",
       "29                  8  40.76481  -73.97335  2022      2    1     5       40.0   \n",
       "30                  8  40.76481  -73.97335  2022      2    1     6      129.0   \n",
       "31                  8  40.76481  -73.97335  2022      2    1     7      270.0   \n",
       "32                  8  40.76481  -73.97335  2022      2    1     8      361.0   \n",
       "33                  8  40.76481  -73.97335  2022      2    1     9      385.0   \n",
       "34                  8  40.76481  -73.97335  2022      2    1    10      521.0   \n",
       "35                  8  40.76481  -73.97335  2022      2    1    11      680.0   \n",
       "36                  8  40.76481  -73.97335  2022      2    1    12      936.0   \n",
       "37                  8  40.76481  -73.97335  2022      2    1    13     1108.0   \n",
       "38                  8  40.76481  -73.97335  2022      2    1    14     1912.0   \n",
       "39                  8  40.76481  -73.97335  2022      2    1    15     2754.0   \n",
       "40                  8  40.76481  -73.97335  2022      2    1    16     3574.0   \n",
       "41                  8  40.76481  -73.97335  2022      2    1    17     4431.0   \n",
       "42                  8  40.76481  -73.97335  2022      2    1    18     3390.0   \n",
       "43                  8  40.76481  -73.97335  2022      2    1    19     1547.0   \n",
       "44                  8  40.76481  -73.97335  2022      2    1    20      853.0   \n",
       "45                  8  40.76481  -73.97335  2022      2    1    21      603.0   \n",
       "46                  8  40.76481  -73.97335  2022      2    1    22      786.0   \n",
       "47                  8  40.76481  -73.97335  2022      2    1    23      591.0   \n",
       "48                  8  40.76481  -73.97335  2022      2    2     0      188.0   \n",
       "49                  8  40.76481  -73.97335  2022      2    2     1       30.0   \n",
       "\n",
       "    busyness_rank  \n",
       "0               5  \n",
       "1               5  \n",
       "2               5  \n",
       "3               5  \n",
       "4               5  \n",
       "5               5  \n",
       "6               5  \n",
       "7               4  \n",
       "8               4  \n",
       "9               4  \n",
       "10              4  \n",
       "11              3  \n",
       "12              3  \n",
       "13              3  \n",
       "14              2  \n",
       "15              2  \n",
       "16              1  \n",
       "17              1  \n",
       "18              1  \n",
       "19              2  \n",
       "20              3  \n",
       "21              4  \n",
       "22              3  \n",
       "23              4  \n",
       "24              4  \n",
       "25              5  \n",
       "26              5  \n",
       "27              5  \n",
       "28              5  \n",
       "29              5  \n",
       "30              5  \n",
       "31              4  \n",
       "32              4  \n",
       "33              4  \n",
       "34              4  \n",
       "35              3  \n",
       "36              3  \n",
       "37              3  \n",
       "38              2  \n",
       "39              2  \n",
       "40              1  \n",
       "41              1  \n",
       "42              1  \n",
       "43              2  \n",
       "44              3  \n",
       "45              3  \n",
       "46              3  \n",
       "47              4  \n",
       "48              4  \n",
       "49              5  "
      ]
     },
     "execution_count": 18,
     "metadata": {},
     "output_type": "execute_result"
    }
   ],
   "source": [
    "df.head(50)"
   ]
  },
  {
   "cell_type": "code",
   "execution_count": 19,
   "id": "737da1b6",
   "metadata": {
    "ExecuteTime": {
     "end_time": "2024-07-10T09:46:26.079285Z",
     "start_time": "2024-07-10T09:46:26.077267Z"
    }
   },
   "outputs": [
    {
     "data": {
      "text/plain": [
       "station_complex_id     object\n",
       "latitude              float64\n",
       "longitude             float64\n",
       "year                    int64\n",
       "month                   int64\n",
       "day                     int64\n",
       "hour                    int64\n",
       "ridership             float64\n",
       "busyness_rank           int64\n",
       "dtype: object"
      ]
     },
     "execution_count": 19,
     "metadata": {},
     "output_type": "execute_result"
    }
   ],
   "source": [
    "df.dtypes"
   ]
  },
  {
   "cell_type": "markdown",
   "id": "34fc7c6a",
   "metadata": {},
   "source": [
    "**Plot average busyness rank per location**"
   ]
  },
  {
   "cell_type": "code",
   "execution_count": 20,
   "id": "d94b9031",
   "metadata": {
    "ExecuteTime": {
     "end_time": "2024-07-10T09:46:26.354709Z",
     "start_time": "2024-07-10T09:46:26.079754Z"
    }
   },
   "outputs": [
    {
     "data": {
      "image/png": "[encoded data removed]",
      "text/plain": [
       "<Figure size 600x2000 with 1 Axes>"
      ]
     },
     "metadata": {},
     "output_type": "display_data"
    }
   ],
   "source": [
    "average_busyness_per_location = df.groupby('station_complex_id')['busyness_rank'].mean().reset_index()\n",
    "plt.figure(figsize=(6, 20))\n",
    "average = average_busyness_per_location.set_index('station_complex_id')['busyness_rank']\n",
    "average.plot(kind='barh', color='skyblue')\n",
    "plt.title('Average Busyness Rank per Location (1 = busiest, 5 = least busy)')\n",
    "plt.xlabel('Average Busyness Rank')\n",
    "plt.ylabel('Station Complex ID')\n",
    "plt.grid(axis='x')\n",
    "plt.show()"
   ]
  },
  {
   "cell_type": "markdown",
   "id": "2a4b8ae5",
   "metadata": {},
   "source": [
    "**Split models by mode**"
   ]
  },
  {
   "cell_type": "code",
   "execution_count": 21,
   "id": "425b3f4c",
   "metadata": {
    "ExecuteTime": {
     "end_time": "2024-07-10T09:46:26.383735Z",
     "start_time": "2024-07-10T09:46:26.355382Z"
    }
   },
   "outputs": [],
   "source": [
    "mode_busyness_rank_df = df.groupby('station_complex_id', observed=False)['busyness_rank'].agg(pd.Series.mode).reset_index()\n",
    "\n",
    "mode_busyness_rank_df.columns = ['station_complex_id', 'mode_busyness_rank']"
   ]
  },
  {
   "cell_type": "code",
   "execution_count": 22,
   "id": "700a93b4",
   "metadata": {
    "ExecuteTime": {
     "end_time": "2024-07-10T09:46:26.387332Z",
     "start_time": "2024-07-10T09:46:26.384316Z"
    }
   },
   "outputs": [
    {
     "data": {
      "text/html": [
       "<div>\n",
       "<style scoped>\n",
       "    .dataframe tbody tr th:only-of-type {\n",
       "        vertical-align: middle;\n",
       "    }\n",
       "\n",
       "    .dataframe tbody tr th {\n",
       "        vertical-align: top;\n",
       "    }\n",
       "\n",
       "    .dataframe thead th {\n",
       "        text-align: right;\n",
       "    }\n",
       "</style>\n",
       "<table border=\"1\" class=\"dataframe\">\n",
       "  <thead>\n",
       "    <tr style=\"text-align: right;\">\n",
       "      <th></th>\n",
       "      <th>station_complex_id</th>\n",
       "      <th>mode_busyness_rank</th>\n",
       "    </tr>\n",
       "  </thead>\n",
       "  <tbody>\n",
       "    <tr>\n",
       "      <th>0</th>\n",
       "      <td>10</td>\n",
       "      <td>2</td>\n",
       "    </tr>\n",
       "    <tr>\n",
       "      <th>1</th>\n",
       "      <td>103</td>\n",
       "      <td>4</td>\n",
       "    </tr>\n",
       "    <tr>\n",
       "      <th>2</th>\n",
       "      <td>107</td>\n",
       "      <td>5</td>\n",
       "    </tr>\n",
       "    <tr>\n",
       "      <th>3</th>\n",
       "      <td>118</td>\n",
       "      <td>4</td>\n",
       "    </tr>\n",
       "    <tr>\n",
       "      <th>4</th>\n",
       "      <td>119</td>\n",
       "      <td>1</td>\n",
       "    </tr>\n",
       "    <tr>\n",
       "      <th>...</th>\n",
       "      <td>...</td>\n",
       "      <td>...</td>\n",
       "    </tr>\n",
       "    <tr>\n",
       "      <th>118</th>\n",
       "      <td>635</td>\n",
       "      <td>1</td>\n",
       "    </tr>\n",
       "    <tr>\n",
       "      <th>119</th>\n",
       "      <td>8</td>\n",
       "      <td>5</td>\n",
       "    </tr>\n",
       "    <tr>\n",
       "      <th>120</th>\n",
       "      <td>9</td>\n",
       "      <td>1</td>\n",
       "    </tr>\n",
       "    <tr>\n",
       "      <th>121</th>\n",
       "      <td>TRAM1</td>\n",
       "      <td>3</td>\n",
       "    </tr>\n",
       "    <tr>\n",
       "      <th>122</th>\n",
       "      <td>TRAM2</td>\n",
       "      <td>3</td>\n",
       "    </tr>\n",
       "  </tbody>\n",
       "</table>\n",
       "<p>123 rows × 2 columns</p>\n",
       "</div>"
      ],
      "text/plain": [
       "    station_complex_id  mode_busyness_rank\n",
       "0                   10                   2\n",
       "1                  103                   4\n",
       "2                  107                   5\n",
       "3                  118                   4\n",
       "4                  119                   1\n",
       "..                 ...                 ...\n",
       "118                635                   1\n",
       "119                  8                   5\n",
       "120                  9                   1\n",
       "121              TRAM1                   3\n",
       "122              TRAM2                   3\n",
       "\n",
       "[123 rows x 2 columns]"
      ]
     },
     "execution_count": 22,
     "metadata": {},
     "output_type": "execute_result"
    }
   ],
   "source": [
    "mode_busyness_rank_df"
   ]
  },
  {
   "cell_type": "code",
   "execution_count": 23,
   "id": "4298559c",
   "metadata": {
    "ExecuteTime": {
     "end_time": "2024-07-10T09:46:26.643815Z",
     "start_time": "2024-07-10T09:46:26.387820Z"
    }
   },
   "outputs": [
    {
     "data": {
      "image/png": "[encoded data removed]",
      "text/plain": [
       "<Figure size 1000x2000 with 1 Axes>"
      ]
     },
     "metadata": {},
     "output_type": "display_data"
    }
   ],
   "source": [
    "plt.figure(figsize=(10, 20))\n",
    "mode = mode_busyness_rank_df.set_index('station_complex_id')['mode_busyness_rank']\n",
    "mode.plot(kind='barh', color='skyblue')\n",
    "plt.title('Mode Busyness Rank per Location (1 = busiest, 5 = least busy)')\n",
    "plt.xlabel('Mode Busyness Rank')\n",
    "plt.ylabel('Station Complex ID')\n",
    "plt.grid(axis='x')\n",
    "plt.show()"
   ]
  },
  {
   "cell_type": "code",
   "execution_count": 24,
   "id": "2fa57c3b",
   "metadata": {
    "ExecuteTime": {
     "end_time": "2024-07-10T09:46:26.646790Z",
     "start_time": "2024-07-10T09:46:26.644549Z"
    }
   },
   "outputs": [
    {
     "name": "stdout",
     "output_type": "stream",
     "text": [
      "Stations with mode busyness rank of 5: ['107', '145', '146', '152', '157', '158', '159', '160', '17', '20', '22', '224', '276', '297', '307', '308', '333', '398', '399', '8']\n",
      "Stations with mode busyness rank less than 5: ['10', '103', '118', '119', '13', '14', '143', '144', '147', '149', '150', '151', '153', '154', '155', '156', '16', '162', '164', '165', '167', '168', '169', '220', '222', '223', '225', '228', '231', '232', '234', '277', '296', '298', '299', '300', '301', '303', '304', '305', '306', '309', '310', '311', '312', '313', '314', '316', '318', '319', '320', '321', '323', '324', '325', '326', '327', '328', '329', '392', '393', '394', '395', '396', '397', '403', '404', '405', '407', '409', '413', '414', '436', '437', '438', '439', '440', '441', '471', '475', '476', '477', '601', '602', '605', '607', '609', '610', '611', '612', '613', '614', '618', '619', '622', '623', '624', '625', '628', '635', '9', 'TRAM1', 'TRAM2']\n"
     ]
    }
   ],
   "source": [
    "station_ids_mode_5 = mode_busyness_rank_df[mode_busyness_rank_df['mode_busyness_rank'] == 5]['station_complex_id'].tolist()\n",
    "station_ids_mode_5\n",
    "\n",
    "station_ids_mode_others = mode_busyness_rank_df[mode_busyness_rank_df['mode_busyness_rank'] < 5]['station_complex_id'].tolist()\n",
    "\n",
    "print('Stations with mode busyness rank of 5:', station_ids_mode_5)\n",
    "print('Stations with mode busyness rank less than 5:', station_ids_mode_others)"
   ]
  },
  {
   "cell_type": "code",
   "execution_count": 25,
   "id": "3bc8f815",
   "metadata": {
    "ExecuteTime": {
     "end_time": "2024-07-10T09:46:26.697169Z",
     "start_time": "2024-07-10T09:46:26.647399Z"
    }
   },
   "outputs": [],
   "source": [
    "df_mode_5 = df[df['station_complex_id'].isin(station_ids_mode_5)]\n",
    "df_mode_others = df[df['station_complex_id'].isin(station_ids_mode_others)]\n"
   ]
  },
  {
   "cell_type": "code",
   "execution_count": 26,
   "id": "6898f1c8",
   "metadata": {
    "ExecuteTime": {
     "end_time": "2024-07-10T09:46:26.701808Z",
     "start_time": "2024-07-10T09:46:26.697907Z"
    }
   },
   "outputs": [
    {
     "data": {
      "text/html": [
       "<div>\n",
       "<style scoped>\n",
       "    .dataframe tbody tr th:only-of-type {\n",
       "        vertical-align: middle;\n",
       "    }\n",
       "\n",
       "    .dataframe tbody tr th {\n",
       "        vertical-align: top;\n",
       "    }\n",
       "\n",
       "    .dataframe thead th {\n",
       "        text-align: right;\n",
       "    }\n",
       "</style>\n",
       "<table border=\"1\" class=\"dataframe\">\n",
       "  <thead>\n",
       "    <tr style=\"text-align: right;\">\n",
       "      <th></th>\n",
       "      <th>station_complex_id</th>\n",
       "      <th>latitude</th>\n",
       "      <th>longitude</th>\n",
       "      <th>year</th>\n",
       "      <th>month</th>\n",
       "      <th>day</th>\n",
       "      <th>hour</th>\n",
       "      <th>ridership</th>\n",
       "      <th>busyness_rank</th>\n",
       "    </tr>\n",
       "  </thead>\n",
       "  <tbody>\n",
       "    <tr>\n",
       "      <th>0</th>\n",
       "      <td>8</td>\n",
       "      <td>40.76481</td>\n",
       "      <td>-73.97335</td>\n",
       "      <td>2022</td>\n",
       "      <td>2</td>\n",
       "      <td>0</td>\n",
       "      <td>0</td>\n",
       "      <td>97.0</td>\n",
       "      <td>5</td>\n",
       "    </tr>\n",
       "    <tr>\n",
       "      <th>1</th>\n",
       "      <td>8</td>\n",
       "      <td>40.76481</td>\n",
       "      <td>-73.97335</td>\n",
       "      <td>2022</td>\n",
       "      <td>2</td>\n",
       "      <td>0</td>\n",
       "      <td>1</td>\n",
       "      <td>31.0</td>\n",
       "      <td>5</td>\n",
       "    </tr>\n",
       "    <tr>\n",
       "      <th>2</th>\n",
       "      <td>8</td>\n",
       "      <td>40.76481</td>\n",
       "      <td>-73.97335</td>\n",
       "      <td>2022</td>\n",
       "      <td>2</td>\n",
       "      <td>0</td>\n",
       "      <td>2</td>\n",
       "      <td>8.0</td>\n",
       "      <td>5</td>\n",
       "    </tr>\n",
       "    <tr>\n",
       "      <th>3</th>\n",
       "      <td>8</td>\n",
       "      <td>40.76481</td>\n",
       "      <td>-73.97335</td>\n",
       "      <td>2022</td>\n",
       "      <td>2</td>\n",
       "      <td>0</td>\n",
       "      <td>3</td>\n",
       "      <td>9.0</td>\n",
       "      <td>5</td>\n",
       "    </tr>\n",
       "    <tr>\n",
       "      <th>4</th>\n",
       "      <td>8</td>\n",
       "      <td>40.76481</td>\n",
       "      <td>-73.97335</td>\n",
       "      <td>2022</td>\n",
       "      <td>2</td>\n",
       "      <td>0</td>\n",
       "      <td>4</td>\n",
       "      <td>8.0</td>\n",
       "      <td>5</td>\n",
       "    </tr>\n",
       "    <tr>\n",
       "      <th>...</th>\n",
       "      <td>...</td>\n",
       "      <td>...</td>\n",
       "      <td>...</td>\n",
       "      <td>...</td>\n",
       "      <td>...</td>\n",
       "      <td>...</td>\n",
       "      <td>...</td>\n",
       "      <td>...</td>\n",
       "      <td>...</td>\n",
       "    </tr>\n",
       "    <tr>\n",
       "      <th>620326</th>\n",
       "      <td>8</td>\n",
       "      <td>40.76481</td>\n",
       "      <td>-73.97335</td>\n",
       "      <td>2024</td>\n",
       "      <td>6</td>\n",
       "      <td>6</td>\n",
       "      <td>19</td>\n",
       "      <td>607.0</td>\n",
       "      <td>3</td>\n",
       "    </tr>\n",
       "    <tr>\n",
       "      <th>620327</th>\n",
       "      <td>8</td>\n",
       "      <td>40.76481</td>\n",
       "      <td>-73.97335</td>\n",
       "      <td>2024</td>\n",
       "      <td>6</td>\n",
       "      <td>6</td>\n",
       "      <td>20</td>\n",
       "      <td>426.0</td>\n",
       "      <td>4</td>\n",
       "    </tr>\n",
       "    <tr>\n",
       "      <th>620328</th>\n",
       "      <td>8</td>\n",
       "      <td>40.76481</td>\n",
       "      <td>-73.97335</td>\n",
       "      <td>2024</td>\n",
       "      <td>6</td>\n",
       "      <td>6</td>\n",
       "      <td>21</td>\n",
       "      <td>200.0</td>\n",
       "      <td>4</td>\n",
       "    </tr>\n",
       "    <tr>\n",
       "      <th>620329</th>\n",
       "      <td>8</td>\n",
       "      <td>40.76481</td>\n",
       "      <td>-73.97335</td>\n",
       "      <td>2024</td>\n",
       "      <td>6</td>\n",
       "      <td>6</td>\n",
       "      <td>22</td>\n",
       "      <td>209.0</td>\n",
       "      <td>4</td>\n",
       "    </tr>\n",
       "    <tr>\n",
       "      <th>620330</th>\n",
       "      <td>8</td>\n",
       "      <td>40.76481</td>\n",
       "      <td>-73.97335</td>\n",
       "      <td>2024</td>\n",
       "      <td>6</td>\n",
       "      <td>6</td>\n",
       "      <td>23</td>\n",
       "      <td>135.0</td>\n",
       "      <td>5</td>\n",
       "    </tr>\n",
       "  </tbody>\n",
       "</table>\n",
       "<p>108994 rows × 9 columns</p>\n",
       "</div>"
      ],
      "text/plain": [
       "       station_complex_id  latitude  longitude  year  month  day  hour  \\\n",
       "0                       8  40.76481  -73.97335  2022      2    0     0   \n",
       "1                       8  40.76481  -73.97335  2022      2    0     1   \n",
       "2                       8  40.76481  -73.97335  2022      2    0     2   \n",
       "3                       8  40.76481  -73.97335  2022      2    0     3   \n",
       "4                       8  40.76481  -73.97335  2022      2    0     4   \n",
       "...                   ...       ...        ...   ...    ...  ...   ...   \n",
       "620326                  8  40.76481  -73.97335  2024      6    6    19   \n",
       "620327                  8  40.76481  -73.97335  2024      6    6    20   \n",
       "620328                  8  40.76481  -73.97335  2024      6    6    21   \n",
       "620329                  8  40.76481  -73.97335  2024      6    6    22   \n",
       "620330                  8  40.76481  -73.97335  2024      6    6    23   \n",
       "\n",
       "        ridership  busyness_rank  \n",
       "0            97.0              5  \n",
       "1            31.0              5  \n",
       "2             8.0              5  \n",
       "3             9.0              5  \n",
       "4             8.0              5  \n",
       "...           ...            ...  \n",
       "620326      607.0              3  \n",
       "620327      426.0              4  \n",
       "620328      200.0              4  \n",
       "620329      209.0              4  \n",
       "620330      135.0              5  \n",
       "\n",
       "[108994 rows x 9 columns]"
      ]
     },
     "execution_count": 26,
     "metadata": {},
     "output_type": "execute_result"
    }
   ],
   "source": [
    "df_mode_5"
   ]
  },
  {
   "cell_type": "code",
   "execution_count": 27,
   "id": "99a6ad67",
   "metadata": {
    "ExecuteTime": {
     "end_time": "2024-07-10T09:46:26.705870Z",
     "start_time": "2024-07-10T09:46:26.702464Z"
    },
    "scrolled": true
   },
   "outputs": [
    {
     "data": {
      "text/html": [
       "<div>\n",
       "<style scoped>\n",
       "    .dataframe tbody tr th:only-of-type {\n",
       "        vertical-align: middle;\n",
       "    }\n",
       "\n",
       "    .dataframe tbody tr th {\n",
       "        vertical-align: top;\n",
       "    }\n",
       "\n",
       "    .dataframe thead th {\n",
       "        text-align: right;\n",
       "    }\n",
       "</style>\n",
       "<table border=\"1\" class=\"dataframe\">\n",
       "  <thead>\n",
       "    <tr style=\"text-align: right;\">\n",
       "      <th></th>\n",
       "      <th>station_complex_id</th>\n",
       "      <th>latitude</th>\n",
       "      <th>longitude</th>\n",
       "      <th>year</th>\n",
       "      <th>month</th>\n",
       "      <th>day</th>\n",
       "      <th>hour</th>\n",
       "      <th>ridership</th>\n",
       "      <th>busyness_rank</th>\n",
       "    </tr>\n",
       "  </thead>\n",
       "  <tbody>\n",
       "    <tr>\n",
       "      <th>1855</th>\n",
       "      <td>9</td>\n",
       "      <td>40.76466</td>\n",
       "      <td>-73.98066</td>\n",
       "      <td>2022</td>\n",
       "      <td>2</td>\n",
       "      <td>0</td>\n",
       "      <td>0</td>\n",
       "      <td>7.0</td>\n",
       "      <td>5</td>\n",
       "    </tr>\n",
       "    <tr>\n",
       "      <th>1856</th>\n",
       "      <td>9</td>\n",
       "      <td>40.76466</td>\n",
       "      <td>-73.98066</td>\n",
       "      <td>2022</td>\n",
       "      <td>2</td>\n",
       "      <td>0</td>\n",
       "      <td>1</td>\n",
       "      <td>2.0</td>\n",
       "      <td>5</td>\n",
       "    </tr>\n",
       "    <tr>\n",
       "      <th>1857</th>\n",
       "      <td>9</td>\n",
       "      <td>40.76466</td>\n",
       "      <td>-73.98066</td>\n",
       "      <td>2022</td>\n",
       "      <td>2</td>\n",
       "      <td>0</td>\n",
       "      <td>2</td>\n",
       "      <td>4.0</td>\n",
       "      <td>5</td>\n",
       "    </tr>\n",
       "    <tr>\n",
       "      <th>1858</th>\n",
       "      <td>9</td>\n",
       "      <td>40.76466</td>\n",
       "      <td>-73.98066</td>\n",
       "      <td>2022</td>\n",
       "      <td>2</td>\n",
       "      <td>0</td>\n",
       "      <td>3</td>\n",
       "      <td>1.0</td>\n",
       "      <td>5</td>\n",
       "    </tr>\n",
       "    <tr>\n",
       "      <th>1859</th>\n",
       "      <td>9</td>\n",
       "      <td>40.76466</td>\n",
       "      <td>-73.98066</td>\n",
       "      <td>2022</td>\n",
       "      <td>2</td>\n",
       "      <td>0</td>\n",
       "      <td>4</td>\n",
       "      <td>8.0</td>\n",
       "      <td>5</td>\n",
       "    </tr>\n",
       "    <tr>\n",
       "      <th>...</th>\n",
       "      <td>...</td>\n",
       "      <td>...</td>\n",
       "      <td>...</td>\n",
       "      <td>...</td>\n",
       "      <td>...</td>\n",
       "      <td>...</td>\n",
       "      <td>...</td>\n",
       "      <td>...</td>\n",
       "      <td>...</td>\n",
       "    </tr>\n",
       "    <tr>\n",
       "      <th>634037</th>\n",
       "      <td>TRAM2</td>\n",
       "      <td>40.75734</td>\n",
       "      <td>-73.95411</td>\n",
       "      <td>2024</td>\n",
       "      <td>6</td>\n",
       "      <td>6</td>\n",
       "      <td>19</td>\n",
       "      <td>315.0</td>\n",
       "      <td>4</td>\n",
       "    </tr>\n",
       "    <tr>\n",
       "      <th>634038</th>\n",
       "      <td>TRAM2</td>\n",
       "      <td>40.75734</td>\n",
       "      <td>-73.95411</td>\n",
       "      <td>2024</td>\n",
       "      <td>6</td>\n",
       "      <td>6</td>\n",
       "      <td>20</td>\n",
       "      <td>278.0</td>\n",
       "      <td>4</td>\n",
       "    </tr>\n",
       "    <tr>\n",
       "      <th>634039</th>\n",
       "      <td>TRAM2</td>\n",
       "      <td>40.75734</td>\n",
       "      <td>-73.95411</td>\n",
       "      <td>2024</td>\n",
       "      <td>6</td>\n",
       "      <td>6</td>\n",
       "      <td>21</td>\n",
       "      <td>223.0</td>\n",
       "      <td>4</td>\n",
       "    </tr>\n",
       "    <tr>\n",
       "      <th>634040</th>\n",
       "      <td>TRAM2</td>\n",
       "      <td>40.75734</td>\n",
       "      <td>-73.95411</td>\n",
       "      <td>2024</td>\n",
       "      <td>6</td>\n",
       "      <td>6</td>\n",
       "      <td>22</td>\n",
       "      <td>111.0</td>\n",
       "      <td>5</td>\n",
       "    </tr>\n",
       "    <tr>\n",
       "      <th>634041</th>\n",
       "      <td>TRAM2</td>\n",
       "      <td>40.75734</td>\n",
       "      <td>-73.95411</td>\n",
       "      <td>2024</td>\n",
       "      <td>6</td>\n",
       "      <td>6</td>\n",
       "      <td>23</td>\n",
       "      <td>53.0</td>\n",
       "      <td>5</td>\n",
       "    </tr>\n",
       "  </tbody>\n",
       "</table>\n",
       "<p>525048 rows × 9 columns</p>\n",
       "</div>"
      ],
      "text/plain": [
       "       station_complex_id  latitude  longitude  year  month  day  hour  \\\n",
       "1855                    9  40.76466  -73.98066  2022      2    0     0   \n",
       "1856                    9  40.76466  -73.98066  2022      2    0     1   \n",
       "1857                    9  40.76466  -73.98066  2022      2    0     2   \n",
       "1858                    9  40.76466  -73.98066  2022      2    0     3   \n",
       "1859                    9  40.76466  -73.98066  2022      2    0     4   \n",
       "...                   ...       ...        ...   ...    ...  ...   ...   \n",
       "634037              TRAM2  40.75734  -73.95411  2024      6    6    19   \n",
       "634038              TRAM2  40.75734  -73.95411  2024      6    6    20   \n",
       "634039              TRAM2  40.75734  -73.95411  2024      6    6    21   \n",
       "634040              TRAM2  40.75734  -73.95411  2024      6    6    22   \n",
       "634041              TRAM2  40.75734  -73.95411  2024      6    6    23   \n",
       "\n",
       "        ridership  busyness_rank  \n",
       "1855          7.0              5  \n",
       "1856          2.0              5  \n",
       "1857          4.0              5  \n",
       "1858          1.0              5  \n",
       "1859          8.0              5  \n",
       "...           ...            ...  \n",
       "634037      315.0              4  \n",
       "634038      278.0              4  \n",
       "634039      223.0              4  \n",
       "634040      111.0              5  \n",
       "634041       53.0              5  \n",
       "\n",
       "[525048 rows x 9 columns]"
      ]
     },
     "execution_count": 27,
     "metadata": {},
     "output_type": "execute_result"
    }
   ],
   "source": [
    "df_mode_others"
   ]
  },
  {
   "cell_type": "markdown",
   "id": "adb420ef",
   "metadata": {},
   "source": [
    "**Remove outliers**"
   ]
  },
  {
   "cell_type": "code",
   "execution_count": 33,
   "id": "b812969e",
   "metadata": {
    "ExecuteTime": {
     "end_time": "2024-07-10T09:54:18.699334Z",
     "start_time": "2024-07-10T09:54:18.680635Z"
    }
   },
   "outputs": [
    {
     "data": {
      "text/html": [
       "<div>\n",
       "<style scoped>\n",
       "    .dataframe tbody tr th:only-of-type {\n",
       "        vertical-align: middle;\n",
       "    }\n",
       "\n",
       "    .dataframe tbody tr th {\n",
       "        vertical-align: top;\n",
       "    }\n",
       "\n",
       "    .dataframe thead th {\n",
       "        text-align: right;\n",
       "    }\n",
       "</style>\n",
       "<table border=\"1\" class=\"dataframe\">\n",
       "  <thead>\n",
       "    <tr style=\"text-align: right;\">\n",
       "      <th></th>\n",
       "      <th>station_complex_id</th>\n",
       "      <th>ridership</th>\n",
       "    </tr>\n",
       "  </thead>\n",
       "  <tbody>\n",
       "    <tr>\n",
       "      <th>107</th>\n",
       "      <td>611</td>\n",
       "      <td>19757.245462</td>\n",
       "    </tr>\n",
       "    <tr>\n",
       "      <th>106</th>\n",
       "      <td>610</td>\n",
       "      <td>13802.893814</td>\n",
       "    </tr>\n",
       "    <tr>\n",
       "      <th>104</th>\n",
       "      <td>607</td>\n",
       "      <td>11059.837252</td>\n",
       "    </tr>\n",
       "  </tbody>\n",
       "</table>\n",
       "</div>"
      ],
      "text/plain": [
       "    station_complex_id     ridership\n",
       "107                611  19757.245462\n",
       "106                610  13802.893814\n",
       "104                607  11059.837252"
      ]
     },
     "execution_count": 33,
     "metadata": {},
     "output_type": "execute_result"
    }
   ],
   "source": [
    "top_3_stations = average_ridership.sort_values(by='ridership', ascending=False).head(3)\n",
    "\n",
    "top_3_stations"
   ]
  },
  {
   "cell_type": "code",
   "execution_count": 28,
   "id": "462393ce",
   "metadata": {
    "ExecuteTime": {
     "end_time": "2024-07-10T09:46:26.741683Z",
     "start_time": "2024-07-10T09:46:26.706355Z"
    }
   },
   "outputs": [],
   "source": [
    "df_without_outliers = df.query(\"station_complex_id not in ['611', '610', '607']\")"
   ]
  },
  {
   "cell_type": "markdown",
   "id": "d5e77a21",
   "metadata": {},
   "source": [
    "**Different csvs for model testing**"
   ]
  },
  {
   "cell_type": "code",
   "execution_count": 29,
   "id": "83789471",
   "metadata": {
    "ExecuteTime": {
     "end_time": "2024-07-10T09:46:26.745817Z",
     "start_time": "2024-07-10T09:46:26.742515Z"
    }
   },
   "outputs": [
    {
     "data": {
      "text/plain": [
       "array([5, 4, 3, 2, 1])"
      ]
     },
     "execution_count": 29,
     "metadata": {},
     "output_type": "execute_result"
    }
   ],
   "source": [
    "df['busyness_rank'].unique()"
   ]
  },
  {
   "cell_type": "code",
   "execution_count": 30,
   "id": "7481c394",
   "metadata": {
    "ExecuteTime": {
     "end_time": "2024-07-10T09:46:27.656896Z",
     "start_time": "2024-07-10T09:46:26.746649Z"
    }
   },
   "outputs": [],
   "source": [
    "df.to_csv('subway_data_final.csv', index=False)"
   ]
  },
  {
   "cell_type": "code",
   "execution_count": 31,
   "id": "b754c5cf",
   "metadata": {
    "ExecuteTime": {
     "end_time": "2024-07-10T09:46:28.531823Z",
     "start_time": "2024-07-10T09:46:27.660177Z"
    }
   },
   "outputs": [],
   "source": [
    "df_without_outliers.to_csv('subway_data_final_outliers.csv', index=False)"
   ]
  },
  {
   "cell_type": "code",
   "execution_count": 32,
   "id": "5cec0a02",
   "metadata": {
    "ExecuteTime": {
     "end_time": "2024-07-10T09:46:29.399243Z",
     "start_time": "2024-07-10T09:46:28.532441Z"
    }
   },
   "outputs": [],
   "source": [
    "df_mode_5.to_csv('subway_data_mode5.csv', index=False)\n",
    "df_mode_others.to_csv('subway_data_mode_others.csv', index=False)"
   ]
  },
  {
   "cell_type": "code",
   "execution_count": null,
   "id": "52d7f3eb",
   "metadata": {},
   "outputs": [],
   "source": []
  }
 ],
 "metadata": {
  "kernelspec": {
   "display_name": "Python 3 (ipykernel)",
   "language": "python",
   "name": "python3"
  },
  "language_info": {
   "codemirror_mode": {
    "name": "ipython",
    "version": 3
   },
   "file_extension": ".py",
   "mimetype": "text/x-python",
   "name": "python",
   "nbconvert_exporter": "python",
   "pygments_lexer": "ipython3",
   "version": "3.11.9"
  }
 },
 "nbformat": 4,
 "nbformat_minor": 5
}
