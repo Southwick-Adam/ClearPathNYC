{
 "cells": [
  {
   "cell_type": "code",
   "execution_count": 19,
   "id": "6f3df7b3",
   "metadata": {
    "ExecuteTime": {
     "end_time": "2024-05-29T07:53:08.782854Z",
     "start_time": "2024-05-29T07:53:08.774282Z"
    }
   },
   "outputs": [
    {
     "data": {
      "text/plain": [
       "True"
      ]
     },
     "execution_count": 19,
     "metadata": {},
     "output_type": "execute_result"
    }
   ],
   "source": [
    "import pandas as pd\n",
    "import requests\n",
    "\n",
    "import os\n",
    "from dotenv import load_dotenv\n",
    "\n",
    "load_dotenv()"
   ]
  },
  {
   "cell_type": "code",
   "execution_count": 20,
   "id": "fb1309c7",
   "metadata": {
    "ExecuteTime": {
     "end_time": "2024-05-29T07:53:08.787914Z",
     "start_time": "2024-05-29T07:53:08.785160Z"
    }
   },
   "outputs": [],
   "source": [
    "def data_check_csv(data):\n",
    "    df = pd.read_csv(data)\n",
    "    rows,cols = df.shape\n",
    "\n",
    "    print(\"Number of Rows:\", rows, \"\\nNumber of Columns:\", cols)\n",
    "    print(\"\\nFeatures/Type:\")\n",
    "    print(df.dtypes)"
   ]
  },
  {
   "cell_type": "code",
   "execution_count": 21,
   "id": "32911d82",
   "metadata": {
    "ExecuteTime": {
     "end_time": "2024-05-29T07:53:08.792011Z",
     "start_time": "2024-05-29T07:53:08.789448Z"
    }
   },
   "outputs": [],
   "source": [
    "def data_check_json(data):\n",
    "    df = pd.json_normalize(data)\n",
    "    \n",
    "    rows, cols = df.shape\n",
    "    print(\"Number of Rows:\", rows, \"\\nNumber of Columns:\", cols)\n",
    "    \n",
    "    print(\"\\nFeatures/Type:\")\n",
    "    print(df.dtypes)"
   ]
  },
  {
   "cell_type": "code",
   "execution_count": 22,
   "id": "8ad99194",
   "metadata": {
    "ExecuteTime": {
     "end_time": "2024-05-29T07:53:08.797589Z",
     "start_time": "2024-05-29T07:53:08.794917Z"
    }
   },
   "outputs": [],
   "source": [
    "def data_check_parquet(data):\n",
    "    df = pd.read_parquet(data)\n",
    "    rows,cols = df.shape\n",
    "    print(\"Number of Rows:\", rows, \"\\nNumber of Columns:\", cols)\n",
    "    print(\"\\nFeatures/Type:\")\n",
    "    print(df.dtypes)"
   ]
  },
  {
   "cell_type": "markdown",
   "id": "da14e649",
   "metadata": {},
   "source": [
    "# Real Time Air Quality\n",
    "Link: https://a816-dohbesp.nyc.gov/IndicatorPublic/data-features/realtime-air-quality/#:~:text=The%20air%20quality%20in%20NYC,under%2035%20%CE%BCg%2Fm3.  \n",
    "Not too sure why dataset is called 'Real Time', dataset is updated monthly containing hourly data. Measures PM2.5 (Fine particles)."
   ]
  },
  {
   "cell_type": "code",
   "execution_count": 23,
   "id": "5f694ee3",
   "metadata": {
    "ExecuteTime": {
     "end_time": "2024-05-29T07:53:08.806456Z",
     "start_time": "2024-05-29T07:53:08.798814Z"
    }
   },
   "outputs": [],
   "source": [
    "df_air = pd.read_csv('hourlyMonitoring.csv')"
   ]
  },
  {
   "cell_type": "code",
   "execution_count": 24,
   "id": "a7d3bf48",
   "metadata": {
    "ExecuteTime": {
     "end_time": "2024-05-29T07:53:08.815092Z",
     "start_time": "2024-05-29T07:53:08.807621Z"
    },
    "scrolled": true
   },
   "outputs": [
    {
     "name": "stdout",
     "output_type": "stream",
     "text": [
      "Number of Rows: 5895 \n",
      "Number of Columns: 4\n",
      "\n",
      "Features/Type:\n",
      "ID                      int64\n",
      "SiteID                 object\n",
      "ObservationTimeUTC     object\n",
      "Value                 float64\n",
      "dtype: object\n"
     ]
    }
   ],
   "source": [
    "data_check_csv('hourlyMonitoring.csv')"
   ]
  },
  {
   "cell_type": "markdown",
   "id": "55c5a587",
   "metadata": {},
   "source": [
    "# OpenWeather Current Weather"
   ]
  },
  {
   "cell_type": "markdown",
   "id": "7772c297",
   "metadata": {},
   "source": [
    "Link: https://openweathermap.org/.  \n",
    "Current Weather probably most relevant weather data needed. Not much use for Historical Weather.  \n",
    "Predictive data available - If we choose to incorporate.   "
   ]
  },
  {
   "cell_type": "markdown",
   "id": "0bbf7e1d",
   "metadata": {},
   "source": [
    "# OpenWeather Air Polution"
   ]
  },
  {
   "cell_type": "markdown",
   "id": "06e4adc5",
   "metadata": {},
   "source": [
    "Link: https://openweathermap.org/api/air-pollution.  \n",
    "Contains more information than 'Real Time Data Quality', also current.  \n",
    "Forecast and Historical Data available also.  \n",
    "Can't select city, only lat/long"
   ]
  },
  {
   "cell_type": "code",
   "execution_count": 29,
   "id": "fada0fb7",
   "metadata": {
    "ExecuteTime": {
     "end_time": "2024-05-29T07:53:09.068794Z",
     "start_time": "2024-05-29T07:53:09.065203Z"
    }
   },
   "outputs": [
    {
     "name": "stdout",
     "output_type": "stream",
     "text": [
      "{'coord': {'lon': -74.006, 'lat': 40.7128}, 'list': [{'main': {'aqi': 1}, 'components': {'co': 213.62, 'no': 0.01, 'no2': 7.2, 'o3': 36.48, 'so2': 1.34, 'pm2_5': 1.39, 'pm10': 2.33, 'nh3': 0.23}, 'dt': 1716969189}]}\n"
     ]
    }
   ],
   "source": [
    "print(json_data)"
   ]
  },
  {
   "cell_type": "code",
   "execution_count": 30,
   "id": "8f0a0068",
   "metadata": {
    "ExecuteTime": {
     "end_time": "2024-05-29T07:53:09.082448Z",
     "start_time": "2024-05-29T07:53:09.070281Z"
    },
    "scrolled": true
   },
   "outputs": [
    {
     "data": {
      "text/html": [
       "<div>\n",
       "<style scoped>\n",
       "    .dataframe tbody tr th:only-of-type {\n",
       "        vertical-align: middle;\n",
       "    }\n",
       "\n",
       "    .dataframe tbody tr th {\n",
       "        vertical-align: top;\n",
       "    }\n",
       "\n",
       "    .dataframe thead th {\n",
       "        text-align: right;\n",
       "    }\n",
       "</style>\n",
       "<table border=\"1\" class=\"dataframe\">\n",
       "  <thead>\n",
       "    <tr style=\"text-align: right;\">\n",
       "      <th></th>\n",
       "      <th>dt</th>\n",
       "      <th>main.aqi</th>\n",
       "      <th>components.co</th>\n",
       "      <th>components.no</th>\n",
       "      <th>components.no2</th>\n",
       "      <th>components.o3</th>\n",
       "      <th>components.so2</th>\n",
       "      <th>components.pm2_5</th>\n",
       "      <th>components.pm10</th>\n",
       "      <th>components.nh3</th>\n",
       "      <th>lon</th>\n",
       "      <th>lat</th>\n",
       "    </tr>\n",
       "  </thead>\n",
       "  <tbody>\n",
       "    <tr>\n",
       "      <th>0</th>\n",
       "      <td>1716969189</td>\n",
       "      <td>1</td>\n",
       "      <td>213.62</td>\n",
       "      <td>0.01</td>\n",
       "      <td>7.2</td>\n",
       "      <td>36.48</td>\n",
       "      <td>1.34</td>\n",
       "      <td>1.39</td>\n",
       "      <td>2.33</td>\n",
       "      <td>0.23</td>\n",
       "      <td>-74.006</td>\n",
       "      <td>40.7128</td>\n",
       "    </tr>\n",
       "  </tbody>\n",
       "</table>\n",
       "</div>"
      ],
      "text/plain": [
       "           dt  main.aqi  components.co  components.no  components.no2  \\\n",
       "0  1716969189         1         213.62           0.01             7.2   \n",
       "\n",
       "   components.o3  components.so2  components.pm2_5  components.pm10  \\\n",
       "0          36.48            1.34              1.39             2.33   \n",
       "\n",
       "   components.nh3     lon      lat  \n",
       "0            0.23 -74.006  40.7128  "
      ]
     },
     "execution_count": 30,
     "metadata": {},
     "output_type": "execute_result"
    }
   ],
   "source": [
    "df = pd.json_normalize(json_data['list'])\n",
    "\n",
    "df['lon'] = json_data['coord']['lon']\n",
    "df['lat'] = json_data['coord']['lat']\n",
    "\n",
    "df.head()"
   ]
  },
  {
   "cell_type": "markdown",
   "id": "4b35da6b",
   "metadata": {},
   "source": [
    "# NYC TLC Trip Data\n",
    "Link: https://www.nyc.gov/site/tlc/about/tlc-trip-record-data.page.  \n",
    "Contains monthly records of yellow and green taxi records, up-to-date as of March 2024"
   ]
  },
  {
   "cell_type": "code",
   "execution_count": 31,
   "id": "61fdbe0c",
   "metadata": {
    "ExecuteTime": {
     "end_time": "2024-05-29T07:53:09.284840Z",
     "start_time": "2024-05-29T07:53:09.084008Z"
    }
   },
   "outputs": [
    {
     "name": "stdout",
     "output_type": "stream",
     "text": [
      "Number of Rows: 2964624 \n",
      "Number of Columns: 19\n",
      "\n",
      "Features/Type:\n",
      "VendorID                          int32\n",
      "tpep_pickup_datetime     datetime64[us]\n",
      "tpep_dropoff_datetime    datetime64[us]\n",
      "passenger_count                 float64\n",
      "trip_distance                   float64\n",
      "RatecodeID                      float64\n",
      "store_and_fwd_flag               object\n",
      "PULocationID                      int32\n",
      "DOLocationID                      int32\n",
      "payment_type                      int64\n",
      "fare_amount                     float64\n",
      "extra                           float64\n",
      "mta_tax                         float64\n",
      "tip_amount                      float64\n",
      "tolls_amount                    float64\n",
      "improvement_surcharge           float64\n",
      "total_amount                    float64\n",
      "congestion_surcharge            float64\n",
      "Airport_fee                     float64\n",
      "dtype: object\n"
     ]
    }
   ],
   "source": [
    "data_check_parquet('yellow.parquet')"
   ]
  },
  {
   "cell_type": "markdown",
   "id": "6f95173e",
   "metadata": {},
   "source": [
    "# Automated Traffic Volume Counts\n",
    "Link: https://data.cityofnewyork.us/Transportation/Automated-Traffic-Volume-Counts/7ym2-wayt/about_data.  \n",
    "Uses automated traffic recorders to collect traffic data.  \n",
    "API Available."
   ]
  },
  {
   "cell_type": "code",
   "execution_count": 34,
   "id": "d96a0341",
   "metadata": {
    "ExecuteTime": {
     "end_time": "2024-05-29T08:00:17.339696Z",
     "start_time": "2024-05-29T08:00:16.077890Z"
    }
   },
   "outputs": [
    {
     "name": "stdout",
     "output_type": "stream",
     "text": [
      "Number of Rows: 1673725 \n",
      "Number of Columns: 14\n",
      "\n",
      "Features/Type:\n",
      "RequestID     int64\n",
      "Boro         object\n",
      "Yr            int64\n",
      "M             int64\n",
      "D             int64\n",
      "HH            int64\n",
      "MM            int64\n",
      "Vol           int64\n",
      "SegmentID     int64\n",
      "WktGeom      object\n",
      "street       object\n",
      "fromSt       object\n",
      "toSt         object\n",
      "Direction    object\n",
      "dtype: object\n"
     ]
    }
   ],
   "source": [
    "data_check_csv('Traffic_Volume.csv')"
   ]
  },
  {
   "cell_type": "markdown",
   "id": "68f5c416",
   "metadata": {},
   "source": [
    "# Points of Interest\n",
    "Link: https://data.cityofnewyork.us/City-Government/Points-Of-Interest/rxuy-2muj. \n",
    "Details points of interest across NYC.  \n",
    "API Available."
   ]
  },
  {
   "cell_type": "code",
   "execution_count": 35,
   "id": "a013da1d",
   "metadata": {
    "ExecuteTime": {
     "end_time": "2024-05-29T11:09:18.485784Z",
     "start_time": "2024-05-29T11:09:18.407270Z"
    },
    "scrolled": false
   },
   "outputs": [
    {
     "name": "stdout",
     "output_type": "stream",
     "text": [
      "Number of Rows: 20567 \n",
      "Number of Columns: 16\n",
      "\n",
      "Features/Type:\n",
      "the_geom       object\n",
      "SEGMENTID       int64\n",
      "COMPLEXID       int64\n",
      "SAFTYPE        object\n",
      "SOS           float64\n",
      "PLACEID         int64\n",
      "FACI_DOM        int64\n",
      "BIN             int64\n",
      "BOROUGH       float64\n",
      "CREATED        object\n",
      "MODIFIED       object\n",
      "FACILITY_T      int64\n",
      "SOURCE         object\n",
      "B7SC          float64\n",
      "PRI_ADD         int64\n",
      "NAME           object\n",
      "dtype: object\n"
     ]
    }
   ],
   "source": [
    "data_check_csv('Point_of_Interest.csv')"
   ]
  },
  {
   "cell_type": "code",
   "execution_count": null,
   "id": "7797411f",
   "metadata": {},
   "outputs": [],
   "source": []
  }
 ],
 "metadata": {
  "kernelspec": {
   "display_name": "Python 3 (ipykernel)",
   "language": "python",
   "name": "python3"
  },
  "language_info": {
   "codemirror_mode": {
    "name": "ipython",
    "version": 3
   },
   "file_extension": ".py",
   "mimetype": "text/x-python",
   "name": "python",
   "nbconvert_exporter": "python",
   "pygments_lexer": "ipython3",
   "version": "3.11.9"
  }
 },
 "nbformat": 4,
 "nbformat_minor": 5
}
